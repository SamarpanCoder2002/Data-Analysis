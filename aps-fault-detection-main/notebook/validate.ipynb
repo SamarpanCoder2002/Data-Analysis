{
 "cells": [
  {
   "cell_type": "code",
   "execution_count": 1,
   "metadata": {},
   "outputs": [],
   "source": [
    "from scipy import stats\n",
    "import numpy as np"
   ]
  },
  {
   "cell_type": "code",
   "execution_count": 4,
   "metadata": {},
   "outputs": [
    {
     "data": {
      "text/plain": [
       "KstestResult(statistic=0.5272727272727272, pvalue=7.26220122467953e-14)"
      ]
     },
     "execution_count": 4,
     "metadata": {},
     "output_type": "execute_result"
    }
   ],
   "source": [
    "rng = np.random.default_rng()\n",
    "sample1 = stats.uniform.rvs(size=100, random_state=rng)\n",
    "sample2 = stats.norm.rvs(size=110, random_state=rng)\n",
    "response=stats.ks_2samp(sample1, sample2)\n",
    "response"
   ]
  },
  {
   "cell_type": "code",
   "execution_count": 7,
   "metadata": {},
   "outputs": [
    {
     "data": {
      "text/plain": [
       "7.26e-14"
      ]
     },
     "execution_count": 7,
     "metadata": {},
     "output_type": "execute_result"
    }
   ],
   "source": [
    "round(response.pvalue,16)"
   ]
  },
  {
   "cell_type": "markdown",
   "metadata": {},
   "source": [
    "#### When pvalue is greater than 0.05, that belong to the same distribution. At that point, we can accept the null hypothesis."
   ]
  },
  {
   "cell_type": "markdown",
   "metadata": {},
   "source": [
    "#### Anomly in ny dataset\n",
    "\n",
    "1. High null Value\n",
    "2. Outlier\n",
    "3. Categorial:\n",
    "Gender --> MALE, FEMALE, OTHER"
   ]
  },
  {
   "cell_type": "code",
   "execution_count": 4,
   "metadata": {},
   "outputs": [],
   "source": [
    "import pandas as pd\n",
    "df = pd.read_csv(\"../artifact/12052022__103200/data_ingestion/dataset/train.csv\")"
   ]
  },
  {
   "cell_type": "code",
   "execution_count": 5,
   "metadata": {},
   "outputs": [
    {
     "data": {
      "text/html": [
       "<div>\n",
       "<style scoped>\n",
       "    .dataframe tbody tr th:only-of-type {\n",
       "        vertical-align: middle;\n",
       "    }\n",
       "\n",
       "    .dataframe tbody tr th {\n",
       "        vertical-align: top;\n",
       "    }\n",
       "\n",
       "    .dataframe thead th {\n",
       "        text-align: right;\n",
       "    }\n",
       "</style>\n",
       "<table border=\"1\" class=\"dataframe\">\n",
       "  <thead>\n",
       "    <tr style=\"text-align: right;\">\n",
       "      <th></th>\n",
       "      <th>class</th>\n",
       "      <th>aa_000</th>\n",
       "      <th>ab_000</th>\n",
       "      <th>ac_000</th>\n",
       "      <th>ad_000</th>\n",
       "      <th>ae_000</th>\n",
       "      <th>af_000</th>\n",
       "      <th>ag_000</th>\n",
       "      <th>ag_001</th>\n",
       "      <th>ag_002</th>\n",
       "      <th>...</th>\n",
       "      <th>ee_002</th>\n",
       "      <th>ee_003</th>\n",
       "      <th>ee_004</th>\n",
       "      <th>ee_005</th>\n",
       "      <th>ee_006</th>\n",
       "      <th>ee_007</th>\n",
       "      <th>ee_008</th>\n",
       "      <th>ee_009</th>\n",
       "      <th>ef_000</th>\n",
       "      <th>eg_000</th>\n",
       "    </tr>\n",
       "  </thead>\n",
       "  <tbody>\n",
       "    <tr>\n",
       "      <th>0</th>\n",
       "      <td>neg</td>\n",
       "      <td>586</td>\n",
       "      <td>0.0</td>\n",
       "      <td>2.130706e+09</td>\n",
       "      <td>24.0</td>\n",
       "      <td>0.0</td>\n",
       "      <td>0.0</td>\n",
       "      <td>0.0</td>\n",
       "      <td>0.0</td>\n",
       "      <td>0.0</td>\n",
       "      <td>...</td>\n",
       "      <td>2746.0</td>\n",
       "      <td>1212.0</td>\n",
       "      <td>2402.0</td>\n",
       "      <td>3140.0</td>\n",
       "      <td>2556.0</td>\n",
       "      <td>12024.0</td>\n",
       "      <td>10.0</td>\n",
       "      <td>0.0</td>\n",
       "      <td>0.0</td>\n",
       "      <td>0.0</td>\n",
       "    </tr>\n",
       "    <tr>\n",
       "      <th>1</th>\n",
       "      <td>neg</td>\n",
       "      <td>212</td>\n",
       "      <td>8.0</td>\n",
       "      <td>3.200000e+01</td>\n",
       "      <td>0.0</td>\n",
       "      <td>0.0</td>\n",
       "      <td>0.0</td>\n",
       "      <td>0.0</td>\n",
       "      <td>0.0</td>\n",
       "      <td>0.0</td>\n",
       "      <td>...</td>\n",
       "      <td>2758.0</td>\n",
       "      <td>518.0</td>\n",
       "      <td>1656.0</td>\n",
       "      <td>768.0</td>\n",
       "      <td>3166.0</td>\n",
       "      <td>106.0</td>\n",
       "      <td>0.0</td>\n",
       "      <td>0.0</td>\n",
       "      <td>0.0</td>\n",
       "      <td>0.0</td>\n",
       "    </tr>\n",
       "    <tr>\n",
       "      <th>2</th>\n",
       "      <td>neg</td>\n",
       "      <td>1950</td>\n",
       "      <td>NaN</td>\n",
       "      <td>2.130706e+09</td>\n",
       "      <td>32.0</td>\n",
       "      <td>0.0</td>\n",
       "      <td>0.0</td>\n",
       "      <td>0.0</td>\n",
       "      <td>0.0</td>\n",
       "      <td>0.0</td>\n",
       "      <td>...</td>\n",
       "      <td>5792.0</td>\n",
       "      <td>2526.0</td>\n",
       "      <td>8860.0</td>\n",
       "      <td>70478.0</td>\n",
       "      <td>288.0</td>\n",
       "      <td>4.0</td>\n",
       "      <td>0.0</td>\n",
       "      <td>0.0</td>\n",
       "      <td>0.0</td>\n",
       "      <td>0.0</td>\n",
       "    </tr>\n",
       "    <tr>\n",
       "      <th>3</th>\n",
       "      <td>neg</td>\n",
       "      <td>50916</td>\n",
       "      <td>NaN</td>\n",
       "      <td>2.130706e+09</td>\n",
       "      <td>246.0</td>\n",
       "      <td>0.0</td>\n",
       "      <td>0.0</td>\n",
       "      <td>0.0</td>\n",
       "      <td>0.0</td>\n",
       "      <td>0.0</td>\n",
       "      <td>...</td>\n",
       "      <td>461914.0</td>\n",
       "      <td>293648.0</td>\n",
       "      <td>558750.0</td>\n",
       "      <td>477034.0</td>\n",
       "      <td>270656.0</td>\n",
       "      <td>144116.0</td>\n",
       "      <td>136306.0</td>\n",
       "      <td>1482.0</td>\n",
       "      <td>0.0</td>\n",
       "      <td>0.0</td>\n",
       "    </tr>\n",
       "    <tr>\n",
       "      <th>4</th>\n",
       "      <td>neg</td>\n",
       "      <td>332</td>\n",
       "      <td>2.0</td>\n",
       "      <td>2.800000e+01</td>\n",
       "      <td>22.0</td>\n",
       "      <td>0.0</td>\n",
       "      <td>0.0</td>\n",
       "      <td>0.0</td>\n",
       "      <td>0.0</td>\n",
       "      <td>0.0</td>\n",
       "      <td>...</td>\n",
       "      <td>2474.0</td>\n",
       "      <td>650.0</td>\n",
       "      <td>1174.0</td>\n",
       "      <td>3560.0</td>\n",
       "      <td>3680.0</td>\n",
       "      <td>2294.0</td>\n",
       "      <td>0.0</td>\n",
       "      <td>0.0</td>\n",
       "      <td>0.0</td>\n",
       "      <td>0.0</td>\n",
       "    </tr>\n",
       "  </tbody>\n",
       "</table>\n",
       "<p>5 rows × 171 columns</p>\n",
       "</div>"
      ],
      "text/plain": [
       "  class  aa_000  ab_000        ac_000  ad_000  ae_000  af_000  ag_000  ag_001  \\\n",
       "0   neg     586     0.0  2.130706e+09    24.0     0.0     0.0     0.0     0.0   \n",
       "1   neg     212     8.0  3.200000e+01     0.0     0.0     0.0     0.0     0.0   \n",
       "2   neg    1950     NaN  2.130706e+09    32.0     0.0     0.0     0.0     0.0   \n",
       "3   neg   50916     NaN  2.130706e+09   246.0     0.0     0.0     0.0     0.0   \n",
       "4   neg     332     2.0  2.800000e+01    22.0     0.0     0.0     0.0     0.0   \n",
       "\n",
       "   ag_002  ...    ee_002    ee_003    ee_004    ee_005    ee_006    ee_007  \\\n",
       "0     0.0  ...    2746.0    1212.0    2402.0    3140.0    2556.0   12024.0   \n",
       "1     0.0  ...    2758.0     518.0    1656.0     768.0    3166.0     106.0   \n",
       "2     0.0  ...    5792.0    2526.0    8860.0   70478.0     288.0       4.0   \n",
       "3     0.0  ...  461914.0  293648.0  558750.0  477034.0  270656.0  144116.0   \n",
       "4     0.0  ...    2474.0     650.0    1174.0    3560.0    3680.0    2294.0   \n",
       "\n",
       "     ee_008  ee_009  ef_000  eg_000  \n",
       "0      10.0     0.0     0.0     0.0  \n",
       "1       0.0     0.0     0.0     0.0  \n",
       "2       0.0     0.0     0.0     0.0  \n",
       "3  136306.0  1482.0     0.0     0.0  \n",
       "4       0.0     0.0     0.0     0.0  \n",
       "\n",
       "[5 rows x 171 columns]"
      ]
     },
     "execution_count": 5,
     "metadata": {},
     "output_type": "execute_result"
    }
   ],
   "source": [
    "df.head()"
   ]
  },
  {
   "cell_type": "code",
   "execution_count": 8,
   "metadata": {},
   "outputs": [],
   "source": [
    "mapData = df.isnull().sum()/df.shape[0]"
   ]
  },
  {
   "cell_type": "code",
   "execution_count": 9,
   "metadata": {},
   "outputs": [
    {
     "data": {
      "text/plain": [
       "class     0.000000\n",
       "aa_000    0.000000\n",
       "ab_000    0.769845\n",
       "ac_000    0.059620\n",
       "ad_000    0.255613\n",
       "            ...   \n",
       "ee_007    0.010950\n",
       "ee_008    0.010950\n",
       "ee_009    0.010950\n",
       "ef_000    0.047737\n",
       "eg_000    0.047703\n",
       "Length: 171, dtype: float64"
      ]
     },
     "execution_count": 9,
     "metadata": {},
     "output_type": "execute_result"
    }
   ],
   "source": [
    "mapData"
   ]
  },
  {
   "cell_type": "code",
   "execution_count": 11,
   "metadata": {},
   "outputs": [
    {
     "data": {
      "text/plain": [
       "Index(['class', 'aa_000', 'ab_000', 'ac_000', 'ad_000', 'ae_000', 'af_000',\n",
       "       'ag_000', 'ag_001', 'ag_002',\n",
       "       ...\n",
       "       'ee_002', 'ee_003', 'ee_004', 'ee_005', 'ee_006', 'ee_007', 'ee_008',\n",
       "       'ee_009', 'ef_000', 'eg_000'],\n",
       "      dtype='object', length=171)"
      ]
     },
     "execution_count": 11,
     "metadata": {},
     "output_type": "execute_result"
    }
   ],
   "source": [
    "mapData.index # Getting columns"
   ]
  },
  {
   "cell_type": "code",
   "execution_count": 13,
   "metadata": {},
   "outputs": [
    {
     "data": {
      "text/plain": [
       "array([ 0.        ,  0.        , 76.98445596,  5.96200345, 25.56131261,\n",
       "        4.38687392,  4.38687392,  1.09499136,  1.09499136,  1.09499136,\n",
       "        1.09499136,  1.09499136,  1.09499136,  1.09499136,  1.09499136,\n",
       "        1.09499136,  1.09499136,  1.05354059,  1.02590674,  1.02590674,\n",
       "        7.71675302,  1.06044905,  1.02590674,  1.06044905,  0.9671848 ,\n",
       "        1.06044905,  0.9671848 ,  4.77029361,  1.02590674,  1.02590674,\n",
       "        1.02590674,  4.39032815,  4.39378238,  1.09499136,  1.09499136,\n",
       "        1.09499136,  1.09499136,  1.09499136,  1.09499136,  1.09499136,\n",
       "        1.09499136,  1.09499136,  1.09499136,  1.09499136,  1.09499136,\n",
       "        1.09499136,  1.09499136,  1.09499136,  1.09499136,  1.09499136,\n",
       "        1.09499136,  1.09499136,  1.09499136,  1.11571675,  1.11571675,\n",
       "        1.11571675,  1.11571675,  1.11571675,  1.11571675,  1.11571675,\n",
       "        1.11571675,  1.11571675,  1.11571675,  1.05354059,  4.77374784,\n",
       "        4.77720207,  4.39378238,  4.38687392,  1.06044905,  1.06044905,\n",
       "        0.9671848 ,  0.9671848 , 38.34196891, 45.25043178, 65.52331606,\n",
       "       72.74265976, 76.49395509, 78.68393782, 80.43523316, 81.31951641,\n",
       "        1.17098446,  0.22107081,  1.11917098,  1.11917098,  5.28151986,\n",
       "        0.75647668,  4.77029361,  7.62694301,  1.17098446,  5.27806563,\n",
       "        1.12607945,  4.39378238, 25.56131261, 25.56131261, 25.56131261,\n",
       "        0.57685665,  0.57685665,  0.57685665, 16.02072539, 16.63557858,\n",
       "        1.11226252,  1.11226252,  1.11226252,  1.11226252,  1.11226252,\n",
       "        1.11226252,  1.11226252,  1.11226252,  1.11226252,  1.11226252,\n",
       "       25.56131261,  4.77374784,  1.11917098, 76.98445596,  1.09153713,\n",
       "        1.09153713,  1.09153713,  1.09153713,  1.09153713,  1.09153713,\n",
       "        1.09153713,  1.09153713,  1.09153713,  1.09153713, 23.66493955,\n",
       "       23.66493955, 23.66493955, 23.66493955, 23.66493955, 23.66493955,\n",
       "       23.66493955, 23.66493955, 23.66493955,  4.39723661,  4.77374784,\n",
       "        7.08117444,  7.08117444,  7.08117444,  7.07426598,  7.07772021,\n",
       "        7.07772021,  7.08117444,  7.08462867,  1.11917098,  4.77374784,\n",
       "        4.7806563 ,  4.7806563 ,  4.77720207,  4.7806563 ,  4.7806563 ,\n",
       "        4.77720207,  4.77720207,  4.77029361,  4.77374784,  4.77029361,\n",
       "        4.77029361,  7.07772021, 17.24352332, 16.02072539,  1.09499136,\n",
       "        1.09499136,  1.09499136,  1.09499136,  1.09499136,  1.09499136,\n",
       "        1.09499136,  1.09499136,  1.09499136,  1.09499136,  4.77374784,\n",
       "        4.77029361])"
      ]
     },
     "execution_count": 13,
     "metadata": {},
     "output_type": "execute_result"
    }
   ],
   "source": [
    "mapData.values*100"
   ]
  },
  {
   "cell_type": "code",
   "execution_count": 15,
   "metadata": {},
   "outputs": [],
   "source": [
    "drop_column_names = []\n",
    "for column_name, missing_perc in zip((mapData.index), (mapData.values)):\n",
    "    if missing_perc > 0.3:\n",
    "        drop_column_names.append(column_name)"
   ]
  },
  {
   "cell_type": "code",
   "execution_count": 16,
   "metadata": {},
   "outputs": [
    {
     "data": {
      "text/plain": [
       "['ab_000',\n",
       " 'bk_000',\n",
       " 'bl_000',\n",
       " 'bm_000',\n",
       " 'bn_000',\n",
       " 'bo_000',\n",
       " 'bp_000',\n",
       " 'bq_000',\n",
       " 'br_000',\n",
       " 'cr_000']"
      ]
     },
     "execution_count": 16,
     "metadata": {},
     "output_type": "execute_result"
    }
   ],
   "source": [
    "drop_column_names"
   ]
  },
  {
   "cell_type": "code",
   "execution_count": 17,
   "metadata": {},
   "outputs": [
    {
     "data": {
      "text/plain": [
       "Index(['class', 'aa_000', 'ab_000', 'ac_000', 'ad_000', 'ae_000', 'af_000',\n",
       "       'ag_000', 'ag_001', 'ag_002',\n",
       "       ...\n",
       "       'ee_002', 'ee_003', 'ee_004', 'ee_005', 'ee_006', 'ee_007', 'ee_008',\n",
       "       'ee_009', 'ef_000', 'eg_000'],\n",
       "      dtype='object', length=171)"
      ]
     },
     "execution_count": 17,
     "metadata": {},
     "output_type": "execute_result"
    }
   ],
   "source": [
    "null_report = df.isna().sum()/df.shape[0]\n",
    "null_report.index"
   ]
  },
  {
   "cell_type": "code",
   "execution_count": 18,
   "metadata": {},
   "outputs": [],
   "source": [
    "null_report = df.isna().sum()/df.shape[0]\n",
    "drop_column_names = null_report[null_report.values > 0.3].index\n",
    "df.drop(list(drop_column_names), axis=1, inplace=True)"
   ]
  },
  {
   "cell_type": "code",
   "execution_count": 19,
   "metadata": {},
   "outputs": [
    {
     "data": {
      "text/plain": [
       "Index(['class', 'aa_000', 'ab_000', 'ac_000', 'ad_000', 'ae_000', 'af_000',\n",
       "       'ag_000', 'ag_001', 'ag_002',\n",
       "       ...\n",
       "       'ee_002', 'ee_003', 'ee_004', 'ee_005', 'ee_006', 'ee_007', 'ee_008',\n",
       "       'ee_009', 'ef_000', 'eg_000'],\n",
       "      dtype='object', length=171)"
      ]
     },
     "execution_count": 19,
     "metadata": {},
     "output_type": "execute_result"
    }
   ],
   "source": [
    "null_report.index"
   ]
  },
  {
   "cell_type": "code",
   "execution_count": 21,
   "metadata": {},
   "outputs": [
    {
     "data": {
      "text/plain": [
       "Index(['class', 'aa_000', 'ac_000', 'ad_000', 'ae_000', 'af_000', 'ag_000',\n",
       "       'ag_001', 'ag_002', 'ag_003',\n",
       "       ...\n",
       "       'ee_002', 'ee_003', 'ee_004', 'ee_005', 'ee_006', 'ee_007', 'ee_008',\n",
       "       'ee_009', 'ef_000', 'eg_000'],\n",
       "      dtype='object', length=161)"
      ]
     },
     "execution_count": 21,
     "metadata": {},
     "output_type": "execute_result"
    }
   ],
   "source": [
    "df.columns"
   ]
  },
  {
   "cell_type": "code",
   "execution_count": null,
   "metadata": {},
   "outputs": [],
   "source": []
  }
 ],
 "metadata": {
  "kernelspec": {
   "display_name": "Python 3.10.4 64-bit",
   "language": "python",
   "name": "python3"
  },
  "language_info": {
   "codemirror_mode": {
    "name": "ipython",
    "version": 3
   },
   "file_extension": ".py",
   "mimetype": "text/x-python",
   "name": "python",
   "nbconvert_exporter": "python",
   "pygments_lexer": "ipython3",
   "version": "3.10.4"
  },
  "orig_nbformat": 4,
  "vscode": {
   "interpreter": {
    "hash": "e135d735d818b21ead983ee185293424bc6f086fb0feae7ec425ba640a0aec5a"
   }
  }
 },
 "nbformat": 4,
 "nbformat_minor": 2
}
