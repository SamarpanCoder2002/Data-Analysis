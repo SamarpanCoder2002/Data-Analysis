{
 "cells": [
  {
   "cell_type": "code",
   "execution_count": 42,
   "id": "2c09982d",
   "metadata": {},
   "outputs": [],
   "source": [
    "import pandas as pd\n",
    "import numpy as np\n",
    "import seaborn as sns\n",
    "import matplotlib.pyplot as plt\n",
    "%matplotlib inline\n",
    "import warnings\n",
    "warnings.filterwarnings(\"ignore\")"
   ]
  },
  {
   "cell_type": "code",
   "execution_count": 43,
   "id": "849fd97f",
   "metadata": {},
   "outputs": [],
   "source": [
    "# Reading the dataset\n",
    "df = pd.read_csv(r\"\"\"Algerian Cleanned dataset.csv\"\"\")"
   ]
  },
  {
   "cell_type": "code",
   "execution_count": 44,
   "id": "c189b2f3",
   "metadata": {},
   "outputs": [],
   "source": [
    "# Remove Unusual columns\n",
    "df.drop('Unnamed: 0',axis = 1, inplace=True)"
   ]
  },
  {
   "cell_type": "code",
   "execution_count": 45,
   "id": "73e2b9af",
   "metadata": {},
   "outputs": [
    {
     "data": {
      "text/html": [
       "<div>\n",
       "<style scoped>\n",
       "    .dataframe tbody tr th:only-of-type {\n",
       "        vertical-align: middle;\n",
       "    }\n",
       "\n",
       "    .dataframe tbody tr th {\n",
       "        vertical-align: top;\n",
       "    }\n",
       "\n",
       "    .dataframe thead th {\n",
       "        text-align: right;\n",
       "    }\n",
       "</style>\n",
       "<table border=\"1\" class=\"dataframe\">\n",
       "  <thead>\n",
       "    <tr style=\"text-align: right;\">\n",
       "      <th></th>\n",
       "      <th>Temperature</th>\n",
       "      <th>RH</th>\n",
       "      <th>Ws</th>\n",
       "      <th>Rain</th>\n",
       "      <th>FFMC</th>\n",
       "      <th>DMC</th>\n",
       "      <th>DC</th>\n",
       "      <th>ISI</th>\n",
       "      <th>BUI</th>\n",
       "      <th>FWI</th>\n",
       "      <th>Classes</th>\n",
       "      <th>Region</th>\n",
       "      <th>Date</th>\n",
       "    </tr>\n",
       "  </thead>\n",
       "  <tbody>\n",
       "    <tr>\n",
       "      <th>0</th>\n",
       "      <td>29</td>\n",
       "      <td>57</td>\n",
       "      <td>18.0</td>\n",
       "      <td>0.0</td>\n",
       "      <td>65.7</td>\n",
       "      <td>3.4</td>\n",
       "      <td>7.6</td>\n",
       "      <td>1.3</td>\n",
       "      <td>3.4</td>\n",
       "      <td>0.5</td>\n",
       "      <td>0.0</td>\n",
       "      <td>Bejaia</td>\n",
       "      <td>2012-06-01</td>\n",
       "    </tr>\n",
       "    <tr>\n",
       "      <th>1</th>\n",
       "      <td>29</td>\n",
       "      <td>61</td>\n",
       "      <td>13.0</td>\n",
       "      <td>1.3</td>\n",
       "      <td>64.4</td>\n",
       "      <td>4.1</td>\n",
       "      <td>7.6</td>\n",
       "      <td>1.0</td>\n",
       "      <td>3.9</td>\n",
       "      <td>0.4</td>\n",
       "      <td>0.0</td>\n",
       "      <td>Bejaia</td>\n",
       "      <td>2012-06-02</td>\n",
       "    </tr>\n",
       "    <tr>\n",
       "      <th>2</th>\n",
       "      <td>26</td>\n",
       "      <td>82</td>\n",
       "      <td>22.0</td>\n",
       "      <td>13.1</td>\n",
       "      <td>47.1</td>\n",
       "      <td>2.5</td>\n",
       "      <td>7.1</td>\n",
       "      <td>0.3</td>\n",
       "      <td>2.7</td>\n",
       "      <td>0.1</td>\n",
       "      <td>0.0</td>\n",
       "      <td>Bejaia</td>\n",
       "      <td>2012-06-03</td>\n",
       "    </tr>\n",
       "    <tr>\n",
       "      <th>3</th>\n",
       "      <td>25</td>\n",
       "      <td>89</td>\n",
       "      <td>13.0</td>\n",
       "      <td>2.5</td>\n",
       "      <td>28.6</td>\n",
       "      <td>1.3</td>\n",
       "      <td>6.9</td>\n",
       "      <td>0.0</td>\n",
       "      <td>1.7</td>\n",
       "      <td>0</td>\n",
       "      <td>0.0</td>\n",
       "      <td>Bejaia</td>\n",
       "      <td>2012-06-04</td>\n",
       "    </tr>\n",
       "    <tr>\n",
       "      <th>4</th>\n",
       "      <td>27</td>\n",
       "      <td>77</td>\n",
       "      <td>16.0</td>\n",
       "      <td>0.0</td>\n",
       "      <td>64.8</td>\n",
       "      <td>3.0</td>\n",
       "      <td>14.2</td>\n",
       "      <td>1.2</td>\n",
       "      <td>3.9</td>\n",
       "      <td>0.5</td>\n",
       "      <td>0.0</td>\n",
       "      <td>Bejaia</td>\n",
       "      <td>2012-06-05</td>\n",
       "    </tr>\n",
       "    <tr>\n",
       "      <th>...</th>\n",
       "      <td>...</td>\n",
       "      <td>...</td>\n",
       "      <td>...</td>\n",
       "      <td>...</td>\n",
       "      <td>...</td>\n",
       "      <td>...</td>\n",
       "      <td>...</td>\n",
       "      <td>...</td>\n",
       "      <td>...</td>\n",
       "      <td>...</td>\n",
       "      <td>...</td>\n",
       "      <td>...</td>\n",
       "      <td>...</td>\n",
       "    </tr>\n",
       "    <tr>\n",
       "      <th>239</th>\n",
       "      <td>30</td>\n",
       "      <td>65</td>\n",
       "      <td>14.0</td>\n",
       "      <td>0.0</td>\n",
       "      <td>85.4</td>\n",
       "      <td>16.0</td>\n",
       "      <td>44.5</td>\n",
       "      <td>4.5</td>\n",
       "      <td>16.9</td>\n",
       "      <td>6.5</td>\n",
       "      <td>1.0</td>\n",
       "      <td>Sidi Bel-abbes</td>\n",
       "      <td>2012-09-26</td>\n",
       "    </tr>\n",
       "    <tr>\n",
       "      <th>240</th>\n",
       "      <td>28</td>\n",
       "      <td>87</td>\n",
       "      <td>15.0</td>\n",
       "      <td>4.4</td>\n",
       "      <td>41.1</td>\n",
       "      <td>6.5</td>\n",
       "      <td>8</td>\n",
       "      <td>0.1</td>\n",
       "      <td>6.2</td>\n",
       "      <td>0</td>\n",
       "      <td>0.0</td>\n",
       "      <td>Sidi Bel-abbes</td>\n",
       "      <td>2012-09-27</td>\n",
       "    </tr>\n",
       "    <tr>\n",
       "      <th>241</th>\n",
       "      <td>27</td>\n",
       "      <td>87</td>\n",
       "      <td>29.0</td>\n",
       "      <td>0.5</td>\n",
       "      <td>45.9</td>\n",
       "      <td>3.5</td>\n",
       "      <td>7.9</td>\n",
       "      <td>0.4</td>\n",
       "      <td>3.4</td>\n",
       "      <td>0.2</td>\n",
       "      <td>0.0</td>\n",
       "      <td>Sidi Bel-abbes</td>\n",
       "      <td>2012-09-28</td>\n",
       "    </tr>\n",
       "    <tr>\n",
       "      <th>242</th>\n",
       "      <td>24</td>\n",
       "      <td>54</td>\n",
       "      <td>18.0</td>\n",
       "      <td>0.1</td>\n",
       "      <td>79.7</td>\n",
       "      <td>4.3</td>\n",
       "      <td>15.2</td>\n",
       "      <td>1.7</td>\n",
       "      <td>5.1</td>\n",
       "      <td>0.7</td>\n",
       "      <td>0.0</td>\n",
       "      <td>Sidi Bel-abbes</td>\n",
       "      <td>2012-09-29</td>\n",
       "    </tr>\n",
       "    <tr>\n",
       "      <th>243</th>\n",
       "      <td>24</td>\n",
       "      <td>64</td>\n",
       "      <td>15.0</td>\n",
       "      <td>0.2</td>\n",
       "      <td>67.3</td>\n",
       "      <td>3.8</td>\n",
       "      <td>16.5</td>\n",
       "      <td>1.2</td>\n",
       "      <td>4.8</td>\n",
       "      <td>0.5</td>\n",
       "      <td>0.0</td>\n",
       "      <td>Sidi Bel-abbes</td>\n",
       "      <td>2012-09-30</td>\n",
       "    </tr>\n",
       "  </tbody>\n",
       "</table>\n",
       "<p>244 rows × 13 columns</p>\n",
       "</div>"
      ],
      "text/plain": [
       "     Temperature  RH    Ws  Rain  FFMC   DMC    DC  ISI   BUI  FWI  Classes  \\\n",
       "0             29  57  18.0   0.0  65.7   3.4   7.6  1.3   3.4  0.5      0.0   \n",
       "1             29  61  13.0   1.3  64.4   4.1   7.6  1.0   3.9  0.4      0.0   \n",
       "2             26  82  22.0  13.1  47.1   2.5   7.1  0.3   2.7  0.1      0.0   \n",
       "3             25  89  13.0   2.5  28.6   1.3   6.9  0.0   1.7    0      0.0   \n",
       "4             27  77  16.0   0.0  64.8   3.0  14.2  1.2   3.9  0.5      0.0   \n",
       "..           ...  ..   ...   ...   ...   ...   ...  ...   ...  ...      ...   \n",
       "239           30  65  14.0   0.0  85.4  16.0  44.5  4.5  16.9  6.5      1.0   \n",
       "240           28  87  15.0   4.4  41.1   6.5     8  0.1   6.2    0      0.0   \n",
       "241           27  87  29.0   0.5  45.9   3.5   7.9  0.4   3.4  0.2      0.0   \n",
       "242           24  54  18.0   0.1  79.7   4.3  15.2  1.7   5.1  0.7      0.0   \n",
       "243           24  64  15.0   0.2  67.3   3.8  16.5  1.2   4.8  0.5      0.0   \n",
       "\n",
       "             Region        Date  \n",
       "0            Bejaia  2012-06-01  \n",
       "1            Bejaia  2012-06-02  \n",
       "2            Bejaia  2012-06-03  \n",
       "3            Bejaia  2012-06-04  \n",
       "4            Bejaia  2012-06-05  \n",
       "..              ...         ...  \n",
       "239  Sidi Bel-abbes  2012-09-26  \n",
       "240  Sidi Bel-abbes  2012-09-27  \n",
       "241  Sidi Bel-abbes  2012-09-28  \n",
       "242  Sidi Bel-abbes  2012-09-29  \n",
       "243  Sidi Bel-abbes  2012-09-30  \n",
       "\n",
       "[244 rows x 13 columns]"
      ]
     },
     "execution_count": 45,
     "metadata": {},
     "output_type": "execute_result"
    }
   ],
   "source": [
    "# Showing the dataset\n",
    "df"
   ]
  },
  {
   "cell_type": "markdown",
   "id": "e6ca390e",
   "metadata": {},
   "source": [
    "## Now perform basic EDA Operation"
   ]
  },
  {
   "cell_type": "code",
   "execution_count": 46,
   "id": "f8ebc38f",
   "metadata": {},
   "outputs": [
    {
     "data": {
      "text/html": [
       "<div>\n",
       "<style scoped>\n",
       "    .dataframe tbody tr th:only-of-type {\n",
       "        vertical-align: middle;\n",
       "    }\n",
       "\n",
       "    .dataframe tbody tr th {\n",
       "        vertical-align: top;\n",
       "    }\n",
       "\n",
       "    .dataframe thead th {\n",
       "        text-align: right;\n",
       "    }\n",
       "</style>\n",
       "<table border=\"1\" class=\"dataframe\">\n",
       "  <thead>\n",
       "    <tr style=\"text-align: right;\">\n",
       "      <th></th>\n",
       "      <th>count</th>\n",
       "      <th>mean</th>\n",
       "      <th>std</th>\n",
       "      <th>min</th>\n",
       "      <th>25%</th>\n",
       "      <th>50%</th>\n",
       "      <th>75%</th>\n",
       "      <th>max</th>\n",
       "    </tr>\n",
       "  </thead>\n",
       "  <tbody>\n",
       "    <tr>\n",
       "      <th>Temperature</th>\n",
       "      <td>244.0</td>\n",
       "      <td>32.172131</td>\n",
       "      <td>3.633843</td>\n",
       "      <td>22.0</td>\n",
       "      <td>30.000</td>\n",
       "      <td>32.00</td>\n",
       "      <td>35.000</td>\n",
       "      <td>42.0</td>\n",
       "    </tr>\n",
       "    <tr>\n",
       "      <th>RH</th>\n",
       "      <td>244.0</td>\n",
       "      <td>61.938525</td>\n",
       "      <td>14.884200</td>\n",
       "      <td>21.0</td>\n",
       "      <td>52.000</td>\n",
       "      <td>63.00</td>\n",
       "      <td>73.250</td>\n",
       "      <td>90.0</td>\n",
       "    </tr>\n",
       "    <tr>\n",
       "      <th>Ws</th>\n",
       "      <td>244.0</td>\n",
       "      <td>15.504098</td>\n",
       "      <td>2.810178</td>\n",
       "      <td>6.0</td>\n",
       "      <td>14.000</td>\n",
       "      <td>15.00</td>\n",
       "      <td>17.000</td>\n",
       "      <td>29.0</td>\n",
       "    </tr>\n",
       "    <tr>\n",
       "      <th>Rain</th>\n",
       "      <td>244.0</td>\n",
       "      <td>0.760656</td>\n",
       "      <td>1.999406</td>\n",
       "      <td>0.0</td>\n",
       "      <td>0.000</td>\n",
       "      <td>0.00</td>\n",
       "      <td>0.500</td>\n",
       "      <td>16.8</td>\n",
       "    </tr>\n",
       "    <tr>\n",
       "      <th>FFMC</th>\n",
       "      <td>244.0</td>\n",
       "      <td>77.887705</td>\n",
       "      <td>14.337571</td>\n",
       "      <td>28.6</td>\n",
       "      <td>72.075</td>\n",
       "      <td>83.50</td>\n",
       "      <td>88.300</td>\n",
       "      <td>96.0</td>\n",
       "    </tr>\n",
       "    <tr>\n",
       "      <th>DMC</th>\n",
       "      <td>244.0</td>\n",
       "      <td>14.673361</td>\n",
       "      <td>12.368039</td>\n",
       "      <td>0.7</td>\n",
       "      <td>5.800</td>\n",
       "      <td>11.30</td>\n",
       "      <td>20.750</td>\n",
       "      <td>65.9</td>\n",
       "    </tr>\n",
       "    <tr>\n",
       "      <th>ISI</th>\n",
       "      <td>244.0</td>\n",
       "      <td>4.774180</td>\n",
       "      <td>4.175318</td>\n",
       "      <td>0.0</td>\n",
       "      <td>1.400</td>\n",
       "      <td>3.50</td>\n",
       "      <td>7.300</td>\n",
       "      <td>19.0</td>\n",
       "    </tr>\n",
       "    <tr>\n",
       "      <th>BUI</th>\n",
       "      <td>244.0</td>\n",
       "      <td>16.664754</td>\n",
       "      <td>14.204824</td>\n",
       "      <td>1.1</td>\n",
       "      <td>6.000</td>\n",
       "      <td>12.25</td>\n",
       "      <td>22.525</td>\n",
       "      <td>68.0</td>\n",
       "    </tr>\n",
       "    <tr>\n",
       "      <th>Classes</th>\n",
       "      <td>244.0</td>\n",
       "      <td>0.565574</td>\n",
       "      <td>0.496700</td>\n",
       "      <td>0.0</td>\n",
       "      <td>0.000</td>\n",
       "      <td>1.00</td>\n",
       "      <td>1.000</td>\n",
       "      <td>1.0</td>\n",
       "    </tr>\n",
       "  </tbody>\n",
       "</table>\n",
       "</div>"
      ],
      "text/plain": [
       "             count       mean        std   min     25%    50%     75%   max\n",
       "Temperature  244.0  32.172131   3.633843  22.0  30.000  32.00  35.000  42.0\n",
       "RH           244.0  61.938525  14.884200  21.0  52.000  63.00  73.250  90.0\n",
       "Ws           244.0  15.504098   2.810178   6.0  14.000  15.00  17.000  29.0\n",
       "Rain         244.0   0.760656   1.999406   0.0   0.000   0.00   0.500  16.8\n",
       "FFMC         244.0  77.887705  14.337571  28.6  72.075  83.50  88.300  96.0\n",
       "DMC          244.0  14.673361  12.368039   0.7   5.800  11.30  20.750  65.9\n",
       "ISI          244.0   4.774180   4.175318   0.0   1.400   3.50   7.300  19.0\n",
       "BUI          244.0  16.664754  14.204824   1.1   6.000  12.25  22.525  68.0\n",
       "Classes      244.0   0.565574   0.496700   0.0   0.000   1.00   1.000   1.0"
      ]
     },
     "execution_count": 46,
     "metadata": {},
     "output_type": "execute_result"
    }
   ],
   "source": [
    "# Looking into general statistical features\n",
    "df.describe().T"
   ]
  },
  {
   "cell_type": "code",
   "execution_count": 47,
   "id": "03094528",
   "metadata": {},
   "outputs": [
    {
     "data": {
      "text/plain": [
       "Temperature    0\n",
       "RH             0\n",
       "Ws             0\n",
       "Rain           0\n",
       "FFMC           0\n",
       "DMC            0\n",
       "DC             0\n",
       "ISI            0\n",
       "BUI            0\n",
       "FWI            0\n",
       "Classes        0\n",
       "Region         0\n",
       "Date           0\n",
       "dtype: int64"
      ]
     },
     "execution_count": 47,
     "metadata": {},
     "output_type": "execute_result"
    }
   ],
   "source": [
    "# Checking is null value is present or not\n",
    "df.isnull().sum()"
   ]
  },
  {
   "cell_type": "code",
   "execution_count": 48,
   "id": "33e23234",
   "metadata": {},
   "outputs": [
    {
     "data": {
      "text/html": [
       "<div>\n",
       "<style scoped>\n",
       "    .dataframe tbody tr th:only-of-type {\n",
       "        vertical-align: middle;\n",
       "    }\n",
       "\n",
       "    .dataframe tbody tr th {\n",
       "        vertical-align: top;\n",
       "    }\n",
       "\n",
       "    .dataframe thead th {\n",
       "        text-align: right;\n",
       "    }\n",
       "</style>\n",
       "<table border=\"1\" class=\"dataframe\">\n",
       "  <thead>\n",
       "    <tr style=\"text-align: right;\">\n",
       "      <th></th>\n",
       "      <th>Temperature</th>\n",
       "      <th>RH</th>\n",
       "      <th>Ws</th>\n",
       "      <th>Rain</th>\n",
       "      <th>FFMC</th>\n",
       "      <th>DMC</th>\n",
       "      <th>ISI</th>\n",
       "      <th>BUI</th>\n",
       "      <th>Classes</th>\n",
       "    </tr>\n",
       "  </thead>\n",
       "  <tbody>\n",
       "    <tr>\n",
       "      <th>Temperature</th>\n",
       "      <td>1.000000</td>\n",
       "      <td>-0.654443</td>\n",
       "      <td>-0.278132</td>\n",
       "      <td>-0.326786</td>\n",
       "      <td>0.677491</td>\n",
       "      <td>0.483105</td>\n",
       "      <td>0.607551</td>\n",
       "      <td>0.455504</td>\n",
       "      <td>0.518119</td>\n",
       "    </tr>\n",
       "    <tr>\n",
       "      <th>RH</th>\n",
       "      <td>-0.654443</td>\n",
       "      <td>1.000000</td>\n",
       "      <td>0.236084</td>\n",
       "      <td>0.222968</td>\n",
       "      <td>-0.645658</td>\n",
       "      <td>-0.405133</td>\n",
       "      <td>-0.690637</td>\n",
       "      <td>-0.348587</td>\n",
       "      <td>-0.435023</td>\n",
       "    </tr>\n",
       "    <tr>\n",
       "      <th>Ws</th>\n",
       "      <td>-0.278132</td>\n",
       "      <td>0.236084</td>\n",
       "      <td>1.000000</td>\n",
       "      <td>0.170169</td>\n",
       "      <td>-0.163255</td>\n",
       "      <td>-0.001246</td>\n",
       "      <td>0.015248</td>\n",
       "      <td>0.029756</td>\n",
       "      <td>-0.066529</td>\n",
       "    </tr>\n",
       "    <tr>\n",
       "      <th>Rain</th>\n",
       "      <td>-0.326786</td>\n",
       "      <td>0.222968</td>\n",
       "      <td>0.170169</td>\n",
       "      <td>1.000000</td>\n",
       "      <td>-0.544045</td>\n",
       "      <td>-0.288548</td>\n",
       "      <td>-0.347105</td>\n",
       "      <td>-0.299171</td>\n",
       "      <td>-0.379449</td>\n",
       "    </tr>\n",
       "    <tr>\n",
       "      <th>FFMC</th>\n",
       "      <td>0.677491</td>\n",
       "      <td>-0.645658</td>\n",
       "      <td>-0.163255</td>\n",
       "      <td>-0.544045</td>\n",
       "      <td>1.000000</td>\n",
       "      <td>0.602391</td>\n",
       "      <td>0.739730</td>\n",
       "      <td>0.589652</td>\n",
       "      <td>0.770114</td>\n",
       "    </tr>\n",
       "    <tr>\n",
       "      <th>DMC</th>\n",
       "      <td>0.483105</td>\n",
       "      <td>-0.405133</td>\n",
       "      <td>-0.001246</td>\n",
       "      <td>-0.288548</td>\n",
       "      <td>0.602391</td>\n",
       "      <td>1.000000</td>\n",
       "      <td>0.674499</td>\n",
       "      <td>0.982073</td>\n",
       "      <td>0.584188</td>\n",
       "    </tr>\n",
       "    <tr>\n",
       "      <th>ISI</th>\n",
       "      <td>0.607551</td>\n",
       "      <td>-0.690637</td>\n",
       "      <td>0.015248</td>\n",
       "      <td>-0.347105</td>\n",
       "      <td>0.739730</td>\n",
       "      <td>0.674499</td>\n",
       "      <td>1.000000</td>\n",
       "      <td>0.635891</td>\n",
       "      <td>0.735511</td>\n",
       "    </tr>\n",
       "    <tr>\n",
       "      <th>BUI</th>\n",
       "      <td>0.455504</td>\n",
       "      <td>-0.348587</td>\n",
       "      <td>0.029756</td>\n",
       "      <td>-0.299171</td>\n",
       "      <td>0.589652</td>\n",
       "      <td>0.982073</td>\n",
       "      <td>0.635891</td>\n",
       "      <td>1.000000</td>\n",
       "      <td>0.583882</td>\n",
       "    </tr>\n",
       "    <tr>\n",
       "      <th>Classes</th>\n",
       "      <td>0.518119</td>\n",
       "      <td>-0.435023</td>\n",
       "      <td>-0.066529</td>\n",
       "      <td>-0.379449</td>\n",
       "      <td>0.770114</td>\n",
       "      <td>0.584188</td>\n",
       "      <td>0.735511</td>\n",
       "      <td>0.583882</td>\n",
       "      <td>1.000000</td>\n",
       "    </tr>\n",
       "  </tbody>\n",
       "</table>\n",
       "</div>"
      ],
      "text/plain": [
       "             Temperature        RH        Ws      Rain      FFMC       DMC  \\\n",
       "Temperature     1.000000 -0.654443 -0.278132 -0.326786  0.677491  0.483105   \n",
       "RH             -0.654443  1.000000  0.236084  0.222968 -0.645658 -0.405133   \n",
       "Ws             -0.278132  0.236084  1.000000  0.170169 -0.163255 -0.001246   \n",
       "Rain           -0.326786  0.222968  0.170169  1.000000 -0.544045 -0.288548   \n",
       "FFMC            0.677491 -0.645658 -0.163255 -0.544045  1.000000  0.602391   \n",
       "DMC             0.483105 -0.405133 -0.001246 -0.288548  0.602391  1.000000   \n",
       "ISI             0.607551 -0.690637  0.015248 -0.347105  0.739730  0.674499   \n",
       "BUI             0.455504 -0.348587  0.029756 -0.299171  0.589652  0.982073   \n",
       "Classes         0.518119 -0.435023 -0.066529 -0.379449  0.770114  0.584188   \n",
       "\n",
       "                  ISI       BUI   Classes  \n",
       "Temperature  0.607551  0.455504  0.518119  \n",
       "RH          -0.690637 -0.348587 -0.435023  \n",
       "Ws           0.015248  0.029756 -0.066529  \n",
       "Rain        -0.347105 -0.299171 -0.379449  \n",
       "FFMC         0.739730  0.589652  0.770114  \n",
       "DMC          0.674499  0.982073  0.584188  \n",
       "ISI          1.000000  0.635891  0.735511  \n",
       "BUI          0.635891  1.000000  0.583882  \n",
       "Classes      0.735511  0.583882  1.000000  "
      ]
     },
     "execution_count": 48,
     "metadata": {},
     "output_type": "execute_result"
    }
   ],
   "source": [
    "df.corr()"
   ]
  },
  {
   "cell_type": "code",
   "execution_count": 49,
   "id": "b9a5c22e",
   "metadata": {},
   "outputs": [],
   "source": [
    "# Dropping the unnexessary column DC\n",
    "df.drop(['DC'],axis=1, inplace = True)"
   ]
  },
  {
   "cell_type": "code",
   "execution_count": 50,
   "id": "17264e82",
   "metadata": {},
   "outputs": [
    {
     "data": {
      "text/plain": [
       "Temperature      int64\n",
       "RH               int64\n",
       "Ws             float64\n",
       "Rain           float64\n",
       "FFMC           float64\n",
       "DMC            float64\n",
       "ISI            float64\n",
       "BUI            float64\n",
       "FWI             object\n",
       "Classes        float64\n",
       "Region          object\n",
       "Date            object\n",
       "dtype: object"
      ]
     },
     "execution_count": 50,
     "metadata": {},
     "output_type": "execute_result"
    }
   ],
   "source": [
    "# Checking column types\n",
    "df.dtypes"
   ]
  },
  {
   "cell_type": "code",
   "execution_count": 51,
   "id": "76f31dfd",
   "metadata": {},
   "outputs": [
    {
     "data": {
      "text/html": [
       "<div>\n",
       "<style scoped>\n",
       "    .dataframe tbody tr th:only-of-type {\n",
       "        vertical-align: middle;\n",
       "    }\n",
       "\n",
       "    .dataframe tbody tr th {\n",
       "        vertical-align: top;\n",
       "    }\n",
       "\n",
       "    .dataframe thead th {\n",
       "        text-align: right;\n",
       "    }\n",
       "</style>\n",
       "<table border=\"1\" class=\"dataframe\">\n",
       "  <thead>\n",
       "    <tr style=\"text-align: right;\">\n",
       "      <th></th>\n",
       "      <th>Temperature</th>\n",
       "      <th>RH</th>\n",
       "      <th>Ws</th>\n",
       "      <th>Rain</th>\n",
       "      <th>FFMC</th>\n",
       "      <th>DMC</th>\n",
       "      <th>ISI</th>\n",
       "      <th>BUI</th>\n",
       "      <th>FWI</th>\n",
       "      <th>Classes</th>\n",
       "      <th>Region</th>\n",
       "      <th>Date</th>\n",
       "    </tr>\n",
       "  </thead>\n",
       "  <tbody>\n",
       "    <tr>\n",
       "      <th>165</th>\n",
       "      <td>37</td>\n",
       "      <td>37</td>\n",
       "      <td>18.0</td>\n",
       "      <td>0.2</td>\n",
       "      <td>88.9</td>\n",
       "      <td>12.9</td>\n",
       "      <td>12.5</td>\n",
       "      <td>10.4</td>\n",
       "      <td>fire</td>\n",
       "      <td>1.0</td>\n",
       "      <td>Sidi Bel-abbes</td>\n",
       "      <td>2012-07-14</td>\n",
       "    </tr>\n",
       "  </tbody>\n",
       "</table>\n",
       "</div>"
      ],
      "text/plain": [
       "     Temperature  RH    Ws  Rain  FFMC   DMC   ISI   BUI      FWI  Classes  \\\n",
       "165           37  37  18.0   0.2  88.9  12.9  12.5  10.4  fire         1.0   \n",
       "\n",
       "             Region        Date  \n",
       "165  Sidi Bel-abbes  2012-07-14  "
      ]
     },
     "execution_count": 51,
     "metadata": {},
     "output_type": "execute_result"
    }
   ],
   "source": [
    "# In FWI column there is a row where it's \n",
    "# value is non-reliable to the other dataser\n",
    "# Remove that row\n",
    "df[df['FWI'] == 'fire   ']"
   ]
  },
  {
   "cell_type": "code",
   "execution_count": 52,
   "id": "209678f9",
   "metadata": {},
   "outputs": [
    {
     "data": {
      "text/plain": [
       "165"
      ]
     },
     "execution_count": 52,
     "metadata": {},
     "output_type": "execute_result"
    }
   ],
   "source": [
    "# Getting targeted row index\n",
    "targetted_rowIndex = df[df['FWI'] == 'fire   '].index[0]\n",
    "targetted_rowIndex"
   ]
  },
  {
   "cell_type": "code",
   "execution_count": 53,
   "id": "b2a88165",
   "metadata": {},
   "outputs": [],
   "source": [
    "# Dropping particular row\n",
    "df.drop(targetted_rowIndex, inplace=True)"
   ]
  },
  {
   "cell_type": "code",
   "execution_count": 54,
   "id": "208fecb0",
   "metadata": {},
   "outputs": [],
   "source": [
    "# Change FWI column type from str to float\n",
    "df['FWI'] = df['FWI'].astype(float)"
   ]
  },
  {
   "cell_type": "code",
   "execution_count": 55,
   "id": "5bb64e78",
   "metadata": {},
   "outputs": [],
   "source": [
    "# Converting date column to specific date_time\n",
    "df['Date'] = pd.to_datetime(df['Date'])"
   ]
  },
  {
   "cell_type": "markdown",
   "id": "d6675026",
   "metadata": {},
   "source": [
    "## After cleaned data"
   ]
  },
  {
   "cell_type": "code",
   "execution_count": 56,
   "id": "f02b95ef",
   "metadata": {},
   "outputs": [
    {
     "data": {
      "text/html": [
       "<div>\n",
       "<style scoped>\n",
       "    .dataframe tbody tr th:only-of-type {\n",
       "        vertical-align: middle;\n",
       "    }\n",
       "\n",
       "    .dataframe tbody tr th {\n",
       "        vertical-align: top;\n",
       "    }\n",
       "\n",
       "    .dataframe thead th {\n",
       "        text-align: right;\n",
       "    }\n",
       "</style>\n",
       "<table border=\"1\" class=\"dataframe\">\n",
       "  <thead>\n",
       "    <tr style=\"text-align: right;\">\n",
       "      <th></th>\n",
       "      <th>Temperature</th>\n",
       "      <th>RH</th>\n",
       "      <th>Ws</th>\n",
       "      <th>Rain</th>\n",
       "      <th>FFMC</th>\n",
       "      <th>DMC</th>\n",
       "      <th>ISI</th>\n",
       "      <th>BUI</th>\n",
       "      <th>FWI</th>\n",
       "      <th>Classes</th>\n",
       "      <th>Region</th>\n",
       "      <th>Date</th>\n",
       "    </tr>\n",
       "  </thead>\n",
       "  <tbody>\n",
       "    <tr>\n",
       "      <th>0</th>\n",
       "      <td>29</td>\n",
       "      <td>57</td>\n",
       "      <td>18.0</td>\n",
       "      <td>0.0</td>\n",
       "      <td>65.7</td>\n",
       "      <td>3.4</td>\n",
       "      <td>1.3</td>\n",
       "      <td>3.4</td>\n",
       "      <td>0.5</td>\n",
       "      <td>0.0</td>\n",
       "      <td>Bejaia</td>\n",
       "      <td>2012-06-01</td>\n",
       "    </tr>\n",
       "    <tr>\n",
       "      <th>1</th>\n",
       "      <td>29</td>\n",
       "      <td>61</td>\n",
       "      <td>13.0</td>\n",
       "      <td>1.3</td>\n",
       "      <td>64.4</td>\n",
       "      <td>4.1</td>\n",
       "      <td>1.0</td>\n",
       "      <td>3.9</td>\n",
       "      <td>0.4</td>\n",
       "      <td>0.0</td>\n",
       "      <td>Bejaia</td>\n",
       "      <td>2012-06-02</td>\n",
       "    </tr>\n",
       "    <tr>\n",
       "      <th>2</th>\n",
       "      <td>26</td>\n",
       "      <td>82</td>\n",
       "      <td>22.0</td>\n",
       "      <td>13.1</td>\n",
       "      <td>47.1</td>\n",
       "      <td>2.5</td>\n",
       "      <td>0.3</td>\n",
       "      <td>2.7</td>\n",
       "      <td>0.1</td>\n",
       "      <td>0.0</td>\n",
       "      <td>Bejaia</td>\n",
       "      <td>2012-06-03</td>\n",
       "    </tr>\n",
       "    <tr>\n",
       "      <th>3</th>\n",
       "      <td>25</td>\n",
       "      <td>89</td>\n",
       "      <td>13.0</td>\n",
       "      <td>2.5</td>\n",
       "      <td>28.6</td>\n",
       "      <td>1.3</td>\n",
       "      <td>0.0</td>\n",
       "      <td>1.7</td>\n",
       "      <td>0.0</td>\n",
       "      <td>0.0</td>\n",
       "      <td>Bejaia</td>\n",
       "      <td>2012-06-04</td>\n",
       "    </tr>\n",
       "    <tr>\n",
       "      <th>4</th>\n",
       "      <td>27</td>\n",
       "      <td>77</td>\n",
       "      <td>16.0</td>\n",
       "      <td>0.0</td>\n",
       "      <td>64.8</td>\n",
       "      <td>3.0</td>\n",
       "      <td>1.2</td>\n",
       "      <td>3.9</td>\n",
       "      <td>0.5</td>\n",
       "      <td>0.0</td>\n",
       "      <td>Bejaia</td>\n",
       "      <td>2012-06-05</td>\n",
       "    </tr>\n",
       "    <tr>\n",
       "      <th>...</th>\n",
       "      <td>...</td>\n",
       "      <td>...</td>\n",
       "      <td>...</td>\n",
       "      <td>...</td>\n",
       "      <td>...</td>\n",
       "      <td>...</td>\n",
       "      <td>...</td>\n",
       "      <td>...</td>\n",
       "      <td>...</td>\n",
       "      <td>...</td>\n",
       "      <td>...</td>\n",
       "      <td>...</td>\n",
       "    </tr>\n",
       "    <tr>\n",
       "      <th>239</th>\n",
       "      <td>30</td>\n",
       "      <td>65</td>\n",
       "      <td>14.0</td>\n",
       "      <td>0.0</td>\n",
       "      <td>85.4</td>\n",
       "      <td>16.0</td>\n",
       "      <td>4.5</td>\n",
       "      <td>16.9</td>\n",
       "      <td>6.5</td>\n",
       "      <td>1.0</td>\n",
       "      <td>Sidi Bel-abbes</td>\n",
       "      <td>2012-09-26</td>\n",
       "    </tr>\n",
       "    <tr>\n",
       "      <th>240</th>\n",
       "      <td>28</td>\n",
       "      <td>87</td>\n",
       "      <td>15.0</td>\n",
       "      <td>4.4</td>\n",
       "      <td>41.1</td>\n",
       "      <td>6.5</td>\n",
       "      <td>0.1</td>\n",
       "      <td>6.2</td>\n",
       "      <td>0.0</td>\n",
       "      <td>0.0</td>\n",
       "      <td>Sidi Bel-abbes</td>\n",
       "      <td>2012-09-27</td>\n",
       "    </tr>\n",
       "    <tr>\n",
       "      <th>241</th>\n",
       "      <td>27</td>\n",
       "      <td>87</td>\n",
       "      <td>29.0</td>\n",
       "      <td>0.5</td>\n",
       "      <td>45.9</td>\n",
       "      <td>3.5</td>\n",
       "      <td>0.4</td>\n",
       "      <td>3.4</td>\n",
       "      <td>0.2</td>\n",
       "      <td>0.0</td>\n",
       "      <td>Sidi Bel-abbes</td>\n",
       "      <td>2012-09-28</td>\n",
       "    </tr>\n",
       "    <tr>\n",
       "      <th>242</th>\n",
       "      <td>24</td>\n",
       "      <td>54</td>\n",
       "      <td>18.0</td>\n",
       "      <td>0.1</td>\n",
       "      <td>79.7</td>\n",
       "      <td>4.3</td>\n",
       "      <td>1.7</td>\n",
       "      <td>5.1</td>\n",
       "      <td>0.7</td>\n",
       "      <td>0.0</td>\n",
       "      <td>Sidi Bel-abbes</td>\n",
       "      <td>2012-09-29</td>\n",
       "    </tr>\n",
       "    <tr>\n",
       "      <th>243</th>\n",
       "      <td>24</td>\n",
       "      <td>64</td>\n",
       "      <td>15.0</td>\n",
       "      <td>0.2</td>\n",
       "      <td>67.3</td>\n",
       "      <td>3.8</td>\n",
       "      <td>1.2</td>\n",
       "      <td>4.8</td>\n",
       "      <td>0.5</td>\n",
       "      <td>0.0</td>\n",
       "      <td>Sidi Bel-abbes</td>\n",
       "      <td>2012-09-30</td>\n",
       "    </tr>\n",
       "  </tbody>\n",
       "</table>\n",
       "<p>243 rows × 12 columns</p>\n",
       "</div>"
      ],
      "text/plain": [
       "     Temperature  RH    Ws  Rain  FFMC   DMC  ISI   BUI  FWI  Classes  \\\n",
       "0             29  57  18.0   0.0  65.7   3.4  1.3   3.4  0.5      0.0   \n",
       "1             29  61  13.0   1.3  64.4   4.1  1.0   3.9  0.4      0.0   \n",
       "2             26  82  22.0  13.1  47.1   2.5  0.3   2.7  0.1      0.0   \n",
       "3             25  89  13.0   2.5  28.6   1.3  0.0   1.7  0.0      0.0   \n",
       "4             27  77  16.0   0.0  64.8   3.0  1.2   3.9  0.5      0.0   \n",
       "..           ...  ..   ...   ...   ...   ...  ...   ...  ...      ...   \n",
       "239           30  65  14.0   0.0  85.4  16.0  4.5  16.9  6.5      1.0   \n",
       "240           28  87  15.0   4.4  41.1   6.5  0.1   6.2  0.0      0.0   \n",
       "241           27  87  29.0   0.5  45.9   3.5  0.4   3.4  0.2      0.0   \n",
       "242           24  54  18.0   0.1  79.7   4.3  1.7   5.1  0.7      0.0   \n",
       "243           24  64  15.0   0.2  67.3   3.8  1.2   4.8  0.5      0.0   \n",
       "\n",
       "             Region       Date  \n",
       "0            Bejaia 2012-06-01  \n",
       "1            Bejaia 2012-06-02  \n",
       "2            Bejaia 2012-06-03  \n",
       "3            Bejaia 2012-06-04  \n",
       "4            Bejaia 2012-06-05  \n",
       "..              ...        ...  \n",
       "239  Sidi Bel-abbes 2012-09-26  \n",
       "240  Sidi Bel-abbes 2012-09-27  \n",
       "241  Sidi Bel-abbes 2012-09-28  \n",
       "242  Sidi Bel-abbes 2012-09-29  \n",
       "243  Sidi Bel-abbes 2012-09-30  \n",
       "\n",
       "[243 rows x 12 columns]"
      ]
     },
     "execution_count": 56,
     "metadata": {},
     "output_type": "execute_result"
    }
   ],
   "source": [
    "df"
   ]
  },
  {
   "cell_type": "markdown",
   "id": "a49385e0",
   "metadata": {},
   "source": [
    "## Separating Dependent and Independent Features"
   ]
  },
  {
   "cell_type": "code",
   "execution_count": 57,
   "id": "3901f07e",
   "metadata": {},
   "outputs": [],
   "source": [
    "# Getting Dependent Feature Temperature\n",
    "y = df.iloc[:,0]"
   ]
  },
  {
   "cell_type": "code",
   "execution_count": 58,
   "id": "47c88c22",
   "metadata": {},
   "outputs": [
    {
     "data": {
      "text/plain": [
       "0      29\n",
       "1      29\n",
       "2      26\n",
       "3      25\n",
       "4      27\n",
       "       ..\n",
       "239    30\n",
       "240    28\n",
       "241    27\n",
       "242    24\n",
       "243    24\n",
       "Name: Temperature, Length: 243, dtype: int64"
      ]
     },
     "execution_count": 58,
     "metadata": {},
     "output_type": "execute_result"
    }
   ],
   "source": [
    "y"
   ]
  },
  {
   "cell_type": "code",
   "execution_count": 59,
   "id": "75f8a124",
   "metadata": {},
   "outputs": [],
   "source": [
    "# Getting Independent Features. Numerical Columns except temp\n",
    "X = df.iloc[:, 1:-2]"
   ]
  },
  {
   "cell_type": "code",
   "execution_count": 60,
   "id": "5e6b7c9d",
   "metadata": {},
   "outputs": [
    {
     "data": {
      "text/html": [
       "<div>\n",
       "<style scoped>\n",
       "    .dataframe tbody tr th:only-of-type {\n",
       "        vertical-align: middle;\n",
       "    }\n",
       "\n",
       "    .dataframe tbody tr th {\n",
       "        vertical-align: top;\n",
       "    }\n",
       "\n",
       "    .dataframe thead th {\n",
       "        text-align: right;\n",
       "    }\n",
       "</style>\n",
       "<table border=\"1\" class=\"dataframe\">\n",
       "  <thead>\n",
       "    <tr style=\"text-align: right;\">\n",
       "      <th></th>\n",
       "      <th>RH</th>\n",
       "      <th>Ws</th>\n",
       "      <th>Rain</th>\n",
       "      <th>FFMC</th>\n",
       "      <th>DMC</th>\n",
       "      <th>ISI</th>\n",
       "      <th>BUI</th>\n",
       "      <th>FWI</th>\n",
       "      <th>Classes</th>\n",
       "    </tr>\n",
       "  </thead>\n",
       "  <tbody>\n",
       "    <tr>\n",
       "      <th>0</th>\n",
       "      <td>57</td>\n",
       "      <td>18.0</td>\n",
       "      <td>0.0</td>\n",
       "      <td>65.7</td>\n",
       "      <td>3.4</td>\n",
       "      <td>1.3</td>\n",
       "      <td>3.4</td>\n",
       "      <td>0.5</td>\n",
       "      <td>0.0</td>\n",
       "    </tr>\n",
       "    <tr>\n",
       "      <th>1</th>\n",
       "      <td>61</td>\n",
       "      <td>13.0</td>\n",
       "      <td>1.3</td>\n",
       "      <td>64.4</td>\n",
       "      <td>4.1</td>\n",
       "      <td>1.0</td>\n",
       "      <td>3.9</td>\n",
       "      <td>0.4</td>\n",
       "      <td>0.0</td>\n",
       "    </tr>\n",
       "    <tr>\n",
       "      <th>2</th>\n",
       "      <td>82</td>\n",
       "      <td>22.0</td>\n",
       "      <td>13.1</td>\n",
       "      <td>47.1</td>\n",
       "      <td>2.5</td>\n",
       "      <td>0.3</td>\n",
       "      <td>2.7</td>\n",
       "      <td>0.1</td>\n",
       "      <td>0.0</td>\n",
       "    </tr>\n",
       "    <tr>\n",
       "      <th>3</th>\n",
       "      <td>89</td>\n",
       "      <td>13.0</td>\n",
       "      <td>2.5</td>\n",
       "      <td>28.6</td>\n",
       "      <td>1.3</td>\n",
       "      <td>0.0</td>\n",
       "      <td>1.7</td>\n",
       "      <td>0.0</td>\n",
       "      <td>0.0</td>\n",
       "    </tr>\n",
       "    <tr>\n",
       "      <th>4</th>\n",
       "      <td>77</td>\n",
       "      <td>16.0</td>\n",
       "      <td>0.0</td>\n",
       "      <td>64.8</td>\n",
       "      <td>3.0</td>\n",
       "      <td>1.2</td>\n",
       "      <td>3.9</td>\n",
       "      <td>0.5</td>\n",
       "      <td>0.0</td>\n",
       "    </tr>\n",
       "    <tr>\n",
       "      <th>...</th>\n",
       "      <td>...</td>\n",
       "      <td>...</td>\n",
       "      <td>...</td>\n",
       "      <td>...</td>\n",
       "      <td>...</td>\n",
       "      <td>...</td>\n",
       "      <td>...</td>\n",
       "      <td>...</td>\n",
       "      <td>...</td>\n",
       "    </tr>\n",
       "    <tr>\n",
       "      <th>239</th>\n",
       "      <td>65</td>\n",
       "      <td>14.0</td>\n",
       "      <td>0.0</td>\n",
       "      <td>85.4</td>\n",
       "      <td>16.0</td>\n",
       "      <td>4.5</td>\n",
       "      <td>16.9</td>\n",
       "      <td>6.5</td>\n",
       "      <td>1.0</td>\n",
       "    </tr>\n",
       "    <tr>\n",
       "      <th>240</th>\n",
       "      <td>87</td>\n",
       "      <td>15.0</td>\n",
       "      <td>4.4</td>\n",
       "      <td>41.1</td>\n",
       "      <td>6.5</td>\n",
       "      <td>0.1</td>\n",
       "      <td>6.2</td>\n",
       "      <td>0.0</td>\n",
       "      <td>0.0</td>\n",
       "    </tr>\n",
       "    <tr>\n",
       "      <th>241</th>\n",
       "      <td>87</td>\n",
       "      <td>29.0</td>\n",
       "      <td>0.5</td>\n",
       "      <td>45.9</td>\n",
       "      <td>3.5</td>\n",
       "      <td>0.4</td>\n",
       "      <td>3.4</td>\n",
       "      <td>0.2</td>\n",
       "      <td>0.0</td>\n",
       "    </tr>\n",
       "    <tr>\n",
       "      <th>242</th>\n",
       "      <td>54</td>\n",
       "      <td>18.0</td>\n",
       "      <td>0.1</td>\n",
       "      <td>79.7</td>\n",
       "      <td>4.3</td>\n",
       "      <td>1.7</td>\n",
       "      <td>5.1</td>\n",
       "      <td>0.7</td>\n",
       "      <td>0.0</td>\n",
       "    </tr>\n",
       "    <tr>\n",
       "      <th>243</th>\n",
       "      <td>64</td>\n",
       "      <td>15.0</td>\n",
       "      <td>0.2</td>\n",
       "      <td>67.3</td>\n",
       "      <td>3.8</td>\n",
       "      <td>1.2</td>\n",
       "      <td>4.8</td>\n",
       "      <td>0.5</td>\n",
       "      <td>0.0</td>\n",
       "    </tr>\n",
       "  </tbody>\n",
       "</table>\n",
       "<p>243 rows × 9 columns</p>\n",
       "</div>"
      ],
      "text/plain": [
       "     RH    Ws  Rain  FFMC   DMC  ISI   BUI  FWI  Classes\n",
       "0    57  18.0   0.0  65.7   3.4  1.3   3.4  0.5      0.0\n",
       "1    61  13.0   1.3  64.4   4.1  1.0   3.9  0.4      0.0\n",
       "2    82  22.0  13.1  47.1   2.5  0.3   2.7  0.1      0.0\n",
       "3    89  13.0   2.5  28.6   1.3  0.0   1.7  0.0      0.0\n",
       "4    77  16.0   0.0  64.8   3.0  1.2   3.9  0.5      0.0\n",
       "..   ..   ...   ...   ...   ...  ...   ...  ...      ...\n",
       "239  65  14.0   0.0  85.4  16.0  4.5  16.9  6.5      1.0\n",
       "240  87  15.0   4.4  41.1   6.5  0.1   6.2  0.0      0.0\n",
       "241  87  29.0   0.5  45.9   3.5  0.4   3.4  0.2      0.0\n",
       "242  54  18.0   0.1  79.7   4.3  1.7   5.1  0.7      0.0\n",
       "243  64  15.0   0.2  67.3   3.8  1.2   4.8  0.5      0.0\n",
       "\n",
       "[243 rows x 9 columns]"
      ]
     },
     "execution_count": 60,
     "metadata": {},
     "output_type": "execute_result"
    }
   ],
   "source": [
    "X"
   ]
  },
  {
   "cell_type": "markdown",
   "id": "4f4f9fa4",
   "metadata": {},
   "source": [
    "## Splitting Data with Training and Test dataset"
   ]
  },
  {
   "cell_type": "code",
   "execution_count": 61,
   "id": "4c5c251a",
   "metadata": {},
   "outputs": [],
   "source": [
    "from sklearn.model_selection import train_test_split"
   ]
  },
  {
   "cell_type": "code",
   "execution_count": 62,
   "id": "b0cfb3c7",
   "metadata": {},
   "outputs": [],
   "source": [
    "X_train, X_test, y_train, y_test = train_test_split(X, y, test_size=0.35, random_state=310)"
   ]
  },
  {
   "cell_type": "code",
   "execution_count": 63,
   "id": "0c9b4378",
   "metadata": {},
   "outputs": [
    {
     "data": {
      "text/html": [
       "<div>\n",
       "<style scoped>\n",
       "    .dataframe tbody tr th:only-of-type {\n",
       "        vertical-align: middle;\n",
       "    }\n",
       "\n",
       "    .dataframe tbody tr th {\n",
       "        vertical-align: top;\n",
       "    }\n",
       "\n",
       "    .dataframe thead th {\n",
       "        text-align: right;\n",
       "    }\n",
       "</style>\n",
       "<table border=\"1\" class=\"dataframe\">\n",
       "  <thead>\n",
       "    <tr style=\"text-align: right;\">\n",
       "      <th></th>\n",
       "      <th>RH</th>\n",
       "      <th>Ws</th>\n",
       "      <th>Rain</th>\n",
       "      <th>FFMC</th>\n",
       "      <th>DMC</th>\n",
       "      <th>ISI</th>\n",
       "      <th>BUI</th>\n",
       "      <th>FWI</th>\n",
       "      <th>Classes</th>\n",
       "    </tr>\n",
       "  </thead>\n",
       "  <tbody>\n",
       "    <tr>\n",
       "      <th>127</th>\n",
       "      <td>54</td>\n",
       "      <td>11.0</td>\n",
       "      <td>0.1</td>\n",
       "      <td>83.7</td>\n",
       "      <td>8.4</td>\n",
       "      <td>3.1</td>\n",
       "      <td>9.3</td>\n",
       "      <td>3.1</td>\n",
       "      <td>1.0</td>\n",
       "    </tr>\n",
       "    <tr>\n",
       "      <th>41</th>\n",
       "      <td>75</td>\n",
       "      <td>13.0</td>\n",
       "      <td>0.1</td>\n",
       "      <td>75.1</td>\n",
       "      <td>7.9</td>\n",
       "      <td>1.5</td>\n",
       "      <td>9.2</td>\n",
       "      <td>0.9</td>\n",
       "      <td>0.0</td>\n",
       "    </tr>\n",
       "    <tr>\n",
       "      <th>95</th>\n",
       "      <td>73</td>\n",
       "      <td>17.0</td>\n",
       "      <td>0.1</td>\n",
       "      <td>68.4</td>\n",
       "      <td>1.9</td>\n",
       "      <td>1.4</td>\n",
       "      <td>2.9</td>\n",
       "      <td>0.5</td>\n",
       "      <td>0.0</td>\n",
       "    </tr>\n",
       "    <tr>\n",
       "      <th>16</th>\n",
       "      <td>89</td>\n",
       "      <td>16.0</td>\n",
       "      <td>0.6</td>\n",
       "      <td>37.3</td>\n",
       "      <td>1.1</td>\n",
       "      <td>0.0</td>\n",
       "      <td>1.6</td>\n",
       "      <td>0.0</td>\n",
       "      <td>0.0</td>\n",
       "    </tr>\n",
       "    <tr>\n",
       "      <th>178</th>\n",
       "      <td>87</td>\n",
       "      <td>18.0</td>\n",
       "      <td>0.0</td>\n",
       "      <td>80.0</td>\n",
       "      <td>11.8</td>\n",
       "      <td>2.8</td>\n",
       "      <td>11.8</td>\n",
       "      <td>3.2</td>\n",
       "      <td>0.0</td>\n",
       "    </tr>\n",
       "    <tr>\n",
       "      <th>...</th>\n",
       "      <td>...</td>\n",
       "      <td>...</td>\n",
       "      <td>...</td>\n",
       "      <td>...</td>\n",
       "      <td>...</td>\n",
       "      <td>...</td>\n",
       "      <td>...</td>\n",
       "      <td>...</td>\n",
       "      <td>...</td>\n",
       "    </tr>\n",
       "    <tr>\n",
       "      <th>144</th>\n",
       "      <td>59</td>\n",
       "      <td>16.0</td>\n",
       "      <td>0.8</td>\n",
       "      <td>74.2</td>\n",
       "      <td>7.0</td>\n",
       "      <td>1.6</td>\n",
       "      <td>6.7</td>\n",
       "      <td>0.8</td>\n",
       "      <td>0.0</td>\n",
       "    </tr>\n",
       "    <tr>\n",
       "      <th>72</th>\n",
       "      <td>51</td>\n",
       "      <td>13.0</td>\n",
       "      <td>0.3</td>\n",
       "      <td>81.3</td>\n",
       "      <td>15.6</td>\n",
       "      <td>2.5</td>\n",
       "      <td>20.7</td>\n",
       "      <td>4.2</td>\n",
       "      <td>0.0</td>\n",
       "    </tr>\n",
       "    <tr>\n",
       "      <th>1</th>\n",
       "      <td>61</td>\n",
       "      <td>13.0</td>\n",
       "      <td>1.3</td>\n",
       "      <td>64.4</td>\n",
       "      <td>4.1</td>\n",
       "      <td>1.0</td>\n",
       "      <td>3.9</td>\n",
       "      <td>0.4</td>\n",
       "      <td>0.0</td>\n",
       "    </tr>\n",
       "    <tr>\n",
       "      <th>93</th>\n",
       "      <td>86</td>\n",
       "      <td>15.0</td>\n",
       "      <td>10.1</td>\n",
       "      <td>30.5</td>\n",
       "      <td>0.7</td>\n",
       "      <td>0.0</td>\n",
       "      <td>1.1</td>\n",
       "      <td>0.0</td>\n",
       "      <td>0.0</td>\n",
       "    </tr>\n",
       "    <tr>\n",
       "      <th>124</th>\n",
       "      <td>80</td>\n",
       "      <td>14.0</td>\n",
       "      <td>2.0</td>\n",
       "      <td>48.7</td>\n",
       "      <td>2.2</td>\n",
       "      <td>0.3</td>\n",
       "      <td>2.6</td>\n",
       "      <td>0.1</td>\n",
       "      <td>0.0</td>\n",
       "    </tr>\n",
       "  </tbody>\n",
       "</table>\n",
       "<p>157 rows × 9 columns</p>\n",
       "</div>"
      ],
      "text/plain": [
       "     RH    Ws  Rain  FFMC   DMC  ISI   BUI  FWI  Classes\n",
       "127  54  11.0   0.1  83.7   8.4  3.1   9.3  3.1      1.0\n",
       "41   75  13.0   0.1  75.1   7.9  1.5   9.2  0.9      0.0\n",
       "95   73  17.0   0.1  68.4   1.9  1.4   2.9  0.5      0.0\n",
       "16   89  16.0   0.6  37.3   1.1  0.0   1.6  0.0      0.0\n",
       "178  87  18.0   0.0  80.0  11.8  2.8  11.8  3.2      0.0\n",
       "..   ..   ...   ...   ...   ...  ...   ...  ...      ...\n",
       "144  59  16.0   0.8  74.2   7.0  1.6   6.7  0.8      0.0\n",
       "72   51  13.0   0.3  81.3  15.6  2.5  20.7  4.2      0.0\n",
       "1    61  13.0   1.3  64.4   4.1  1.0   3.9  0.4      0.0\n",
       "93   86  15.0  10.1  30.5   0.7  0.0   1.1  0.0      0.0\n",
       "124  80  14.0   2.0  48.7   2.2  0.3   2.6  0.1      0.0\n",
       "\n",
       "[157 rows x 9 columns]"
      ]
     },
     "execution_count": 63,
     "metadata": {},
     "output_type": "execute_result"
    }
   ],
   "source": [
    "# Independent training dataset\n",
    "X_train"
   ]
  },
  {
   "cell_type": "code",
   "execution_count": 64,
   "id": "f5583710",
   "metadata": {},
   "outputs": [
    {
     "data": {
      "text/plain": [
       "127    35\n",
       "41     31\n",
       "95     29\n",
       "16     30\n",
       "178    29\n",
       "       ..\n",
       "144    33\n",
       "72     35\n",
       "1      29\n",
       "93     22\n",
       "124    29\n",
       "Name: Temperature, Length: 157, dtype: int64"
      ]
     },
     "execution_count": 64,
     "metadata": {},
     "output_type": "execute_result"
    }
   ],
   "source": [
    "# Dependent training dataset\n",
    "y_train"
   ]
  },
  {
   "cell_type": "code",
   "execution_count": 65,
   "id": "649b5cfd",
   "metadata": {},
   "outputs": [
    {
     "data": {
      "text/html": [
       "<div>\n",
       "<style scoped>\n",
       "    .dataframe tbody tr th:only-of-type {\n",
       "        vertical-align: middle;\n",
       "    }\n",
       "\n",
       "    .dataframe tbody tr th {\n",
       "        vertical-align: top;\n",
       "    }\n",
       "\n",
       "    .dataframe thead th {\n",
       "        text-align: right;\n",
       "    }\n",
       "</style>\n",
       "<table border=\"1\" class=\"dataframe\">\n",
       "  <thead>\n",
       "    <tr style=\"text-align: right;\">\n",
       "      <th></th>\n",
       "      <th>RH</th>\n",
       "      <th>Ws</th>\n",
       "      <th>Rain</th>\n",
       "      <th>FFMC</th>\n",
       "      <th>DMC</th>\n",
       "      <th>ISI</th>\n",
       "      <th>BUI</th>\n",
       "      <th>FWI</th>\n",
       "      <th>Classes</th>\n",
       "    </tr>\n",
       "  </thead>\n",
       "  <tbody>\n",
       "    <tr>\n",
       "      <th>123</th>\n",
       "      <td>73</td>\n",
       "      <td>13.0</td>\n",
       "      <td>4.0</td>\n",
       "      <td>55.7</td>\n",
       "      <td>2.7</td>\n",
       "      <td>0.6</td>\n",
       "      <td>2.9</td>\n",
       "      <td>0.2</td>\n",
       "      <td>0.0</td>\n",
       "    </tr>\n",
       "    <tr>\n",
       "      <th>153</th>\n",
       "      <td>48</td>\n",
       "      <td>16.0</td>\n",
       "      <td>0.0</td>\n",
       "      <td>87.6</td>\n",
       "      <td>7.9</td>\n",
       "      <td>6.8</td>\n",
       "      <td>7.8</td>\n",
       "      <td>6.4</td>\n",
       "      <td>1.0</td>\n",
       "    </tr>\n",
       "    <tr>\n",
       "      <th>100</th>\n",
       "      <td>77</td>\n",
       "      <td>15.0</td>\n",
       "      <td>1.0</td>\n",
       "      <td>56.1</td>\n",
       "      <td>2.1</td>\n",
       "      <td>0.7</td>\n",
       "      <td>2.6</td>\n",
       "      <td>0.2</td>\n",
       "      <td>0.0</td>\n",
       "    </tr>\n",
       "    <tr>\n",
       "      <th>227</th>\n",
       "      <td>81</td>\n",
       "      <td>15.0</td>\n",
       "      <td>0.0</td>\n",
       "      <td>84.6</td>\n",
       "      <td>12.6</td>\n",
       "      <td>4.3</td>\n",
       "      <td>14.3</td>\n",
       "      <td>5.7</td>\n",
       "      <td>1.0</td>\n",
       "    </tr>\n",
       "    <tr>\n",
       "      <th>73</th>\n",
       "      <td>63</td>\n",
       "      <td>15.0</td>\n",
       "      <td>0.0</td>\n",
       "      <td>87.0</td>\n",
       "      <td>19.0</td>\n",
       "      <td>5.9</td>\n",
       "      <td>24.4</td>\n",
       "      <td>10.2</td>\n",
       "      <td>1.0</td>\n",
       "    </tr>\n",
       "    <tr>\n",
       "      <th>...</th>\n",
       "      <td>...</td>\n",
       "      <td>...</td>\n",
       "      <td>...</td>\n",
       "      <td>...</td>\n",
       "      <td>...</td>\n",
       "      <td>...</td>\n",
       "      <td>...</td>\n",
       "      <td>...</td>\n",
       "      <td>...</td>\n",
       "    </tr>\n",
       "    <tr>\n",
       "      <th>94</th>\n",
       "      <td>78</td>\n",
       "      <td>15.0</td>\n",
       "      <td>3.8</td>\n",
       "      <td>42.6</td>\n",
       "      <td>1.2</td>\n",
       "      <td>0.1</td>\n",
       "      <td>1.7</td>\n",
       "      <td>0.0</td>\n",
       "      <td>0.0</td>\n",
       "    </tr>\n",
       "    <tr>\n",
       "      <th>133</th>\n",
       "      <td>58</td>\n",
       "      <td>17.0</td>\n",
       "      <td>0.0</td>\n",
       "      <td>88.9</td>\n",
       "      <td>21.3</td>\n",
       "      <td>8.7</td>\n",
       "      <td>21.2</td>\n",
       "      <td>12.9</td>\n",
       "      <td>1.0</td>\n",
       "    </tr>\n",
       "    <tr>\n",
       "      <th>78</th>\n",
       "      <td>54</td>\n",
       "      <td>18.0</td>\n",
       "      <td>0.0</td>\n",
       "      <td>89.4</td>\n",
       "      <td>20.0</td>\n",
       "      <td>9.7</td>\n",
       "      <td>27.5</td>\n",
       "      <td>16.1</td>\n",
       "      <td>1.0</td>\n",
       "    </tr>\n",
       "    <tr>\n",
       "      <th>21</th>\n",
       "      <td>67</td>\n",
       "      <td>17.0</td>\n",
       "      <td>0.1</td>\n",
       "      <td>79.1</td>\n",
       "      <td>7.0</td>\n",
       "      <td>2.4</td>\n",
       "      <td>9.7</td>\n",
       "      <td>2.3</td>\n",
       "      <td>0.0</td>\n",
       "    </tr>\n",
       "    <tr>\n",
       "      <th>116</th>\n",
       "      <td>81</td>\n",
       "      <td>21.0</td>\n",
       "      <td>5.8</td>\n",
       "      <td>48.6</td>\n",
       "      <td>3.0</td>\n",
       "      <td>0.4</td>\n",
       "      <td>3.0</td>\n",
       "      <td>0.1</td>\n",
       "      <td>0.0</td>\n",
       "    </tr>\n",
       "  </tbody>\n",
       "</table>\n",
       "<p>86 rows × 9 columns</p>\n",
       "</div>"
      ],
      "text/plain": [
       "     RH    Ws  Rain  FFMC   DMC  ISI   BUI   FWI  Classes\n",
       "123  73  13.0   4.0  55.7   2.7  0.6   2.9   0.2      0.0\n",
       "153  48  16.0   0.0  87.6   7.9  6.8   7.8   6.4      1.0\n",
       "100  77  15.0   1.0  56.1   2.1  0.7   2.6   0.2      0.0\n",
       "227  81  15.0   0.0  84.6  12.6  4.3  14.3   5.7      1.0\n",
       "73   63  15.0   0.0  87.0  19.0  5.9  24.4  10.2      1.0\n",
       "..   ..   ...   ...   ...   ...  ...   ...   ...      ...\n",
       "94   78  15.0   3.8  42.6   1.2  0.1   1.7   0.0      0.0\n",
       "133  58  17.0   0.0  88.9  21.3  8.7  21.2  12.9      1.0\n",
       "78   54  18.0   0.0  89.4  20.0  9.7  27.5  16.1      1.0\n",
       "21   67  17.0   0.1  79.1   7.0  2.4   9.7   2.3      0.0\n",
       "116  81  21.0   5.8  48.6   3.0  0.4   3.0   0.1      0.0\n",
       "\n",
       "[86 rows x 9 columns]"
      ]
     },
     "execution_count": 65,
     "metadata": {},
     "output_type": "execute_result"
    }
   ],
   "source": [
    "# Independent test dataset\n",
    "X_test"
   ]
  },
  {
   "cell_type": "code",
   "execution_count": 66,
   "id": "678a6567",
   "metadata": {},
   "outputs": [
    {
     "data": {
      "text/plain": [
       "123    30\n",
       "153    33\n",
       "100    30\n",
       "227    28\n",
       "73     35\n",
       "       ..\n",
       "94     25\n",
       "133    27\n",
       "78     36\n",
       "21     31\n",
       "116    26\n",
       "Name: Temperature, Length: 86, dtype: int64"
      ]
     },
     "execution_count": 66,
     "metadata": {},
     "output_type": "execute_result"
    }
   ],
   "source": [
    "# Dependent test dataset\n",
    "y_test"
   ]
  },
  {
   "cell_type": "code",
   "execution_count": 67,
   "id": "b973702b",
   "metadata": {},
   "outputs": [
    {
     "data": {
      "text/plain": [
       "((157, 9), (157,))"
      ]
     },
     "execution_count": 67,
     "metadata": {},
     "output_type": "execute_result"
    }
   ],
   "source": [
    "# Training dataset size\n",
    "X_train.shape, y_train.shape"
   ]
  },
  {
   "cell_type": "code",
   "execution_count": 68,
   "id": "5587924e",
   "metadata": {},
   "outputs": [
    {
     "data": {
      "text/plain": [
       "((86, 9), (86,))"
      ]
     },
     "execution_count": 68,
     "metadata": {},
     "output_type": "execute_result"
    }
   ],
   "source": [
    "# Test dataset size\n",
    "X_test.shape, y_test.shape"
   ]
  },
  {
   "cell_type": "markdown",
   "id": "a88db9cd",
   "metadata": {},
   "source": [
    "## Feature Scaling or Standarize the dataset"
   ]
  },
  {
   "cell_type": "code",
   "execution_count": 69,
   "id": "cc34dca4",
   "metadata": {},
   "outputs": [],
   "source": [
    "from sklearn.preprocessing import StandardScaler"
   ]
  },
  {
   "cell_type": "code",
   "execution_count": 70,
   "id": "f8143bfa",
   "metadata": {},
   "outputs": [
    {
     "data": {
      "text/plain": [
       "StandardScaler()"
      ]
     },
     "execution_count": 70,
     "metadata": {},
     "output_type": "execute_result"
    }
   ],
   "source": [
    "scaler = StandardScaler()\n",
    "scaler"
   ]
  },
  {
   "cell_type": "code",
   "execution_count": 71,
   "id": "0b60ec3b",
   "metadata": {},
   "outputs": [],
   "source": [
    "# Apply scaler on training dataset\n",
    "X_train = scaler.fit_transform(X_train)"
   ]
  },
  {
   "cell_type": "code",
   "execution_count": 72,
   "id": "1f42a213",
   "metadata": {},
   "outputs": [],
   "source": [
    "# Apply scaler on test dataset\n",
    "X_test = scaler.transform(X_test)\n",
    "\n",
    "## to avoid data leaking we use transform\n",
    "## instead of fit_transform"
   ]
  },
  {
   "cell_type": "code",
   "execution_count": null,
   "id": "5d7176e8",
   "metadata": {},
   "outputs": [],
   "source": []
  },
  {
   "cell_type": "markdown",
   "id": "42dbc299",
   "metadata": {},
   "source": [
    "## Model training"
   ]
  },
  {
   "cell_type": "markdown",
   "id": "619669ab",
   "metadata": {},
   "source": [
    "### 1) Linear Regression Model"
   ]
  },
  {
   "cell_type": "code",
   "execution_count": 73,
   "id": "a98dad61",
   "metadata": {},
   "outputs": [],
   "source": [
    "from sklearn.linear_model import LinearRegression"
   ]
  },
  {
   "cell_type": "code",
   "execution_count": 74,
   "id": "4891fd54",
   "metadata": {},
   "outputs": [],
   "source": [
    "l_reg = LinearRegression()"
   ]
  },
  {
   "cell_type": "code",
   "execution_count": 75,
   "id": "131359a6",
   "metadata": {},
   "outputs": [
    {
     "data": {
      "text/plain": [
       "LinearRegression()"
      ]
     },
     "execution_count": 75,
     "metadata": {},
     "output_type": "execute_result"
    }
   ],
   "source": [
    "l_reg.fit(X_train, y_train)"
   ]
  },
  {
   "cell_type": "markdown",
   "id": "d12b79d3",
   "metadata": {},
   "source": [
    "#### 👉 Coefficients and Intercepts"
   ]
  },
  {
   "cell_type": "code",
   "execution_count": 76,
   "id": "614f7f1a",
   "metadata": {},
   "outputs": [
    {
     "data": {
      "text/plain": [
       "array([-1.12730494, -0.43036827,  0.01429553,  1.40849695, -0.3957393 ,\n",
       "       -0.0874176 ,  0.5121844 ,  0.6195334 , -0.04843489])"
      ]
     },
     "execution_count": 76,
     "metadata": {},
     "output_type": "execute_result"
    }
   ],
   "source": [
    "## Getting coefficient\n",
    "l_reg.coef_\n",
    "\n",
    "## Regression Coefficients tell us how much a dependent variable \n",
    "## changes with a unit change in the independent variables."
   ]
  },
  {
   "cell_type": "code",
   "execution_count": 77,
   "id": "0e4339d1",
   "metadata": {},
   "outputs": [
    {
     "data": {
      "text/plain": [
       "32.318471337579616"
      ]
     },
     "execution_count": 77,
     "metadata": {},
     "output_type": "execute_result"
    }
   ],
   "source": [
    "# Getting intercept\n",
    "l_reg.intercept_\n",
    "\n",
    "# If all the independent features are 0, then Temperature of\n",
    "# the Region is 32.31 acc to the model"
   ]
  },
  {
   "cell_type": "markdown",
   "id": "fa720e53",
   "metadata": {},
   "source": [
    "#### 🔮 Prediction with test data"
   ]
  },
  {
   "cell_type": "code",
   "execution_count": 78,
   "id": "3b42c414",
   "metadata": {
    "scrolled": true
   },
   "outputs": [
    {
     "data": {
      "text/plain": [
       "array([29.05422282, 33.90822001, 28.47192524, 31.3159913 , 33.44313986,\n",
       "       31.25698524, 30.48514187, 27.8278896 , 33.02183298, 27.90657055,\n",
       "       33.92192087, 32.60746271, 36.68332997, 27.15416099, 31.14867497,\n",
       "       36.77565103, 27.32555075, 36.40838678, 33.15332267, 30.35202477,\n",
       "       34.33512149, 26.26144535, 29.38467977, 32.39526205, 33.28903184,\n",
       "       34.17459513, 30.90838562, 33.72575271, 26.46460053, 30.01738408,\n",
       "       32.56827804, 34.97138035, 34.97806893, 32.00888687, 37.59316449,\n",
       "       30.4610368 , 32.71269099, 31.13975665, 32.86367467, 32.20290668,\n",
       "       32.01590834, 30.94468961, 35.44937131, 29.32697074, 29.46399819,\n",
       "       31.91634359, 33.01053815, 26.84297885, 32.11827811, 36.46284937,\n",
       "       30.11309506, 34.81802184, 32.15651931, 28.61349269, 34.45959621,\n",
       "       32.83093713, 32.14375296, 28.51226814, 28.94758512, 37.22004524,\n",
       "       26.28140435, 29.19576542, 37.43936309, 34.92229922, 31.17529838,\n",
       "       31.55894698, 32.8411362 , 34.01329508, 33.41405736, 33.82864513,\n",
       "       31.7183607 , 34.07544796, 34.35734284, 39.01881145, 32.8779776 ,\n",
       "       31.08543715, 31.64993609, 31.06663985, 32.04404416, 31.68197086,\n",
       "       33.90522335, 27.09893393, 33.69527226, 34.43315915, 31.41820526,\n",
       "       26.57798555])"
      ]
     },
     "execution_count": 78,
     "metadata": {},
     "output_type": "execute_result"
    }
   ],
   "source": [
    "l_reg_pred = l_reg.predict(X_test)\n",
    "l_reg_pred"
   ]
  },
  {
   "cell_type": "markdown",
   "id": "8d68b2ee",
   "metadata": {},
   "source": [
    "## Assumtions for linear regression"
   ]
  },
  {
   "cell_type": "markdown",
   "id": "f101b352",
   "metadata": {},
   "source": [
    "### To check whether the model is good or bad that trained"
   ]
  },
  {
   "cell_type": "code",
   "execution_count": 79,
   "id": "d202698e",
   "metadata": {},
   "outputs": [
    {
     "data": {
      "text/plain": [
       "Text(0, 0.5, 'Test Predicted data')"
      ]
     },
     "execution_count": 79,
     "metadata": {},
     "output_type": "execute_result"
    },
    {
     "data": {
      "image/png": "[encoded data removed]",
      "text/plain": [
       "<Figure size 576x432 with 1 Axes>"
      ]
     },
     "metadata": {
      "needs_background": "light"
     },
     "output_type": "display_data"
    }
   ],
   "source": [
    "plt.figure(figsize=(8,6))\n",
    "plt.scatter(y_test, l_reg_pred,c='#459878')\n",
    "plt.xlabel('Test Truth data')\n",
    "plt.ylabel('Test Predicted data')"
   ]
  },
  {
   "cell_type": "markdown",
   "id": "81d05832",
   "metadata": {},
   "source": [
    "#### Result: As the graph showing linear relation, so the model is good"
   ]
  },
  {
   "cell_type": "markdown",
   "id": "67b859f3",
   "metadata": {},
   "source": [
    "### Residuals: Getting the diff between test truth data and test predicted data"
   ]
  },
  {
   "cell_type": "markdown",
   "id": "49b9fe6b",
   "metadata": {},
   "source": [
    "#### Objective: Calculate the error between them"
   ]
  },
  {
   "cell_type": "code",
   "execution_count": 80,
   "id": "86ca61df",
   "metadata": {},
   "outputs": [
    {
     "data": {
      "text/plain": [
       "123    0.945777\n",
       "153   -0.908220\n",
       "100    1.528075\n",
       "227   -3.315991\n",
       "73     1.556860\n",
       "         ...   \n",
       "94    -2.098934\n",
       "133   -6.695272\n",
       "78     1.566841\n",
       "21    -0.418205\n",
       "116   -0.577986\n",
       "Name: Temperature, Length: 86, dtype: float64"
      ]
     },
     "execution_count": 80,
     "metadata": {},
     "output_type": "execute_result"
    }
   ],
   "source": [
    "residuals = y_test - l_reg_pred\n",
    "residuals"
   ]
  },
  {
   "cell_type": "code",
   "execution_count": 81,
   "id": "1cd1e099",
   "metadata": {},
   "outputs": [
    {
     "data": {
      "text/plain": [
       "<seaborn.axisgrid.FacetGrid at 0x1b542623e80>"
      ]
     },
     "execution_count": 81,
     "metadata": {},
     "output_type": "execute_result"
    },
    {
     "data": {
      "image/png": "[encoded data removed]",
      "text/plain": [
       "<Figure size 360x360 with 1 Axes>"
      ]
     },
     "metadata": {
      "needs_background": "light"
     },
     "output_type": "display_data"
    }
   ],
   "source": [
    "# Distribution of residuals\n",
    "sns.displot(residuals, kind='kde')"
   ]
  },
  {
   "cell_type": "markdown",
   "id": "4378a3eb",
   "metadata": {},
   "source": [
    "#### Observation: \n",
    "- It's a mostly gussian distribution\n",
    "- Somewhat left skewed due to outliers"
   ]
  },
  {
   "cell_type": "markdown",
   "id": "9d6d2ae9",
   "metadata": {},
   "source": [
    "## Scatter plot of Prediction and residuals"
   ]
  },
  {
   "cell_type": "code",
   "execution_count": 82,
   "id": "6773d8a9",
   "metadata": {},
   "outputs": [
    {
     "data": {
      "text/plain": [
       "Text(0, 0.5, 'Residuals')"
      ]
     },
     "execution_count": 82,
     "metadata": {},
     "output_type": "execute_result"
    },
    {
     "data": {
      "image/png": "[encoded data removed]",
      "text/plain": [
       "<Figure size 720x576 with 1 Axes>"
      ]
     },
     "metadata": {
      "needs_background": "light"
     },
     "output_type": "display_data"
    }
   ],
   "source": [
    "plt.figure(figsize=(10, 8))\n",
    "plt.scatter(l_reg_pred, residuals)\n",
    "plt.xlabel('Prediction Model')\n",
    "plt.ylabel('Residuals')"
   ]
  },
  {
   "cell_type": "markdown",
   "id": "27aee87a",
   "metadata": {},
   "source": [
    "#### Observation\n",
    "- Performing a uniform distribution\n",
    "- 'Homoscedasticity', or homogeneity of variances, is an assumption of equal or similar variances in different groups being compared."
   ]
  },
  {
   "cell_type": "markdown",
   "id": "cdafa05d",
   "metadata": {},
   "source": [
    "#### 4) Performance Metrices for Regression"
   ]
  },
  {
   "cell_type": "markdown",
   "id": "7da04be6",
   "metadata": {},
   "source": [
    "- MSE, MAE, RMSE, R Squard and Adjusted R square"
   ]
  },
  {
   "cell_type": "code",
   "execution_count": 83,
   "id": "0667731e",
   "metadata": {},
   "outputs": [],
   "source": [
    "from sklearn.metrics import mean_squared_error\n",
    "from sklearn.metrics import mean_absolute_error"
   ]
  },
  {
   "cell_type": "code",
   "execution_count": 87,
   "id": "9d0a0b85",
   "metadata": {},
   "outputs": [
    {
     "data": {
      "text/plain": [
       "4.798732320234188"
      ]
     },
     "execution_count": 87,
     "metadata": {},
     "output_type": "execute_result"
    }
   ],
   "source": [
    "# MSE - Useful when having no outliers\n",
    "mean_squared_error(y_test, l_reg_pred)"
   ]
  },
  {
   "cell_type": "code",
   "execution_count": 88,
   "id": "c05657c9",
   "metadata": {},
   "outputs": [
    {
     "data": {
      "text/plain": [
       "1.7456438311799019"
      ]
     },
     "execution_count": 88,
     "metadata": {},
     "output_type": "execute_result"
    }
   ],
   "source": [
    "# MAE - If dataset have outliers, use this\n",
    "mean_absolute_error(y_test, l_reg_pred)"
   ]
  },
  {
   "cell_type": "code",
   "execution_count": 90,
   "id": "7465aa8a",
   "metadata": {},
   "outputs": [
    {
     "data": {
      "text/plain": [
       "2.190600903915222"
      ]
     },
     "execution_count": 90,
     "metadata": {},
     "output_type": "execute_result"
    }
   ],
   "source": [
    "np.sqrt(mean_squared_error(y_test, l_reg_pred))"
   ]
  },
  {
   "cell_type": "markdown",
   "id": "6e888239",
   "metadata": {},
   "source": [
    "#### Getting R Squard and Adjusted R Squard Error"
   ]
  },
  {
   "cell_type": "code",
   "execution_count": 93,
   "id": "ca544e34",
   "metadata": {},
   "outputs": [
    {
     "name": "stdout",
     "output_type": "stream",
     "text": [
      "R Squard: 0.5633060888554371\n"
     ]
    }
   ],
   "source": [
    "from sklearn.metrics import r2_score\n",
    "score = r2_score(y_test, l_reg_pred)\n",
    "print(f'R Squard: {score}')"
   ]
  },
  {
   "cell_type": "code",
   "execution_count": 95,
   "id": "87ecdd68",
   "metadata": {},
   "outputs": [
    {
     "name": "stdout",
     "output_type": "stream",
     "text": [
      "Adjusted R Squard: 0.5115923362198967\n"
     ]
    }
   ],
   "source": [
    "adjusted_R_squard = 1 - (1-score)*(len(y_test)-1)/(len(y_test) - X_test.shape[1]-1)\n",
    "print(f'Adjusted R Squard: {adjusted_R_squard}')"
   ]
  },
  {
   "cell_type": "markdown",
   "id": "d110f8a5",
   "metadata": {},
   "source": [
    "#### Observation: Adjusted R squard always less than R squard value"
   ]
  },
  {
   "cell_type": "markdown",
   "id": "e482c124",
   "metadata": {},
   "source": [
    "## Ridge Regression"
   ]
  },
  {
   "cell_type": "code",
   "execution_count": 97,
   "id": "c546b925",
   "metadata": {},
   "outputs": [],
   "source": [
    "from sklearn.linear_model import Ridge"
   ]
  },
  {
   "cell_type": "code",
   "execution_count": 98,
   "id": "af742b21",
   "metadata": {},
   "outputs": [],
   "source": [
    "ridge_model = Ridge()"
   ]
  },
  {
   "cell_type": "code",
   "execution_count": 99,
   "id": "bb91136d",
   "metadata": {},
   "outputs": [
    {
     "data": {
      "text/plain": [
       "Ridge()"
      ]
     },
     "execution_count": 99,
     "metadata": {},
     "output_type": "execute_result"
    }
   ],
   "source": [
    "ridge_model.fit(X_train, y_train)"
   ]
  },
  {
   "cell_type": "markdown",
   "id": "140b93a0",
   "metadata": {},
   "source": [
    "#### Print Coefficient and Intercepts"
   ]
  },
  {
   "cell_type": "code",
   "execution_count": 100,
   "id": "65ee2bc7",
   "metadata": {},
   "outputs": [
    {
     "data": {
      "text/plain": [
       "32.318471337579616"
      ]
     },
     "execution_count": 100,
     "metadata": {},
     "output_type": "execute_result"
    }
   ],
   "source": [
    "ridge_model.intercept_"
   ]
  },
  {
   "cell_type": "code",
   "execution_count": 101,
   "id": "4b082eed",
   "metadata": {},
   "outputs": [
    {
     "data": {
      "text/plain": [
       "array([-1.11858594, -0.42636392,  0.00756243,  1.37547605, -0.23848455,\n",
       "       -0.0205988 ,  0.40708432,  0.51774729, -0.02776794])"
      ]
     },
     "execution_count": 101,
     "metadata": {},
     "output_type": "execute_result"
    }
   ],
   "source": [
    "ridge_model.coef_"
   ]
  },
  {
   "cell_type": "code",
   "execution_count": 102,
   "id": "4d8ceef9",
   "metadata": {},
   "outputs": [],
   "source": [
    "ridge_pred = ridge_model.predict(X_test)"
   ]
  },
  {
   "cell_type": "code",
   "execution_count": 103,
   "id": "23e070db",
   "metadata": {
    "scrolled": true
   },
   "outputs": [
    {
     "data": {
      "text/plain": [
       "array([29.05050009, 33.92176686, 28.48112429, 31.33698802, 33.417068  ,\n",
       "       31.25028412, 30.48523068, 27.84028285, 33.00562657, 27.95097955,\n",
       "       33.91347932, 32.58224918, 36.66424743, 27.15480354, 31.21187494,\n",
       "       36.78588239, 27.32268917, 36.40869684, 33.18156172, 30.36657029,\n",
       "       34.2415886 , 26.32001007, 29.39770983, 32.4168807 , 33.26060858,\n",
       "       34.19921337, 30.91776342, 33.73899513, 26.52524533, 30.00043782,\n",
       "       32.57311255, 34.93640404, 34.93616139, 31.99125646, 37.61129975,\n",
       "       30.4797237 , 32.76413592, 31.18818658, 32.87145571, 32.21499932,\n",
       "       32.02927705, 31.00556755, 35.44975531, 29.32855334, 29.46666479,\n",
       "       31.91159171, 33.02454951, 26.89010778, 32.12869114, 36.38229469,\n",
       "       30.09411219, 34.83477327, 32.17325303, 28.62195391, 34.44709613,\n",
       "       32.96016588, 32.17454689, 28.51712582, 28.95477008, 37.22369473,\n",
       "       26.27189921, 29.19636504, 37.47187176, 34.90544417, 31.14403815,\n",
       "       31.56750835, 32.85519481, 34.02580574, 33.39370687, 33.87153599,\n",
       "       31.68600373, 34.072093  , 34.36509026, 39.00428071, 32.87740553,\n",
       "       31.05787369, 31.64986528, 31.07732318, 32.05235181, 31.6843325 ,\n",
       "       33.8668971 , 27.11596599, 33.72547733, 34.36697847, 31.38324844,\n",
       "       26.59993566])"
      ]
     },
     "execution_count": 103,
     "metadata": {},
     "output_type": "execute_result"
    }
   ],
   "source": [
    "ridge_pred"
   ]
  },
  {
   "cell_type": "markdown",
   "id": "261f9ec5",
   "metadata": {},
   "source": [
    "#### R-Squard and Adjusted R-Squard on Ridge model"
   ]
  },
  {
   "cell_type": "code",
   "execution_count": 106,
   "id": "bbf45ecb",
   "metadata": {},
   "outputs": [
    {
     "name": "stdout",
     "output_type": "stream",
     "text": [
      "R Squard: 0.5652639007207039\n"
     ]
    }
   ],
   "source": [
    "from sklearn.metrics import r2_score\n",
    "score = r2_score(y_test, ridge_pred)\n",
    "print(f'Ridge R Squard: {score}')"
   ]
  },
  {
   "cell_type": "code",
   "execution_count": 108,
   "id": "3ab0a188",
   "metadata": {},
   "outputs": [
    {
     "name": "stdout",
     "output_type": "stream",
     "text": [
      "Ridge Adjusted R Squard: 0.5137819942271029\n"
     ]
    }
   ],
   "source": [
    "adjusted_R_squard = 1 - (1-score)*(len(y_test)-1)/(len(y_test) - X_test.shape[1]-1)\n",
    "print(f'Ridge Adjusted R Squard: {adjusted_R_squard}')"
   ]
  },
  {
   "cell_type": "markdown",
   "id": "ccdc71be",
   "metadata": {},
   "source": [
    "## Lasso Regression"
   ]
  },
  {
   "cell_type": "code",
   "execution_count": 110,
   "id": "877f77f6",
   "metadata": {},
   "outputs": [],
   "source": [
    "from sklearn.linear_model import Lasso"
   ]
  },
  {
   "cell_type": "code",
   "execution_count": 111,
   "id": "d5c4ddfb",
   "metadata": {},
   "outputs": [],
   "source": [
    "lasso_model = Lasso()"
   ]
  },
  {
   "cell_type": "code",
   "execution_count": 112,
   "id": "95ae1d81",
   "metadata": {},
   "outputs": [
    {
     "data": {
      "text/plain": [
       "Lasso()"
      ]
     },
     "execution_count": 112,
     "metadata": {},
     "output_type": "execute_result"
    }
   ],
   "source": [
    "lasso_model.fit(X_train, y_train)"
   ]
  },
  {
   "cell_type": "code",
   "execution_count": 113,
   "id": "e5e954db",
   "metadata": {},
   "outputs": [
    {
     "data": {
      "text/plain": [
       "array([-0.67843382, -0.        , -0.        ,  1.13801899,  0.        ,\n",
       "        0.        ,  0.        ,  0.        ,  0.        ])"
      ]
     },
     "execution_count": 113,
     "metadata": {},
     "output_type": "execute_result"
    }
   ],
   "source": [
    "lasso_model.coef_"
   ]
  },
  {
   "cell_type": "code",
   "execution_count": 114,
   "id": "05dd0105",
   "metadata": {},
   "outputs": [
    {
     "data": {
      "text/plain": [
       "32.318471337579616"
      ]
     },
     "execution_count": 114,
     "metadata": {},
     "output_type": "execute_result"
    }
   ],
   "source": [
    "lasso_model.intercept_"
   ]
  },
  {
   "cell_type": "code",
   "execution_count": 115,
   "id": "2aa3f4f4",
   "metadata": {},
   "outputs": [],
   "source": [
    "lasso_pred = lasso_model.predict(X_test)"
   ]
  },
  {
   "cell_type": "code",
   "execution_count": 116,
   "id": "e77d3c61",
   "metadata": {
    "scrolled": true
   },
   "outputs": [
    {
     "data": {
      "text/plain": [
       "array([30.01749934, 33.6761871 , 29.86474062, 31.92072828, 32.93827544,\n",
       "       31.87586746, 31.54032989, 30.053388  , 32.92834604, 29.56041235,\n",
       "       33.49984745, 32.30032406, 34.60274614, 29.44361959, 31.92072828,\n",
       "       34.762176  , 29.11689956, 34.1894081 , 33.04720788, 31.10452279,\n",
       "       33.28754184, 28.22519464, 30.41726316, 32.15320193, 33.12263001,\n",
       "       33.47174179, 31.89833652, 33.48984074, 29.06291196, 31.20218205,\n",
       "       32.58226058, 33.6705505 , 33.22577124, 32.29825497, 35.04633623,\n",
       "       31.43331191, 32.63728273, 31.82211179, 33.18773618, 32.44633433,\n",
       "       32.28936012, 31.82076799, 34.37590908, 31.20774133, 30.21964362,\n",
       "       32.54414821, 32.83045484, 28.720394  , 31.85466487, 33.87269478,\n",
       "       31.55137114, 34.04228598, 32.33851374, 29.88157309, 33.3695578 ,\n",
       "       32.64752137, 32.53732245, 30.01742203, 30.57788219, 34.49040081,\n",
       "       28.92706302, 30.54858737, 34.5443111 , 33.77162264, 31.49190156,\n",
       "       32.0578437 , 33.07983828, 33.29206658, 32.80012547, 33.25498876,\n",
       "       32.1466081 , 33.44704901, 33.72453811, 35.44165263, 32.48467863,\n",
       "       31.73898397, 32.42290803, 31.77590717, 32.40822196, 32.26466734,\n",
       "       33.11699342, 28.75754914, 33.31787121, 33.5413727 , 32.1331112 ,\n",
       "       29.09101762])"
      ]
     },
     "execution_count": 116,
     "metadata": {},
     "output_type": "execute_result"
    }
   ],
   "source": [
    "lasso_pred"
   ]
  },
  {
   "cell_type": "markdown",
   "id": "35d66814",
   "metadata": {},
   "source": [
    "#### R-Squard and Adjusted R-Squard on Lasso model"
   ]
  },
  {
   "cell_type": "code",
   "execution_count": 117,
   "id": "1ac3fe21",
   "metadata": {},
   "outputs": [
    {
     "name": "stdout",
     "output_type": "stream",
     "text": [
      "Lasso R Squard: 0.4661814144558306\n",
      "Lasso Adjusted R Squard: 0.40296605564138954\n"
     ]
    }
   ],
   "source": [
    "from sklearn.metrics import r2_score\n",
    "score = r2_score(y_test, lasso_pred)\n",
    "print(f'Lasso R Squard: {score}')\n",
    "\n",
    "adjusted_R_squard = 1 - (1-score)*(len(y_test)-1)/(len(y_test) - X_test.shape[1]-1)\n",
    "print(f'Lasso Adjusted R Squard: {adjusted_R_squard}')"
   ]
  },
  {
   "cell_type": "code",
   "execution_count": null,
   "id": "2c296bd2",
   "metadata": {},
   "outputs": [],
   "source": []
  },
  {
   "cell_type": "markdown",
   "id": "d1eb3ada",
   "metadata": {},
   "source": [
    "## Elastic Regression Model"
   ]
  },
  {
   "cell_type": "code",
   "execution_count": 119,
   "id": "f99b92b6",
   "metadata": {},
   "outputs": [],
   "source": [
    "from sklearn.linear_model import ElasticNet"
   ]
  },
  {
   "cell_type": "code",
   "execution_count": 121,
   "id": "9c41808d",
   "metadata": {},
   "outputs": [],
   "source": [
    "elastic_model = ElasticNet()"
   ]
  },
  {
   "cell_type": "code",
   "execution_count": 123,
   "id": "587a818b",
   "metadata": {},
   "outputs": [
    {
     "data": {
      "text/plain": [
       "ElasticNet()"
      ]
     },
     "execution_count": 123,
     "metadata": {},
     "output_type": "execute_result"
    }
   ],
   "source": [
    "elastic_model.fit(X_train, y_train)"
   ]
  },
  {
   "cell_type": "code",
   "execution_count": 124,
   "id": "eaf848d1",
   "metadata": {},
   "outputs": [
    {
     "data": {
      "text/plain": [
       "array([-0.68448251, -0.05195235, -0.        ,  0.73597673,  0.08927311,\n",
       "        0.2480418 ,  0.03998653,  0.22582511,  0.13911431])"
      ]
     },
     "execution_count": 124,
     "metadata": {},
     "output_type": "execute_result"
    }
   ],
   "source": [
    "elastic_model.coef_"
   ]
  },
  {
   "cell_type": "code",
   "execution_count": 125,
   "id": "4be72f9e",
   "metadata": {},
   "outputs": [
    {
     "data": {
      "text/plain": [
       "32.318471337579616"
      ]
     },
     "execution_count": 125,
     "metadata": {},
     "output_type": "execute_result"
    }
   ],
   "source": [
    "elastic_model.intercept_"
   ]
  },
  {
   "cell_type": "code",
   "execution_count": 127,
   "id": "bde5d450",
   "metadata": {},
   "outputs": [],
   "source": [
    "elastic_predict = elastic_model.predict(X_test)"
   ]
  },
  {
   "cell_type": "markdown",
   "id": "a6112cb1",
   "metadata": {},
   "source": [
    "#### R-Squard and Adjusted R-Squard on Elastic model"
   ]
  },
  {
   "cell_type": "code",
   "execution_count": 128,
   "id": "1c72399b",
   "metadata": {},
   "outputs": [
    {
     "name": "stdout",
     "output_type": "stream",
     "text": [
      "Elastic R Squard: 0.49946540625010416\n",
      "Elastic Adjusted R Squard: 0.44019157277972176\n"
     ]
    }
   ],
   "source": [
    "from sklearn.metrics import r2_score\n",
    "score = r2_score(y_test, elastic_predict)\n",
    "print(f'Elastic R Squard: {score}')\n",
    "\n",
    "adjusted_R_squard = 1 - (1-score)*(len(y_test)-1)/(len(y_test) - X_test.shape[1]-1)\n",
    "print(f'Elastic Adjusted R Squard: {adjusted_R_squard}')"
   ]
  },
  {
   "cell_type": "markdown",
   "id": "d944fbdd",
   "metadata": {},
   "source": [
    "#### Adjusted R-Squard Value overview:\n",
    "- LinearRegression    51.15%\n",
    "- Ridge               51.37%\n",
    "- Lasso               40.29%\n",
    "- Elastic             44.01%"
   ]
  },
  {
   "cell_type": "markdown",
   "id": "15127470",
   "metadata": {},
   "source": [
    "## Conclusion"
   ]
  },
  {
   "cell_type": "markdown",
   "id": "6c6e15f3",
   "metadata": {},
   "source": [
    "#### Ridge Regression having the highest 'Adjusted R Squard value'(51.37%). So, we can consider 'Ridge Regression' is optimal model"
   ]
  },
  {
   "cell_type": "code",
   "execution_count": null,
   "id": "a40a54c8",
   "metadata": {},
   "outputs": [],
   "source": []
  },
  {
   "cell_type": "code",
   "execution_count": null,
   "id": "f8b6bee5",
   "metadata": {},
   "outputs": [],
   "source": []
  },
  {
   "cell_type": "code",
   "execution_count": null,
   "id": "874df66b",
   "metadata": {},
   "outputs": [],
   "source": []
  }
 ],
 "metadata": {
  "kernelspec": {
   "display_name": "Python 3 (ipykernel)",
   "language": "python",
   "name": "python3"
  },
  "language_info": {
   "codemirror_mode": {
    "name": "ipython",
    "version": 3
   },
   "file_extension": ".py",
   "mimetype": "text/x-python",
   "name": "python",
   "nbconvert_exporter": "python",
   "pygments_lexer": "ipython3",
   "version": "3.9.12"
  }
 },
 "nbformat": 4,
 "nbformat_minor": 5
}
