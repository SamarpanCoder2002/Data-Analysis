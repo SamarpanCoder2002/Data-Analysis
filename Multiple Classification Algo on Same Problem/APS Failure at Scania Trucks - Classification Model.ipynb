{
 "cells": [
  {
   "cell_type": "code",
   "execution_count": 1,
   "id": "343a1997",
   "metadata": {},
   "outputs": [],
   "source": [
    "# Importing required libs\n",
    "import pandas as pd\n",
    "import numpy as np\n",
    "import seaborn as sns\n",
    "import matplotlib.pyplot as plt\n",
    "%matplotlib inline\n",
    "import warnings\n",
    "warnings.filterwarnings(\"ignore\")\n",
    "from statsmodels.stats.outliers_influence import variance_inflation_factor"
   ]
  },
  {
   "cell_type": "code",
   "execution_count": 2,
   "id": "979fc390",
   "metadata": {},
   "outputs": [],
   "source": [
    "# Reading the dataset\n",
    "df=pd.read_csv(r\"E:\\Learning Files\\Data Science\\dataset\\track_dataset.csv\", skiprows=20)"
   ]
  },
  {
   "cell_type": "code",
   "execution_count": 3,
   "id": "79f0a92e",
   "metadata": {},
   "outputs": [
    {
     "data": {
      "text/html": [
       "<div>\n",
       "<style scoped>\n",
       "    .dataframe tbody tr th:only-of-type {\n",
       "        vertical-align: middle;\n",
       "    }\n",
       "\n",
       "    .dataframe tbody tr th {\n",
       "        vertical-align: top;\n",
       "    }\n",
       "\n",
       "    .dataframe thead th {\n",
       "        text-align: right;\n",
       "    }\n",
       "</style>\n",
       "<table border=\"1\" class=\"dataframe\">\n",
       "  <thead>\n",
       "    <tr style=\"text-align: right;\">\n",
       "      <th></th>\n",
       "      <th>class</th>\n",
       "      <th>aa_000</th>\n",
       "      <th>ab_000</th>\n",
       "      <th>ac_000</th>\n",
       "      <th>ad_000</th>\n",
       "      <th>ae_000</th>\n",
       "      <th>af_000</th>\n",
       "      <th>ag_000</th>\n",
       "      <th>ag_001</th>\n",
       "      <th>ag_002</th>\n",
       "      <th>...</th>\n",
       "      <th>ee_002</th>\n",
       "      <th>ee_003</th>\n",
       "      <th>ee_004</th>\n",
       "      <th>ee_005</th>\n",
       "      <th>ee_006</th>\n",
       "      <th>ee_007</th>\n",
       "      <th>ee_008</th>\n",
       "      <th>ee_009</th>\n",
       "      <th>ef_000</th>\n",
       "      <th>eg_000</th>\n",
       "    </tr>\n",
       "  </thead>\n",
       "  <tbody>\n",
       "    <tr>\n",
       "      <th>0</th>\n",
       "      <td>neg</td>\n",
       "      <td>76698</td>\n",
       "      <td>na</td>\n",
       "      <td>2130706438</td>\n",
       "      <td>280</td>\n",
       "      <td>0</td>\n",
       "      <td>0</td>\n",
       "      <td>0</td>\n",
       "      <td>0</td>\n",
       "      <td>0</td>\n",
       "      <td>...</td>\n",
       "      <td>1240520</td>\n",
       "      <td>493384</td>\n",
       "      <td>721044</td>\n",
       "      <td>469792</td>\n",
       "      <td>339156</td>\n",
       "      <td>157956</td>\n",
       "      <td>73224</td>\n",
       "      <td>0</td>\n",
       "      <td>0</td>\n",
       "      <td>0</td>\n",
       "    </tr>\n",
       "    <tr>\n",
       "      <th>1</th>\n",
       "      <td>neg</td>\n",
       "      <td>33058</td>\n",
       "      <td>na</td>\n",
       "      <td>0</td>\n",
       "      <td>na</td>\n",
       "      <td>0</td>\n",
       "      <td>0</td>\n",
       "      <td>0</td>\n",
       "      <td>0</td>\n",
       "      <td>0</td>\n",
       "      <td>...</td>\n",
       "      <td>421400</td>\n",
       "      <td>178064</td>\n",
       "      <td>293306</td>\n",
       "      <td>245416</td>\n",
       "      <td>133654</td>\n",
       "      <td>81140</td>\n",
       "      <td>97576</td>\n",
       "      <td>1500</td>\n",
       "      <td>0</td>\n",
       "      <td>0</td>\n",
       "    </tr>\n",
       "    <tr>\n",
       "      <th>2</th>\n",
       "      <td>neg</td>\n",
       "      <td>41040</td>\n",
       "      <td>na</td>\n",
       "      <td>228</td>\n",
       "      <td>100</td>\n",
       "      <td>0</td>\n",
       "      <td>0</td>\n",
       "      <td>0</td>\n",
       "      <td>0</td>\n",
       "      <td>0</td>\n",
       "      <td>...</td>\n",
       "      <td>277378</td>\n",
       "      <td>159812</td>\n",
       "      <td>423992</td>\n",
       "      <td>409564</td>\n",
       "      <td>320746</td>\n",
       "      <td>158022</td>\n",
       "      <td>95128</td>\n",
       "      <td>514</td>\n",
       "      <td>0</td>\n",
       "      <td>0</td>\n",
       "    </tr>\n",
       "    <tr>\n",
       "      <th>3</th>\n",
       "      <td>neg</td>\n",
       "      <td>12</td>\n",
       "      <td>0</td>\n",
       "      <td>70</td>\n",
       "      <td>66</td>\n",
       "      <td>0</td>\n",
       "      <td>10</td>\n",
       "      <td>0</td>\n",
       "      <td>0</td>\n",
       "      <td>0</td>\n",
       "      <td>...</td>\n",
       "      <td>240</td>\n",
       "      <td>46</td>\n",
       "      <td>58</td>\n",
       "      <td>44</td>\n",
       "      <td>10</td>\n",
       "      <td>0</td>\n",
       "      <td>0</td>\n",
       "      <td>0</td>\n",
       "      <td>4</td>\n",
       "      <td>32</td>\n",
       "    </tr>\n",
       "    <tr>\n",
       "      <th>4</th>\n",
       "      <td>neg</td>\n",
       "      <td>60874</td>\n",
       "      <td>na</td>\n",
       "      <td>1368</td>\n",
       "      <td>458</td>\n",
       "      <td>0</td>\n",
       "      <td>0</td>\n",
       "      <td>0</td>\n",
       "      <td>0</td>\n",
       "      <td>0</td>\n",
       "      <td>...</td>\n",
       "      <td>622012</td>\n",
       "      <td>229790</td>\n",
       "      <td>405298</td>\n",
       "      <td>347188</td>\n",
       "      <td>286954</td>\n",
       "      <td>311560</td>\n",
       "      <td>433954</td>\n",
       "      <td>1218</td>\n",
       "      <td>0</td>\n",
       "      <td>0</td>\n",
       "    </tr>\n",
       "  </tbody>\n",
       "</table>\n",
       "<p>5 rows × 171 columns</p>\n",
       "</div>"
      ],
      "text/plain": [
       "  class  aa_000 ab_000      ac_000 ad_000 ae_000 af_000 ag_000 ag_001 ag_002  \\\n",
       "0   neg   76698     na  2130706438    280      0      0      0      0      0   \n",
       "1   neg   33058     na           0     na      0      0      0      0      0   \n",
       "2   neg   41040     na         228    100      0      0      0      0      0   \n",
       "3   neg      12      0          70     66      0     10      0      0      0   \n",
       "4   neg   60874     na        1368    458      0      0      0      0      0   \n",
       "\n",
       "   ...   ee_002  ee_003  ee_004  ee_005  ee_006  ee_007  ee_008 ee_009 ef_000  \\\n",
       "0  ...  1240520  493384  721044  469792  339156  157956   73224      0      0   \n",
       "1  ...   421400  178064  293306  245416  133654   81140   97576   1500      0   \n",
       "2  ...   277378  159812  423992  409564  320746  158022   95128    514      0   \n",
       "3  ...      240      46      58      44      10       0       0      0      4   \n",
       "4  ...   622012  229790  405298  347188  286954  311560  433954   1218      0   \n",
       "\n",
       "  eg_000  \n",
       "0      0  \n",
       "1      0  \n",
       "2      0  \n",
       "3     32  \n",
       "4      0  \n",
       "\n",
       "[5 rows x 171 columns]"
      ]
     },
     "execution_count": 3,
     "metadata": {},
     "output_type": "execute_result"
    }
   ],
   "source": [
    "# Taking data overview\n",
    "df.head()"
   ]
  },
  {
   "cell_type": "code",
   "execution_count": 4,
   "id": "1abae1dc",
   "metadata": {},
   "outputs": [
    {
     "data": {
      "text/plain": [
       "(60000, 171)"
      ]
     },
     "execution_count": 4,
     "metadata": {},
     "output_type": "execute_result"
    }
   ],
   "source": [
    "# Taking raw data size\n",
    "df.shape"
   ]
  },
  {
   "cell_type": "code",
   "execution_count": 5,
   "id": "7ae5b42d",
   "metadata": {},
   "outputs": [
    {
     "data": {
      "text/html": [
       "<div>\n",
       "<style scoped>\n",
       "    .dataframe tbody tr th:only-of-type {\n",
       "        vertical-align: middle;\n",
       "    }\n",
       "\n",
       "    .dataframe tbody tr th {\n",
       "        vertical-align: top;\n",
       "    }\n",
       "\n",
       "    .dataframe thead th {\n",
       "        text-align: right;\n",
       "    }\n",
       "</style>\n",
       "<table border=\"1\" class=\"dataframe\">\n",
       "  <thead>\n",
       "    <tr style=\"text-align: right;\">\n",
       "      <th></th>\n",
       "      <th>aa_000</th>\n",
       "    </tr>\n",
       "  </thead>\n",
       "  <tbody>\n",
       "    <tr>\n",
       "      <th>0</th>\n",
       "      <td>76698</td>\n",
       "    </tr>\n",
       "    <tr>\n",
       "      <th>1</th>\n",
       "      <td>33058</td>\n",
       "    </tr>\n",
       "    <tr>\n",
       "      <th>2</th>\n",
       "      <td>41040</td>\n",
       "    </tr>\n",
       "    <tr>\n",
       "      <th>3</th>\n",
       "      <td>12</td>\n",
       "    </tr>\n",
       "    <tr>\n",
       "      <th>4</th>\n",
       "      <td>60874</td>\n",
       "    </tr>\n",
       "    <tr>\n",
       "      <th>...</th>\n",
       "      <td>...</td>\n",
       "    </tr>\n",
       "    <tr>\n",
       "      <th>59995</th>\n",
       "      <td>153002</td>\n",
       "    </tr>\n",
       "    <tr>\n",
       "      <th>59996</th>\n",
       "      <td>2286</td>\n",
       "    </tr>\n",
       "    <tr>\n",
       "      <th>59997</th>\n",
       "      <td>112</td>\n",
       "    </tr>\n",
       "    <tr>\n",
       "      <th>59998</th>\n",
       "      <td>80292</td>\n",
       "    </tr>\n",
       "    <tr>\n",
       "      <th>59999</th>\n",
       "      <td>40222</td>\n",
       "    </tr>\n",
       "  </tbody>\n",
       "</table>\n",
       "<p>60000 rows × 1 columns</p>\n",
       "</div>"
      ],
      "text/plain": [
       "       aa_000\n",
       "0       76698\n",
       "1       33058\n",
       "2       41040\n",
       "3          12\n",
       "4       60874\n",
       "...       ...\n",
       "59995  153002\n",
       "59996    2286\n",
       "59997     112\n",
       "59998   80292\n",
       "59999   40222\n",
       "\n",
       "[60000 rows x 1 columns]"
      ]
     },
     "execution_count": 5,
     "metadata": {},
     "output_type": "execute_result"
    }
   ],
   "source": [
    "# Checking columns having only numbers\n",
    "df.select_dtypes(include=np.number)"
   ]
  },
  {
   "cell_type": "markdown",
   "id": "ff7a6a6f",
   "metadata": {},
   "source": [
    "#### It means other 169 columns have impure or empty value"
   ]
  },
  {
   "cell_type": "markdown",
   "id": "5fab87fc",
   "metadata": {},
   "source": [
    "## 👉 EDA and Data Cleaning"
   ]
  },
  {
   "cell_type": "code",
   "execution_count": 6,
   "id": "02ef4441",
   "metadata": {},
   "outputs": [],
   "source": [
    "# Replacing 'na' with 'NaN' Values\n",
    "df.replace('na', np.NaN, inplace=True)"
   ]
  },
  {
   "cell_type": "code",
   "execution_count": 7,
   "id": "805462b3",
   "metadata": {},
   "outputs": [
    {
     "data": {
      "text/html": [
       "<div>\n",
       "<style scoped>\n",
       "    .dataframe tbody tr th:only-of-type {\n",
       "        vertical-align: middle;\n",
       "    }\n",
       "\n",
       "    .dataframe tbody tr th {\n",
       "        vertical-align: top;\n",
       "    }\n",
       "\n",
       "    .dataframe thead th {\n",
       "        text-align: right;\n",
       "    }\n",
       "</style>\n",
       "<table border=\"1\" class=\"dataframe\">\n",
       "  <thead>\n",
       "    <tr style=\"text-align: right;\">\n",
       "      <th></th>\n",
       "      <th>class</th>\n",
       "      <th>aa_000</th>\n",
       "      <th>ab_000</th>\n",
       "      <th>ac_000</th>\n",
       "      <th>ad_000</th>\n",
       "      <th>ae_000</th>\n",
       "      <th>af_000</th>\n",
       "      <th>ag_000</th>\n",
       "      <th>ag_001</th>\n",
       "      <th>ag_002</th>\n",
       "      <th>...</th>\n",
       "      <th>ee_002</th>\n",
       "      <th>ee_003</th>\n",
       "      <th>ee_004</th>\n",
       "      <th>ee_005</th>\n",
       "      <th>ee_006</th>\n",
       "      <th>ee_007</th>\n",
       "      <th>ee_008</th>\n",
       "      <th>ee_009</th>\n",
       "      <th>ef_000</th>\n",
       "      <th>eg_000</th>\n",
       "    </tr>\n",
       "  </thead>\n",
       "  <tbody>\n",
       "    <tr>\n",
       "      <th>0</th>\n",
       "      <td>neg</td>\n",
       "      <td>76698</td>\n",
       "      <td>NaN</td>\n",
       "      <td>2130706438</td>\n",
       "      <td>280</td>\n",
       "      <td>0</td>\n",
       "      <td>0</td>\n",
       "      <td>0</td>\n",
       "      <td>0</td>\n",
       "      <td>0</td>\n",
       "      <td>...</td>\n",
       "      <td>1240520</td>\n",
       "      <td>493384</td>\n",
       "      <td>721044</td>\n",
       "      <td>469792</td>\n",
       "      <td>339156</td>\n",
       "      <td>157956</td>\n",
       "      <td>73224</td>\n",
       "      <td>0</td>\n",
       "      <td>0</td>\n",
       "      <td>0</td>\n",
       "    </tr>\n",
       "    <tr>\n",
       "      <th>1</th>\n",
       "      <td>neg</td>\n",
       "      <td>33058</td>\n",
       "      <td>NaN</td>\n",
       "      <td>0</td>\n",
       "      <td>NaN</td>\n",
       "      <td>0</td>\n",
       "      <td>0</td>\n",
       "      <td>0</td>\n",
       "      <td>0</td>\n",
       "      <td>0</td>\n",
       "      <td>...</td>\n",
       "      <td>421400</td>\n",
       "      <td>178064</td>\n",
       "      <td>293306</td>\n",
       "      <td>245416</td>\n",
       "      <td>133654</td>\n",
       "      <td>81140</td>\n",
       "      <td>97576</td>\n",
       "      <td>1500</td>\n",
       "      <td>0</td>\n",
       "      <td>0</td>\n",
       "    </tr>\n",
       "    <tr>\n",
       "      <th>2</th>\n",
       "      <td>neg</td>\n",
       "      <td>41040</td>\n",
       "      <td>NaN</td>\n",
       "      <td>228</td>\n",
       "      <td>100</td>\n",
       "      <td>0</td>\n",
       "      <td>0</td>\n",
       "      <td>0</td>\n",
       "      <td>0</td>\n",
       "      <td>0</td>\n",
       "      <td>...</td>\n",
       "      <td>277378</td>\n",
       "      <td>159812</td>\n",
       "      <td>423992</td>\n",
       "      <td>409564</td>\n",
       "      <td>320746</td>\n",
       "      <td>158022</td>\n",
       "      <td>95128</td>\n",
       "      <td>514</td>\n",
       "      <td>0</td>\n",
       "      <td>0</td>\n",
       "    </tr>\n",
       "    <tr>\n",
       "      <th>3</th>\n",
       "      <td>neg</td>\n",
       "      <td>12</td>\n",
       "      <td>0</td>\n",
       "      <td>70</td>\n",
       "      <td>66</td>\n",
       "      <td>0</td>\n",
       "      <td>10</td>\n",
       "      <td>0</td>\n",
       "      <td>0</td>\n",
       "      <td>0</td>\n",
       "      <td>...</td>\n",
       "      <td>240</td>\n",
       "      <td>46</td>\n",
       "      <td>58</td>\n",
       "      <td>44</td>\n",
       "      <td>10</td>\n",
       "      <td>0</td>\n",
       "      <td>0</td>\n",
       "      <td>0</td>\n",
       "      <td>4</td>\n",
       "      <td>32</td>\n",
       "    </tr>\n",
       "    <tr>\n",
       "      <th>4</th>\n",
       "      <td>neg</td>\n",
       "      <td>60874</td>\n",
       "      <td>NaN</td>\n",
       "      <td>1368</td>\n",
       "      <td>458</td>\n",
       "      <td>0</td>\n",
       "      <td>0</td>\n",
       "      <td>0</td>\n",
       "      <td>0</td>\n",
       "      <td>0</td>\n",
       "      <td>...</td>\n",
       "      <td>622012</td>\n",
       "      <td>229790</td>\n",
       "      <td>405298</td>\n",
       "      <td>347188</td>\n",
       "      <td>286954</td>\n",
       "      <td>311560</td>\n",
       "      <td>433954</td>\n",
       "      <td>1218</td>\n",
       "      <td>0</td>\n",
       "      <td>0</td>\n",
       "    </tr>\n",
       "  </tbody>\n",
       "</table>\n",
       "<p>5 rows × 171 columns</p>\n",
       "</div>"
      ],
      "text/plain": [
       "  class  aa_000 ab_000      ac_000 ad_000 ae_000 af_000 ag_000 ag_001 ag_002  \\\n",
       "0   neg   76698    NaN  2130706438    280      0      0      0      0      0   \n",
       "1   neg   33058    NaN           0    NaN      0      0      0      0      0   \n",
       "2   neg   41040    NaN         228    100      0      0      0      0      0   \n",
       "3   neg      12      0          70     66      0     10      0      0      0   \n",
       "4   neg   60874    NaN        1368    458      0      0      0      0      0   \n",
       "\n",
       "   ...   ee_002  ee_003  ee_004  ee_005  ee_006  ee_007  ee_008 ee_009 ef_000  \\\n",
       "0  ...  1240520  493384  721044  469792  339156  157956   73224      0      0   \n",
       "1  ...   421400  178064  293306  245416  133654   81140   97576   1500      0   \n",
       "2  ...   277378  159812  423992  409564  320746  158022   95128    514      0   \n",
       "3  ...      240      46      58      44      10       0       0      0      4   \n",
       "4  ...   622012  229790  405298  347188  286954  311560  433954   1218      0   \n",
       "\n",
       "  eg_000  \n",
       "0      0  \n",
       "1      0  \n",
       "2      0  \n",
       "3     32  \n",
       "4      0  \n",
       "\n",
       "[5 rows x 171 columns]"
      ]
     },
     "execution_count": 7,
     "metadata": {},
     "output_type": "execute_result"
    }
   ],
   "source": [
    "# After converting 'na' with 'NaN'\n",
    "df.head()"
   ]
  },
  {
   "cell_type": "code",
   "execution_count": 8,
   "id": "53f3c6a5",
   "metadata": {},
   "outputs": [
    {
     "data": {
      "text/plain": [
       "850015"
      ]
     },
     "execution_count": 8,
     "metadata": {},
     "output_type": "execute_result"
    }
   ],
   "source": [
    "df.isnull().sum().sum()"
   ]
  },
  {
   "cell_type": "markdown",
   "id": "99866ffd",
   "metadata": {},
   "source": [
    "#### Having total 850015 missing values😲"
   ]
  },
  {
   "cell_type": "markdown",
   "id": "37e2d2e4",
   "metadata": {},
   "source": [
    "### 🤔 From a broader view, we can see that most of the columns having impure value. Now we have to check how many percentage of each column data having polluted value. Because removing all rows having polluted value can result having a huge data loss"
   ]
  },
  {
   "cell_type": "code",
   "execution_count": 9,
   "id": "b24af78e",
   "metadata": {},
   "outputs": [
    {
     "data": {
      "text/html": [
       "<div>\n",
       "<style scoped>\n",
       "    .dataframe tbody tr th:only-of-type {\n",
       "        vertical-align: middle;\n",
       "    }\n",
       "\n",
       "    .dataframe tbody tr th {\n",
       "        vertical-align: top;\n",
       "    }\n",
       "\n",
       "    .dataframe thead th {\n",
       "        text-align: right;\n",
       "    }\n",
       "</style>\n",
       "<table border=\"1\" class=\"dataframe\">\n",
       "  <thead>\n",
       "    <tr style=\"text-align: right;\">\n",
       "      <th></th>\n",
       "      <th>index</th>\n",
       "      <th>percentage_missing</th>\n",
       "    </tr>\n",
       "  </thead>\n",
       "  <tbody>\n",
       "    <tr>\n",
       "      <th>0</th>\n",
       "      <td>class</td>\n",
       "      <td>0.000000</td>\n",
       "    </tr>\n",
       "    <tr>\n",
       "      <th>1</th>\n",
       "      <td>aa_000</td>\n",
       "      <td>0.000000</td>\n",
       "    </tr>\n",
       "    <tr>\n",
       "      <th>2</th>\n",
       "      <td>ab_000</td>\n",
       "      <td>77.215000</td>\n",
       "    </tr>\n",
       "    <tr>\n",
       "      <th>3</th>\n",
       "      <td>ac_000</td>\n",
       "      <td>5.558333</td>\n",
       "    </tr>\n",
       "    <tr>\n",
       "      <th>4</th>\n",
       "      <td>ad_000</td>\n",
       "      <td>24.768333</td>\n",
       "    </tr>\n",
       "    <tr>\n",
       "      <th>...</th>\n",
       "      <td>...</td>\n",
       "      <td>...</td>\n",
       "    </tr>\n",
       "    <tr>\n",
       "      <th>166</th>\n",
       "      <td>ee_007</td>\n",
       "      <td>1.118333</td>\n",
       "    </tr>\n",
       "    <tr>\n",
       "      <th>167</th>\n",
       "      <td>ee_008</td>\n",
       "      <td>1.118333</td>\n",
       "    </tr>\n",
       "    <tr>\n",
       "      <th>168</th>\n",
       "      <td>ee_009</td>\n",
       "      <td>1.118333</td>\n",
       "    </tr>\n",
       "    <tr>\n",
       "      <th>169</th>\n",
       "      <td>ef_000</td>\n",
       "      <td>4.540000</td>\n",
       "    </tr>\n",
       "    <tr>\n",
       "      <th>170</th>\n",
       "      <td>eg_000</td>\n",
       "      <td>4.538333</td>\n",
       "    </tr>\n",
       "  </tbody>\n",
       "</table>\n",
       "<p>171 rows × 2 columns</p>\n",
       "</div>"
      ],
      "text/plain": [
       "      index  percentage_missing\n",
       "0     class            0.000000\n",
       "1    aa_000            0.000000\n",
       "2    ab_000           77.215000\n",
       "3    ac_000            5.558333\n",
       "4    ad_000           24.768333\n",
       "..      ...                 ...\n",
       "166  ee_007            1.118333\n",
       "167  ee_008            1.118333\n",
       "168  ee_009            1.118333\n",
       "169  ef_000            4.540000\n",
       "170  eg_000            4.538333\n",
       "\n",
       "[171 rows x 2 columns]"
      ]
     },
     "execution_count": 9,
     "metadata": {},
     "output_type": "execute_result"
    }
   ],
   "source": [
    "# Getting percentage of missing data for each column\n",
    "\n",
    "missing_value_percentage = df.isnull().sum().div(df.shape[0]).mul(100).to_frame().reset_index()\n",
    "missing_value_percentage.rename(columns={0: 'percentage_missing'}, inplace=True)\n",
    "missing_value_percentage"
   ]
  },
  {
   "cell_type": "code",
   "execution_count": 10,
   "id": "48fb1b1a",
   "metadata": {},
   "outputs": [
    {
     "data": {
      "text/html": [
       "<div>\n",
       "<style scoped>\n",
       "    .dataframe tbody tr th:only-of-type {\n",
       "        vertical-align: middle;\n",
       "    }\n",
       "\n",
       "    .dataframe tbody tr th {\n",
       "        vertical-align: top;\n",
       "    }\n",
       "\n",
       "    .dataframe thead th {\n",
       "        text-align: right;\n",
       "    }\n",
       "</style>\n",
       "<table border=\"1\" class=\"dataframe\">\n",
       "  <thead>\n",
       "    <tr style=\"text-align: right;\">\n",
       "      <th></th>\n",
       "      <th>index</th>\n",
       "      <th>percentage_missing</th>\n",
       "    </tr>\n",
       "  </thead>\n",
       "  <tbody>\n",
       "    <tr>\n",
       "      <th>79</th>\n",
       "      <td>br_000</td>\n",
       "      <td>82.106667</td>\n",
       "    </tr>\n",
       "    <tr>\n",
       "      <th>78</th>\n",
       "      <td>bq_000</td>\n",
       "      <td>81.203333</td>\n",
       "    </tr>\n",
       "    <tr>\n",
       "      <th>77</th>\n",
       "      <td>bp_000</td>\n",
       "      <td>79.566667</td>\n",
       "    </tr>\n",
       "    <tr>\n",
       "      <th>76</th>\n",
       "      <td>bo_000</td>\n",
       "      <td>77.221667</td>\n",
       "    </tr>\n",
       "    <tr>\n",
       "      <th>2</th>\n",
       "      <td>ab_000</td>\n",
       "      <td>77.215000</td>\n",
       "    </tr>\n",
       "  </tbody>\n",
       "</table>\n",
       "</div>"
      ],
      "text/plain": [
       "     index  percentage_missing\n",
       "79  br_000           82.106667\n",
       "78  bq_000           81.203333\n",
       "77  bp_000           79.566667\n",
       "76  bo_000           77.221667\n",
       "2   ab_000           77.215000"
      ]
     },
     "execution_count": 10,
     "metadata": {},
     "output_type": "execute_result"
    }
   ],
   "source": [
    "# Sort that columns so that we can visualize percentage of missing in graph\n",
    "\n",
    "missing_value_percentage.sort_values(by='percentage_missing', ascending=False, inplace=True)\n",
    "missing_value_percentage.head()"
   ]
  },
  {
   "cell_type": "markdown",
   "id": "b604fb24",
   "metadata": {},
   "source": [
    "### Ploting missing value percentage for each column"
   ]
  },
  {
   "cell_type": "code",
   "execution_count": 11,
   "id": "5c7fd429",
   "metadata": {},
   "outputs": [
    {
     "data": {
      "image/png": "[encoded data removed]",
      "text/plain": [
       "<Figure size 1800x720 with 1 Axes>"
      ]
     },
     "metadata": {
      "needs_background": "light"
     },
     "output_type": "display_data"
    }
   ],
   "source": [
    "plt.figure(figsize=(25,10))\n",
    "sns.barplot(data=missing_value_percentage, y='percentage_missing', x='index')\n",
    "plt.suptitle('Visualizing Columns having Percentage Data Missing', fontsize=30, fontweight='bold', alpha=0.6,)\n",
    "plt.xticks([])\n",
    "plt.ylabel('Percentage Data Missing', fontdict={'fontsize': 25})\n",
    "plt.xlabel('Columns', fontdict={'fontsize': 25})\n",
    "plt.show()"
   ]
  },
  {
   "cell_type": "markdown",
   "id": "c261150d",
   "metadata": {},
   "source": [
    "#### That is rediculus missing values. We have to try to remove columns having high missing values to having less data loss."
   ]
  },
  {
   "cell_type": "code",
   "execution_count": 12,
   "id": "34f1b128",
   "metadata": {},
   "outputs": [
    {
     "data": {
      "text/html": [
       "<div>\n",
       "<style scoped>\n",
       "    .dataframe tbody tr th:only-of-type {\n",
       "        vertical-align: middle;\n",
       "    }\n",
       "\n",
       "    .dataframe tbody tr th {\n",
       "        vertical-align: top;\n",
       "    }\n",
       "\n",
       "    .dataframe thead th {\n",
       "        text-align: right;\n",
       "    }\n",
       "</style>\n",
       "<table border=\"1\" class=\"dataframe\">\n",
       "  <thead>\n",
       "    <tr style=\"text-align: right;\">\n",
       "      <th></th>\n",
       "      <th>index</th>\n",
       "      <th>percentage_missing</th>\n",
       "    </tr>\n",
       "  </thead>\n",
       "  <tbody>\n",
       "    <tr>\n",
       "      <th>79</th>\n",
       "      <td>br_000</td>\n",
       "      <td>82.106667</td>\n",
       "    </tr>\n",
       "    <tr>\n",
       "      <th>78</th>\n",
       "      <td>bq_000</td>\n",
       "      <td>81.203333</td>\n",
       "    </tr>\n",
       "    <tr>\n",
       "      <th>77</th>\n",
       "      <td>bp_000</td>\n",
       "      <td>79.566667</td>\n",
       "    </tr>\n",
       "    <tr>\n",
       "      <th>76</th>\n",
       "      <td>bo_000</td>\n",
       "      <td>77.221667</td>\n",
       "    </tr>\n",
       "    <tr>\n",
       "      <th>2</th>\n",
       "      <td>ab_000</td>\n",
       "      <td>77.215000</td>\n",
       "    </tr>\n",
       "    <tr>\n",
       "      <th>113</th>\n",
       "      <td>cr_000</td>\n",
       "      <td>77.215000</td>\n",
       "    </tr>\n",
       "    <tr>\n",
       "      <th>75</th>\n",
       "      <td>bn_000</td>\n",
       "      <td>73.348333</td>\n",
       "    </tr>\n",
       "    <tr>\n",
       "      <th>74</th>\n",
       "      <td>bm_000</td>\n",
       "      <td>65.915000</td>\n",
       "    </tr>\n",
       "    <tr>\n",
       "      <th>73</th>\n",
       "      <td>bl_000</td>\n",
       "      <td>45.461667</td>\n",
       "    </tr>\n",
       "    <tr>\n",
       "      <th>72</th>\n",
       "      <td>bk_000</td>\n",
       "      <td>38.390000</td>\n",
       "    </tr>\n",
       "    <tr>\n",
       "      <th>94</th>\n",
       "      <td>ch_000</td>\n",
       "      <td>24.768333</td>\n",
       "    </tr>\n",
       "    <tr>\n",
       "      <th>110</th>\n",
       "      <td>co_000</td>\n",
       "      <td>24.768333</td>\n",
       "    </tr>\n",
       "    <tr>\n",
       "      <th>93</th>\n",
       "      <td>cg_000</td>\n",
       "      <td>24.768333</td>\n",
       "    </tr>\n",
       "    <tr>\n",
       "      <th>92</th>\n",
       "      <td>cf_000</td>\n",
       "      <td>24.768333</td>\n",
       "    </tr>\n",
       "    <tr>\n",
       "      <th>4</th>\n",
       "      <td>ad_000</td>\n",
       "      <td>24.768333</td>\n",
       "    </tr>\n",
       "  </tbody>\n",
       "</table>\n",
       "</div>"
      ],
      "text/plain": [
       "      index  percentage_missing\n",
       "79   br_000           82.106667\n",
       "78   bq_000           81.203333\n",
       "77   bp_000           79.566667\n",
       "76   bo_000           77.221667\n",
       "2    ab_000           77.215000\n",
       "113  cr_000           77.215000\n",
       "75   bn_000           73.348333\n",
       "74   bm_000           65.915000\n",
       "73   bl_000           45.461667\n",
       "72   bk_000           38.390000\n",
       "94   ch_000           24.768333\n",
       "110  co_000           24.768333\n",
       "93   cg_000           24.768333\n",
       "92   cf_000           24.768333\n",
       "4    ad_000           24.768333"
      ]
     },
     "execution_count": 12,
     "metadata": {},
     "output_type": "execute_result"
    }
   ],
   "source": [
    "missing_value_percentage.head(n=15)"
   ]
  },
  {
   "cell_type": "markdown",
   "id": "313a952a",
   "metadata": {},
   "source": [
    "#### We can see clearly, there is a huge gap between 24% to 38% in 'percentage_missing'"
   ]
  },
  {
   "cell_type": "code",
   "execution_count": 13,
   "id": "54e55c4e",
   "metadata": {},
   "outputs": [
    {
     "data": {
      "text/html": [
       "<div>\n",
       "<style scoped>\n",
       "    .dataframe tbody tr th:only-of-type {\n",
       "        vertical-align: middle;\n",
       "    }\n",
       "\n",
       "    .dataframe tbody tr th {\n",
       "        vertical-align: top;\n",
       "    }\n",
       "\n",
       "    .dataframe thead th {\n",
       "        text-align: right;\n",
       "    }\n",
       "</style>\n",
       "<table border=\"1\" class=\"dataframe\">\n",
       "  <thead>\n",
       "    <tr style=\"text-align: right;\">\n",
       "      <th></th>\n",
       "      <th>index</th>\n",
       "      <th>percentage_missing</th>\n",
       "    </tr>\n",
       "  </thead>\n",
       "  <tbody>\n",
       "    <tr>\n",
       "      <th>79</th>\n",
       "      <td>br_000</td>\n",
       "      <td>82.106667</td>\n",
       "    </tr>\n",
       "    <tr>\n",
       "      <th>78</th>\n",
       "      <td>bq_000</td>\n",
       "      <td>81.203333</td>\n",
       "    </tr>\n",
       "    <tr>\n",
       "      <th>77</th>\n",
       "      <td>bp_000</td>\n",
       "      <td>79.566667</td>\n",
       "    </tr>\n",
       "    <tr>\n",
       "      <th>76</th>\n",
       "      <td>bo_000</td>\n",
       "      <td>77.221667</td>\n",
       "    </tr>\n",
       "    <tr>\n",
       "      <th>2</th>\n",
       "      <td>ab_000</td>\n",
       "      <td>77.215000</td>\n",
       "    </tr>\n",
       "    <tr>\n",
       "      <th>113</th>\n",
       "      <td>cr_000</td>\n",
       "      <td>77.215000</td>\n",
       "    </tr>\n",
       "    <tr>\n",
       "      <th>75</th>\n",
       "      <td>bn_000</td>\n",
       "      <td>73.348333</td>\n",
       "    </tr>\n",
       "    <tr>\n",
       "      <th>74</th>\n",
       "      <td>bm_000</td>\n",
       "      <td>65.915000</td>\n",
       "    </tr>\n",
       "    <tr>\n",
       "      <th>73</th>\n",
       "      <td>bl_000</td>\n",
       "      <td>45.461667</td>\n",
       "    </tr>\n",
       "    <tr>\n",
       "      <th>72</th>\n",
       "      <td>bk_000</td>\n",
       "      <td>38.390000</td>\n",
       "    </tr>\n",
       "  </tbody>\n",
       "</table>\n",
       "</div>"
      ],
      "text/plain": [
       "      index  percentage_missing\n",
       "79   br_000           82.106667\n",
       "78   bq_000           81.203333\n",
       "77   bp_000           79.566667\n",
       "76   bo_000           77.221667\n",
       "2    ab_000           77.215000\n",
       "113  cr_000           77.215000\n",
       "75   bn_000           73.348333\n",
       "74   bm_000           65.915000\n",
       "73   bl_000           45.461667\n",
       "72   bk_000           38.390000"
      ]
     },
     "execution_count": 13,
     "metadata": {},
     "output_type": "execute_result"
    }
   ],
   "source": [
    "# Taking missing value percentage having more than 25%\n",
    "\n",
    "target_missing = missing_value_percentage[missing_value_percentage['percentage_missing'] > 25]\n",
    "target_missing"
   ]
  },
  {
   "cell_type": "code",
   "execution_count": 14,
   "id": "5fcd46bc",
   "metadata": {},
   "outputs": [
    {
     "name": "stdout",
     "output_type": "stream",
     "text": [
      "10 columns having more than 25% missing values\n"
     ]
    }
   ],
   "source": [
    "print(f'{len(target_missing)} columns having more than 25% missing values')"
   ]
  },
  {
   "cell_type": "markdown",
   "id": "e676b372",
   "metadata": {},
   "source": [
    "#### Now we have to drop that columns having more than 25% missing values"
   ]
  },
  {
   "cell_type": "code",
   "execution_count": 15,
   "id": "44b033c3",
   "metadata": {},
   "outputs": [],
   "source": [
    "# Filtering columns\n",
    "df.drop(target_missing['index'], axis=1, inplace = True)"
   ]
  },
  {
   "cell_type": "code",
   "execution_count": 16,
   "id": "43f6cd27",
   "metadata": {},
   "outputs": [
    {
     "data": {
      "text/plain": [
       "431429"
      ]
     },
     "execution_count": 16,
     "metadata": {},
     "output_type": "execute_result"
    }
   ],
   "source": [
    "df.isnull().sum().sum()"
   ]
  },
  {
   "cell_type": "markdown",
   "id": "2f0c6793",
   "metadata": {},
   "source": [
    "#### NaN values reduced from 850015 to 431429"
   ]
  },
  {
   "cell_type": "markdown",
   "id": "be34e792",
   "metadata": {},
   "source": [
    "### Now we have to manage the columns having empty values <=25%"
   ]
  },
  {
   "cell_type": "markdown",
   "id": "cc33194c",
   "metadata": {},
   "source": [
    "### Converting possible columns data to numeric to check if having outliers"
   ]
  },
  {
   "cell_type": "code",
   "execution_count": 17,
   "id": "5aaa1549",
   "metadata": {},
   "outputs": [
    {
     "data": {
      "text/plain": [
       "class      object\n",
       "aa_000      int64\n",
       "ac_000    float64\n",
       "ad_000    float64\n",
       "ae_000    float64\n",
       "           ...   \n",
       "ee_007    float64\n",
       "ee_008    float64\n",
       "ee_009    float64\n",
       "ef_000    float64\n",
       "eg_000    float64\n",
       "Length: 161, dtype: object"
      ]
     },
     "execution_count": 17,
     "metadata": {},
     "output_type": "execute_result"
    }
   ],
   "source": [
    "df.iloc[:,1:] = df.iloc[:,1:].apply(pd.to_numeric)\n",
    "df.dtypes"
   ]
  },
  {
   "cell_type": "markdown",
   "id": "723bd1df",
   "metadata": {},
   "source": [
    "### Checking outliers"
   ]
  },
  {
   "cell_type": "code",
   "execution_count": 18,
   "id": "0ef34629",
   "metadata": {},
   "outputs": [],
   "source": [
    "# Get range not having outliers\n",
    "def get_range(dfObj, col):\n",
    "    q1 = dfObj[col].quantile(0.25)\n",
    "    q3 = dfObj[col].quantile(0.75)\n",
    "    IQR = q3 - q1\n",
    "    lower_fence = q1 - (1.5*IQR)\n",
    "    higher_fence = q3 + (1.5*IQR)\n",
    "    return lower_fence, higher_fence\n",
    "    "
   ]
  },
  {
   "cell_type": "code",
   "execution_count": 19,
   "id": "ad22896d",
   "metadata": {},
   "outputs": [],
   "source": [
    "# Checking if outliers present or not\n",
    "def is_outliers_present(dfObj, col):\n",
    "    lower_fence, higher_fence = get_range(dfObj, col)\n",
    "    return ((dfObj[col] < lower_fence) | (dfObj[col] > higher_fence)).sum() > 0"
   ]
  },
  {
   "cell_type": "code",
   "execution_count": 20,
   "id": "2543265d",
   "metadata": {},
   "outputs": [],
   "source": [
    "outliers_data = {\n",
    "    True: 0,\n",
    "    False: 0\n",
    "}\n",
    "\n",
    "for column in df.iloc[:,1:].columns:\n",
    "    outlier_present = is_outliers_present(df, column)\n",
    "    outliers_data[outlier_present] += 1"
   ]
  },
  {
   "cell_type": "code",
   "execution_count": 21,
   "id": "b14577d6",
   "metadata": {},
   "outputs": [
    {
     "data": {
      "text/plain": [
       "{True: 157, False: 3}"
      ]
     },
     "execution_count": 21,
     "metadata": {},
     "output_type": "execute_result"
    }
   ],
   "source": [
    "outliers_data"
   ]
  },
  {
   "cell_type": "markdown",
   "id": "1348e5ec",
   "metadata": {},
   "source": [
    "#### Most of the columns having outliers. So, we should replace 'empty values' with median of that particular column"
   ]
  },
  {
   "cell_type": "code",
   "execution_count": 22,
   "id": "5caf25e3",
   "metadata": {},
   "outputs": [
    {
     "data": {
      "text/plain": [
       "431429"
      ]
     },
     "execution_count": 22,
     "metadata": {},
     "output_type": "execute_result"
    }
   ],
   "source": [
    "# Before 'empty_value' filling total empty values\n",
    "df.isnull().sum().sum()"
   ]
  },
  {
   "cell_type": "code",
   "execution_count": 23,
   "id": "9b3564b2",
   "metadata": {},
   "outputs": [],
   "source": [
    "# Filling empty values with median\n",
    "for column in df.iloc[:,1:].columns:\n",
    "    df[column].fillna(df[column].median(), inplace=True)"
   ]
  },
  {
   "cell_type": "code",
   "execution_count": 24,
   "id": "5b26ab18",
   "metadata": {},
   "outputs": [
    {
     "data": {
      "text/plain": [
       "0"
      ]
     },
     "execution_count": 24,
     "metadata": {},
     "output_type": "execute_result"
    }
   ],
   "source": [
    "# Checking if there is further any 'empty_value' or not\n",
    "df.isnull().sum().sum()"
   ]
  },
  {
   "cell_type": "code",
   "execution_count": 25,
   "id": "7a092b67",
   "metadata": {},
   "outputs": [
    {
     "data": {
      "text/plain": [
       "(60000, 161)"
      ]
     },
     "execution_count": 25,
     "metadata": {},
     "output_type": "execute_result"
    }
   ],
   "source": [
    "df.shape"
   ]
  },
  {
   "cell_type": "markdown",
   "id": "479cd01e",
   "metadata": {},
   "source": [
    "## Graphical Analysis"
   ]
  },
  {
   "cell_type": "code",
   "execution_count": 26,
   "id": "c21c6b41",
   "metadata": {},
   "outputs": [
    {
     "data": {
      "image/png": "[encoded data removed]",
      "text/plain": [
       "<Figure size 1080x576 with 1 Axes>"
      ]
     },
     "metadata": {
      "needs_background": "light"
     },
     "output_type": "display_data"
    }
   ],
   "source": [
    "plt.figure(figsize=(15,8))\n",
    "sns.countplot(df['class'])\n",
    "plt.show()"
   ]
  },
  {
   "cell_type": "markdown",
   "id": "f4825356",
   "metadata": {},
   "source": [
    "#### From the given data it's clear that change 'neg' class percentage is high"
   ]
  },
  {
   "cell_type": "code",
   "execution_count": 27,
   "id": "0db57a4b",
   "metadata": {},
   "outputs": [
    {
     "data": {
      "text/html": [
       "<div>\n",
       "<style scoped>\n",
       "    .dataframe tbody tr th:only-of-type {\n",
       "        vertical-align: middle;\n",
       "    }\n",
       "\n",
       "    .dataframe tbody tr th {\n",
       "        vertical-align: top;\n",
       "    }\n",
       "\n",
       "    .dataframe thead th {\n",
       "        text-align: right;\n",
       "    }\n",
       "</style>\n",
       "<table border=\"1\" class=\"dataframe\">\n",
       "  <thead>\n",
       "    <tr style=\"text-align: right;\">\n",
       "      <th></th>\n",
       "      <th>index</th>\n",
       "      <th>class</th>\n",
       "    </tr>\n",
       "  </thead>\n",
       "  <tbody>\n",
       "    <tr>\n",
       "      <th>0</th>\n",
       "      <td>neg</td>\n",
       "      <td>0.983333</td>\n",
       "    </tr>\n",
       "    <tr>\n",
       "      <th>1</th>\n",
       "      <td>pos</td>\n",
       "      <td>0.016667</td>\n",
       "    </tr>\n",
       "  </tbody>\n",
       "</table>\n",
       "</div>"
      ],
      "text/plain": [
       "  index     class\n",
       "0   neg  0.983333\n",
       "1   pos  0.016667"
      ]
     },
     "execution_count": 27,
     "metadata": {},
     "output_type": "execute_result"
    }
   ],
   "source": [
    "dependent_feature_frame = df['class'].value_counts(normalize=True).to_frame().reset_index()\n",
    "dependent_feature_frame"
   ]
  },
  {
   "cell_type": "code",
   "execution_count": 28,
   "id": "7812269f",
   "metadata": {},
   "outputs": [
    {
     "data": {
      "image/png": "[encoded data removed]",
      "text/plain": [
       "<Figure size 1080x720 with 1 Axes>"
      ]
     },
     "metadata": {},
     "output_type": "display_data"
    }
   ],
   "source": [
    "# Visualize Class category count\n",
    "plt.figure(figsize=(15,10))\n",
    "plt.suptitle('\\nClass category count', fontsize=20, fontweight='bold', alpha=0.6)\n",
    "\n",
    "plt.pie(dependent_feature_frame['class']*100, labels=list(dependent_feature_frame['index'].values), shadow=True,autopct=\"%1.1f%%\", textprops={'fontsize':20})\n",
    "plt.show()"
   ]
  },
  {
   "cell_type": "code",
   "execution_count": 29,
   "id": "37616285",
   "metadata": {},
   "outputs": [],
   "source": [
    "## Converting categorial features to numerical value\n",
    "\n",
    "df['class'].replace('neg', 0, inplace=True)\n",
    "df['class'].replace('pos', 1, inplace=True)"
   ]
  },
  {
   "cell_type": "markdown",
   "id": "4acc3609",
   "metadata": {},
   "source": [
    "## Getting independent and dependent features"
   ]
  },
  {
   "cell_type": "code",
   "execution_count": 30,
   "id": "81cad2af",
   "metadata": {},
   "outputs": [],
   "source": [
    "X = df.iloc[:,1:] # Independent features\n",
    "y = df['class'] # dependent feature"
   ]
  },
  {
   "cell_type": "code",
   "execution_count": 31,
   "id": "d9f9d114",
   "metadata": {},
   "outputs": [
    {
     "data": {
      "text/html": [
       "<div>\n",
       "<style scoped>\n",
       "    .dataframe tbody tr th:only-of-type {\n",
       "        vertical-align: middle;\n",
       "    }\n",
       "\n",
       "    .dataframe tbody tr th {\n",
       "        vertical-align: top;\n",
       "    }\n",
       "\n",
       "    .dataframe thead th {\n",
       "        text-align: right;\n",
       "    }\n",
       "</style>\n",
       "<table border=\"1\" class=\"dataframe\">\n",
       "  <thead>\n",
       "    <tr style=\"text-align: right;\">\n",
       "      <th></th>\n",
       "      <th>aa_000</th>\n",
       "      <th>ac_000</th>\n",
       "      <th>ad_000</th>\n",
       "      <th>ae_000</th>\n",
       "      <th>af_000</th>\n",
       "      <th>ag_000</th>\n",
       "      <th>ag_001</th>\n",
       "      <th>ag_002</th>\n",
       "      <th>ag_003</th>\n",
       "      <th>ag_004</th>\n",
       "      <th>...</th>\n",
       "      <th>ee_002</th>\n",
       "      <th>ee_003</th>\n",
       "      <th>ee_004</th>\n",
       "      <th>ee_005</th>\n",
       "      <th>ee_006</th>\n",
       "      <th>ee_007</th>\n",
       "      <th>ee_008</th>\n",
       "      <th>ee_009</th>\n",
       "      <th>ef_000</th>\n",
       "      <th>eg_000</th>\n",
       "    </tr>\n",
       "  </thead>\n",
       "  <tbody>\n",
       "    <tr>\n",
       "      <th>0</th>\n",
       "      <td>76698</td>\n",
       "      <td>2.130706e+09</td>\n",
       "      <td>280.0</td>\n",
       "      <td>0.0</td>\n",
       "      <td>0.0</td>\n",
       "      <td>0.0</td>\n",
       "      <td>0.0</td>\n",
       "      <td>0.0</td>\n",
       "      <td>0.0</td>\n",
       "      <td>37250.0</td>\n",
       "      <td>...</td>\n",
       "      <td>1240520.0</td>\n",
       "      <td>493384.0</td>\n",
       "      <td>721044.0</td>\n",
       "      <td>469792.0</td>\n",
       "      <td>339156.0</td>\n",
       "      <td>157956.0</td>\n",
       "      <td>73224.0</td>\n",
       "      <td>0.0</td>\n",
       "      <td>0.0</td>\n",
       "      <td>0.0</td>\n",
       "    </tr>\n",
       "    <tr>\n",
       "      <th>1</th>\n",
       "      <td>33058</td>\n",
       "      <td>0.000000e+00</td>\n",
       "      <td>126.0</td>\n",
       "      <td>0.0</td>\n",
       "      <td>0.0</td>\n",
       "      <td>0.0</td>\n",
       "      <td>0.0</td>\n",
       "      <td>0.0</td>\n",
       "      <td>0.0</td>\n",
       "      <td>18254.0</td>\n",
       "      <td>...</td>\n",
       "      <td>421400.0</td>\n",
       "      <td>178064.0</td>\n",
       "      <td>293306.0</td>\n",
       "      <td>245416.0</td>\n",
       "      <td>133654.0</td>\n",
       "      <td>81140.0</td>\n",
       "      <td>97576.0</td>\n",
       "      <td>1500.0</td>\n",
       "      <td>0.0</td>\n",
       "      <td>0.0</td>\n",
       "    </tr>\n",
       "    <tr>\n",
       "      <th>2</th>\n",
       "      <td>41040</td>\n",
       "      <td>2.280000e+02</td>\n",
       "      <td>100.0</td>\n",
       "      <td>0.0</td>\n",
       "      <td>0.0</td>\n",
       "      <td>0.0</td>\n",
       "      <td>0.0</td>\n",
       "      <td>0.0</td>\n",
       "      <td>0.0</td>\n",
       "      <td>1648.0</td>\n",
       "      <td>...</td>\n",
       "      <td>277378.0</td>\n",
       "      <td>159812.0</td>\n",
       "      <td>423992.0</td>\n",
       "      <td>409564.0</td>\n",
       "      <td>320746.0</td>\n",
       "      <td>158022.0</td>\n",
       "      <td>95128.0</td>\n",
       "      <td>514.0</td>\n",
       "      <td>0.0</td>\n",
       "      <td>0.0</td>\n",
       "    </tr>\n",
       "    <tr>\n",
       "      <th>3</th>\n",
       "      <td>12</td>\n",
       "      <td>7.000000e+01</td>\n",
       "      <td>66.0</td>\n",
       "      <td>0.0</td>\n",
       "      <td>10.0</td>\n",
       "      <td>0.0</td>\n",
       "      <td>0.0</td>\n",
       "      <td>0.0</td>\n",
       "      <td>318.0</td>\n",
       "      <td>2212.0</td>\n",
       "      <td>...</td>\n",
       "      <td>240.0</td>\n",
       "      <td>46.0</td>\n",
       "      <td>58.0</td>\n",
       "      <td>44.0</td>\n",
       "      <td>10.0</td>\n",
       "      <td>0.0</td>\n",
       "      <td>0.0</td>\n",
       "      <td>0.0</td>\n",
       "      <td>4.0</td>\n",
       "      <td>32.0</td>\n",
       "    </tr>\n",
       "    <tr>\n",
       "      <th>4</th>\n",
       "      <td>60874</td>\n",
       "      <td>1.368000e+03</td>\n",
       "      <td>458.0</td>\n",
       "      <td>0.0</td>\n",
       "      <td>0.0</td>\n",
       "      <td>0.0</td>\n",
       "      <td>0.0</td>\n",
       "      <td>0.0</td>\n",
       "      <td>0.0</td>\n",
       "      <td>43752.0</td>\n",
       "      <td>...</td>\n",
       "      <td>622012.0</td>\n",
       "      <td>229790.0</td>\n",
       "      <td>405298.0</td>\n",
       "      <td>347188.0</td>\n",
       "      <td>286954.0</td>\n",
       "      <td>311560.0</td>\n",
       "      <td>433954.0</td>\n",
       "      <td>1218.0</td>\n",
       "      <td>0.0</td>\n",
       "      <td>0.0</td>\n",
       "    </tr>\n",
       "  </tbody>\n",
       "</table>\n",
       "<p>5 rows × 160 columns</p>\n",
       "</div>"
      ],
      "text/plain": [
       "   aa_000        ac_000  ad_000  ae_000  af_000  ag_000  ag_001  ag_002  \\\n",
       "0   76698  2.130706e+09   280.0     0.0     0.0     0.0     0.0     0.0   \n",
       "1   33058  0.000000e+00   126.0     0.0     0.0     0.0     0.0     0.0   \n",
       "2   41040  2.280000e+02   100.0     0.0     0.0     0.0     0.0     0.0   \n",
       "3      12  7.000000e+01    66.0     0.0    10.0     0.0     0.0     0.0   \n",
       "4   60874  1.368000e+03   458.0     0.0     0.0     0.0     0.0     0.0   \n",
       "\n",
       "   ag_003   ag_004  ...     ee_002    ee_003    ee_004    ee_005    ee_006  \\\n",
       "0     0.0  37250.0  ...  1240520.0  493384.0  721044.0  469792.0  339156.0   \n",
       "1     0.0  18254.0  ...   421400.0  178064.0  293306.0  245416.0  133654.0   \n",
       "2     0.0   1648.0  ...   277378.0  159812.0  423992.0  409564.0  320746.0   \n",
       "3   318.0   2212.0  ...      240.0      46.0      58.0      44.0      10.0   \n",
       "4     0.0  43752.0  ...   622012.0  229790.0  405298.0  347188.0  286954.0   \n",
       "\n",
       "     ee_007    ee_008  ee_009  ef_000  eg_000  \n",
       "0  157956.0   73224.0     0.0     0.0     0.0  \n",
       "1   81140.0   97576.0  1500.0     0.0     0.0  \n",
       "2  158022.0   95128.0   514.0     0.0     0.0  \n",
       "3       0.0       0.0     0.0     4.0    32.0  \n",
       "4  311560.0  433954.0  1218.0     0.0     0.0  \n",
       "\n",
       "[5 rows x 160 columns]"
      ]
     },
     "execution_count": 31,
     "metadata": {},
     "output_type": "execute_result"
    }
   ],
   "source": [
    "X.head()"
   ]
  },
  {
   "cell_type": "code",
   "execution_count": 32,
   "id": "2a198771",
   "metadata": {},
   "outputs": [
    {
     "data": {
      "text/plain": [
       "0    0\n",
       "1    0\n",
       "2    0\n",
       "3    0\n",
       "4    0\n",
       "Name: class, dtype: int64"
      ]
     },
     "execution_count": 32,
     "metadata": {},
     "output_type": "execute_result"
    }
   ],
   "source": [
    "y.head()"
   ]
  },
  {
   "cell_type": "markdown",
   "id": "736d4903",
   "metadata": {},
   "source": [
    "## Getting training and test dataset"
   ]
  },
  {
   "cell_type": "code",
   "execution_count": 75,
   "id": "a5d63473",
   "metadata": {},
   "outputs": [],
   "source": [
    "from sklearn.model_selection import train_test_split"
   ]
  },
  {
   "cell_type": "code",
   "execution_count": 76,
   "id": "e323b022",
   "metadata": {},
   "outputs": [],
   "source": [
    "X_train, X_test, y_train, y_test = train_test_split(X,y, test_size=0.25, random_state=250)"
   ]
  },
  {
   "cell_type": "code",
   "execution_count": 77,
   "id": "44d29aaf",
   "metadata": {},
   "outputs": [
    {
     "data": {
      "text/plain": [
       "(45000, 160)"
      ]
     },
     "execution_count": 77,
     "metadata": {},
     "output_type": "execute_result"
    }
   ],
   "source": [
    "X_train.shape"
   ]
  },
  {
   "cell_type": "code",
   "execution_count": 78,
   "id": "bb6010d6",
   "metadata": {},
   "outputs": [
    {
     "data": {
      "text/plain": [
       "(45000,)"
      ]
     },
     "execution_count": 78,
     "metadata": {},
     "output_type": "execute_result"
    }
   ],
   "source": [
    "y_train.shape"
   ]
  },
  {
   "cell_type": "code",
   "execution_count": 79,
   "id": "dfc38098",
   "metadata": {},
   "outputs": [
    {
     "data": {
      "text/plain": [
       "(15000, 160)"
      ]
     },
     "execution_count": 79,
     "metadata": {},
     "output_type": "execute_result"
    }
   ],
   "source": [
    "X_test.shape"
   ]
  },
  {
   "cell_type": "code",
   "execution_count": 80,
   "id": "c603bd68",
   "metadata": {},
   "outputs": [
    {
     "data": {
      "text/plain": [
       "(15000,)"
      ]
     },
     "execution_count": 80,
     "metadata": {},
     "output_type": "execute_result"
    }
   ],
   "source": [
    "y_test.shape"
   ]
  },
  {
   "cell_type": "markdown",
   "id": "a261d9ba",
   "metadata": {},
   "source": [
    "## Scaling Data"
   ]
  },
  {
   "cell_type": "code",
   "execution_count": 81,
   "id": "33ea0df4",
   "metadata": {},
   "outputs": [],
   "source": [
    "from sklearn.preprocessing import StandardScaler"
   ]
  },
  {
   "cell_type": "code",
   "execution_count": 82,
   "id": "c1d6742e",
   "metadata": {},
   "outputs": [],
   "source": [
    "scaler = StandardScaler()"
   ]
  },
  {
   "cell_type": "code",
   "execution_count": 83,
   "id": "0ad0aaf1",
   "metadata": {},
   "outputs": [],
   "source": [
    "X_train = scaler.fit_transform(X_train)"
   ]
  },
  {
   "cell_type": "code",
   "execution_count": 84,
   "id": "bfb1d1aa",
   "metadata": {},
   "outputs": [],
   "source": [
    "X_test = scaler.transform(X_test)"
   ]
  },
  {
   "cell_type": "markdown",
   "id": "fe4eb50e",
   "metadata": {},
   "source": [
    "## Machine Learning"
   ]
  },
  {
   "cell_type": "code",
   "execution_count": 112,
   "id": "31566a7e",
   "metadata": {},
   "outputs": [],
   "source": [
    "from sklearn.linear_model import LogisticRegression\n",
    "from sklearn.svm import SVC\n",
    "from sklearn.tree import DecisionTreeClassifier\n",
    "from sklearn.ensemble import RandomForestClassifier\n",
    "from sklearn.ensemble import AdaBoostClassifier\n",
    "from sklearn.ensemble import GradientBoostingClassifier\n",
    "from xgboost import XGBClassifier\n",
    "\n",
    "from sklearn.metrics import roc_auc_score, classification_report, f1_score, precision_score, recall_score, accuracy_score, roc_curve"
   ]
  },
  {
   "cell_type": "code",
   "execution_count": 95,
   "id": "3d1f6530",
   "metadata": {},
   "outputs": [],
   "source": [
    "model_collection = {\n",
    "    1: LogisticRegression(),\n",
    "    2: SVC(),\n",
    "    3: DecisionTreeClassifier(),\n",
    "    4: RandomForestClassifier(),\n",
    "    5: AdaBoostClassifier(),\n",
    "    6: GradientBoostingClassifier(),\n",
    "    7: XGBClassifier()\n",
    "}"
   ]
  },
  {
   "cell_type": "code",
   "execution_count": 96,
   "id": "b4b74918",
   "metadata": {},
   "outputs": [
    {
     "data": {
      "text/plain": [
       "[1, 2, 3, 4, 5, 6, 7]"
      ]
     },
     "execution_count": 96,
     "metadata": {},
     "output_type": "execute_result"
    }
   ],
   "source": [
    "model_index = list(model_collection.keys())\n",
    "model_index"
   ]
  },
  {
   "cell_type": "code",
   "execution_count": 100,
   "id": "b76ff48e",
   "metadata": {
    "scrolled": false
   },
   "outputs": [
    {
     "name": "stdout",
     "output_type": "stream",
     "text": [
      "LogisticRegression()\n",
      "Model Performance for Training Set\n",
      "- Accuracy: 0.9928\n",
      "- F1: 0.7611\n",
      "- Precision: 0.8515\n",
      "- Recall: 0.6880\n",
      "- ROC AUC Score: 0.8430\n",
      "------------------------------------------------\n",
      "Model Performance for Test Set\n",
      "- Accuracy: 0.9907\n",
      "- F1: 0.9900\n",
      "- Precision: 0.7895\n",
      "- Recall: 0.6000\n",
      "- ROC AUC Score: 0.7986\n",
      "========================================\n",
      "\n",
      "\n",
      "SVC()\n",
      "Model Performance for Training Set\n",
      "- Accuracy: 0.9976\n",
      "- F1: 0.9211\n",
      "- Precision: 0.9969\n",
      "- Recall: 0.8560\n",
      "- ROC AUC Score: 0.9280\n",
      "------------------------------------------------\n",
      "Model Performance for Test Set\n",
      "- Accuracy: 0.9876\n",
      "- F1: 0.9843\n",
      "- Precision: 0.9324\n",
      "- Recall: 0.2760\n",
      "- ROC AUC Score: 0.6378\n",
      "========================================\n",
      "\n",
      "\n",
      "DecisionTreeClassifier()\n",
      "Model Performance for Training Set\n",
      "- Accuracy: 1.0000\n",
      "- F1: 1.0000\n",
      "- Precision: 1.0000\n",
      "- Recall: 1.0000\n",
      "- ROC AUC Score: 1.0000\n",
      "------------------------------------------------\n",
      "Model Performance for Test Set\n",
      "- Accuracy: 0.9903\n",
      "- F1: 0.9902\n",
      "- Precision: 0.7114\n",
      "- Recall: 0.7000\n",
      "- ROC AUC Score: 0.8476\n",
      "========================================\n",
      "\n",
      "\n",
      "RandomForestClassifier()\n",
      "Model Performance for Training Set\n",
      "- Accuracy: 1.0000\n",
      "- F1: 0.9993\n",
      "- Precision: 1.0000\n",
      "- Recall: 0.9987\n",
      "- ROC AUC Score: 0.9993\n",
      "------------------------------------------------\n",
      "Model Performance for Test Set\n",
      "- Accuracy: 0.9930\n",
      "- F1: 0.9924\n",
      "- Precision: 0.9006\n",
      "- Recall: 0.6520\n",
      "- ROC AUC Score: 0.8254\n",
      "========================================\n",
      "\n",
      "\n",
      "AdaBoostClassifier()\n",
      "Model Performance for Training Set\n",
      "- Accuracy: 0.9916\n",
      "- F1: 0.7292\n",
      "- Precision: 0.7879\n",
      "- Recall: 0.6787\n",
      "- ROC AUC Score: 0.8378\n",
      "------------------------------------------------\n",
      "Model Performance for Test Set\n",
      "- Accuracy: 0.9902\n",
      "- F1: 0.9897\n",
      "- Precision: 0.7512\n",
      "- Recall: 0.6160\n",
      "- ROC AUC Score: 0.8063\n",
      "========================================\n",
      "\n",
      "\n",
      "GradientBoostingClassifier()\n",
      "Model Performance for Training Set\n",
      "- Accuracy: 0.9960\n",
      "- F1: 0.8699\n",
      "- Precision: 0.9495\n",
      "- Recall: 0.8027\n",
      "- ROC AUC Score: 0.9010\n",
      "------------------------------------------------\n",
      "Model Performance for Test Set\n",
      "- Accuracy: 0.9922\n",
      "- F1: 0.9916\n",
      "- Precision: 0.8556\n",
      "- Recall: 0.6400\n",
      "- ROC AUC Score: 0.8191\n",
      "========================================\n",
      "\n",
      "\n",
      "XGBClassifier(base_score=0.5, booster='gbtree', callbacks=None,\n",
      "              colsample_bylevel=1, colsample_bynode=1, colsample_bytree=1,\n",
      "              early_stopping_rounds=None, enable_categorical=False,\n",
      "              eval_metric=None, feature_types=None, gamma=0, gpu_id=-1,\n",
      "              grow_policy='depthwise', importance_type=None,\n",
      "              interaction_constraints='', learning_rate=0.300000012,\n",
      "              max_bin=256, max_cat_threshold=64, max_cat_to_onehot=4,\n",
      "              max_delta_step=0, max_depth=6, max_leaves=0, min_child_weight=1,\n",
      "              missing=nan, monotone_constraints='()', n_estimators=100,\n",
      "              n_jobs=0, num_parallel_tree=1, predictor='auto', random_state=0, ...)\n",
      "Model Performance for Training Set\n",
      "- Accuracy: 1.0000\n",
      "- F1: 0.9993\n",
      "- Precision: 1.0000\n",
      "- Recall: 0.9987\n",
      "- ROC AUC Score: 0.9993\n",
      "------------------------------------------------\n",
      "Model Performance for Test Set\n",
      "- Accuracy: 0.9947\n",
      "- F1: 0.9944\n",
      "- Precision: 0.9167\n",
      "- Recall: 0.7480\n",
      "- ROC AUC Score: 0.8734\n",
      "========================================\n",
      "\n",
      "\n"
     ]
    }
   ],
   "source": [
    "for index in model_index:\n",
    "    curr_model = model_collection[index]    \n",
    "    curr_model.fit(X_train, y_train)\n",
    "\n",
    "    y_train_pred = curr_model.predict(X_train)\n",
    "    y_test_pred = curr_model.predict(X_test)\n",
    "    \n",
    "    \n",
    "    # Training Set Performance\n",
    "    model_train_accuracy = accuracy_score(y_train, y_train_pred)          #Calculate Accuracy\n",
    "    model_train_f1 = f1_score(y_train,y_train_pred)                       #Calculate F1 Score\n",
    "    model_train_precision = precision_score(y_train, y_train_pred)      # Calculate Precision Score\n",
    "    model_train_recall = recall_score(y_train, y_train_pred)            # Calculate Recall Score\n",
    "    model_train_rocauc_score = roc_auc_score(y_train, y_train_pred)     # Calculate ROC AUC Score\n",
    "\n",
    "    # Test Set Performance\n",
    "    model_test_accuracy = accuracy_score(y_test, y_test_pred)        # Calculate Accuracy\n",
    "    model_test_f1 = f1_score(y_test, y_test_pred, average='weighted')  # Calculate F1 Score\n",
    "    model_test_precision = precision_score(y_test, y_test_pred)      # Calculate Precision Score\n",
    "    model_test_recall = recall_score(y_test, y_test_pred)            # Calculate Recall Score\n",
    "    model_test_rocauc_score = roc_auc_score(y_test, y_test_pred)     # Calculate ROC AUC Score\n",
    "\n",
    "    print(curr_model)\n",
    "\n",
    "    print('Model Performance for Training Set')\n",
    "    print(\"- Accuracy: {:.4f}\".format(model_train_accuracy))\n",
    "    print(\"- F1: {:.4f}\".format(model_train_f1))\n",
    "    print(\"- Precision: {:.4f}\".format(model_train_precision))\n",
    "    print(\"- Recall: {:.4f}\".format(model_train_recall))\n",
    "    print(\"- ROC AUC Score: {:.4f}\".format(model_train_rocauc_score))\n",
    "\n",
    "\n",
    "\n",
    "    print('------------------------------------------------')\n",
    "\n",
    "    print('Model Performance for Test Set')\n",
    "    print(\"- Accuracy: {:.4f}\".format(model_test_accuracy))\n",
    "    print(\"- F1: {:.4f}\".format(model_test_f1))\n",
    "    print(\"- Precision: {:.4f}\".format(model_test_precision))\n",
    "    print(\"- Recall: {:.4f}\".format(model_test_recall))\n",
    "    print(\"- ROC AUC Score: {:.4f}\".format(model_test_rocauc_score))\n",
    "\n",
    "\n",
    "\n",
    "    print('='*40)\n",
    "    print('\\n')\n",
    "    \n",
    "    "
   ]
  },
  {
   "cell_type": "markdown",
   "id": "b1ab72ca",
   "metadata": {},
   "source": [
    "### 👉 Observation: From the roc auc score perspective, we can call that for most of the models are overfitted as the value of this with training data is quite high but that value with test data is significantly low."
   ]
  },
  {
   "cell_type": "markdown",
   "id": "5027dc1a",
   "metadata": {},
   "source": [
    "## We will try to get best possible model with the help of HyperParameter Tuning"
   ]
  },
  {
   "cell_type": "code",
   "execution_count": 101,
   "id": "b2492b3f",
   "metadata": {},
   "outputs": [],
   "source": [
    "from sklearn.model_selection import RandomizedSearchCV"
   ]
  },
  {
   "cell_type": "markdown",
   "id": "4ee85152",
   "metadata": {},
   "source": [
    "## HyperParameter Tuning with SVC"
   ]
  },
  {
   "cell_type": "code",
   "execution_count": 102,
   "id": "c64617fe",
   "metadata": {},
   "outputs": [],
   "source": [
    "params = {\n",
    "    'kernel': ['rbf', 'linear', 'sigmoid']\n",
    "}"
   ]
  },
  {
   "cell_type": "code",
   "execution_count": 103,
   "id": "dc56a1ba",
   "metadata": {},
   "outputs": [],
   "source": [
    "tuned_svc_model = RandomizedSearchCV(estimator=SVC(), param_distributions=params, n_jobs=-1, verbose=1, cv=3)"
   ]
  },
  {
   "cell_type": "code",
   "execution_count": 104,
   "id": "40457985",
   "metadata": {},
   "outputs": [
    {
     "name": "stdout",
     "output_type": "stream",
     "text": [
      "Fitting 3 folds for each of 3 candidates, totalling 9 fits\n"
     ]
    },
    {
     "data": {
      "text/plain": [
       "RandomizedSearchCV(cv=3, estimator=SVC(), n_jobs=-1,\n",
       "                   param_distributions={'kernel': ['rbf', 'linear', 'sigmoid']},\n",
       "                   verbose=1)"
      ]
     },
     "execution_count": 104,
     "metadata": {},
     "output_type": "execute_result"
    }
   ],
   "source": [
    "tuned_svc_model.fit(X_train, y_train)"
   ]
  },
  {
   "cell_type": "code",
   "execution_count": 105,
   "id": "b0d895de",
   "metadata": {},
   "outputs": [
    {
     "data": {
      "text/plain": [
       "{'kernel': 'linear'}"
      ]
     },
     "execution_count": 105,
     "metadata": {},
     "output_type": "execute_result"
    }
   ],
   "source": [
    "tuned_svc_model.best_params_"
   ]
  },
  {
   "cell_type": "code",
   "execution_count": 106,
   "id": "acb452ae",
   "metadata": {},
   "outputs": [
    {
     "data": {
      "text/plain": [
       "0.9913555555555557"
      ]
     },
     "execution_count": 106,
     "metadata": {},
     "output_type": "execute_result"
    }
   ],
   "source": [
    "tuned_svc_model.best_score_"
   ]
  },
  {
   "cell_type": "code",
   "execution_count": 140,
   "id": "0d9ca2ea",
   "metadata": {},
   "outputs": [],
   "source": [
    "svc_tuned = SVC(kernel='linear')"
   ]
  },
  {
   "cell_type": "code",
   "execution_count": 141,
   "id": "198cc8ff",
   "metadata": {},
   "outputs": [
    {
     "data": {
      "text/plain": [
       "SVC(kernel='linear')"
      ]
     },
     "execution_count": 141,
     "metadata": {},
     "output_type": "execute_result"
    }
   ],
   "source": [
    "svc_tuned.fit(X_train, y_train)"
   ]
  },
  {
   "cell_type": "code",
   "execution_count": 142,
   "id": "d061a33f",
   "metadata": {},
   "outputs": [],
   "source": [
    "tuned_y_pred_svc = svc_tuned.predict(X_test)"
   ]
  },
  {
   "cell_type": "code",
   "execution_count": 143,
   "id": "c88c92c8",
   "metadata": {},
   "outputs": [],
   "source": [
    "model_test_accuracy = accuracy_score(y_test, tuned_y_pred_svc)        # Calculate Accuracy\n",
    "model_test_f1 = f1_score(y_test, tuned_y_pred_svc, average='weighted')  # Calculate F1 Score\n",
    "model_test_precision = precision_score(y_test, tuned_y_pred_svc)      # Calculate Precision Score\n",
    "model_test_recall = recall_score(y_test, tuned_y_pred_svc)            # Calculate Recall Score\n",
    "model_test_rocauc_score = roc_auc_score(y_test, tuned_y_pred_svc)     # Calculate ROC AUC Score"
   ]
  },
  {
   "cell_type": "code",
   "execution_count": 144,
   "id": "512a1800",
   "metadata": {},
   "outputs": [
    {
     "name": "stdout",
     "output_type": "stream",
     "text": [
      "Model Performance for Test Set\n",
      "- Accuracy: 0.9916\n",
      "- F1: 0.9910\n",
      "- Precision: 0.8370\n",
      "- Recall: 0.6160\n",
      "- ROC AUC Score: 0.8070\n"
     ]
    }
   ],
   "source": [
    "print('Model Performance for Test Set')\n",
    "print(\"- Accuracy: {:.4f}\".format(model_test_accuracy))\n",
    "print(\"- F1: {:.4f}\".format(model_test_f1))\n",
    "print(\"- Precision: {:.4f}\".format(model_test_precision))\n",
    "print(\"- Recall: {:.4f}\".format(model_test_recall))\n",
    "print(\"- ROC AUC Score: {:.4f}\".format(model_test_rocauc_score))"
   ]
  },
  {
   "cell_type": "markdown",
   "id": "c1decf18",
   "metadata": {},
   "source": [
    "#### Observation\n",
    "- ROC AUC Score increased from 63.78% to 80.70%"
   ]
  },
  {
   "cell_type": "code",
   "execution_count": 114,
   "id": "bdb2940b",
   "metadata": {},
   "outputs": [
    {
     "data": {
      "image/png": "[encoded data removed]",
      "text/plain": [
       "<Figure size 864x576 with 1 Axes>"
      ]
     },
     "metadata": {
      "needs_background": "light"
     },
     "output_type": "display_data"
    }
   ],
   "source": [
    "fpr, tpr, thresholds = roc_curve(y_test, tuned_y_pred_svc)\n",
    "auc = model_test_rocauc_score # Getting 'roc_auc_score' of 'rbf_trained_model'\n",
    "\n",
    "plt.figure(figsize=(12,8))\n",
    "\n",
    "plt.suptitle('\\nReceiver Operating Characteristic (ROC) Curve', fontsize=20, fontweight='bold', alpha=0.6, y=1.)\n",
    "\n",
    "plt.plot(fpr, tpr, color='orange', label='ROC')\n",
    "plt.plot([0, 1], [0, 1], color='darkblue', linestyle='--',label='ROC curve (area = %0.2f)' % auc)\n",
    "\n",
    "plt.xlabel('False Positive Rate',fontdict={'fontsize': 20})\n",
    "plt.ylabel('True Positive Rate',fontdict={'fontsize': 20})\n",
    "\n",
    "plt.legend()\n",
    "plt.show()"
   ]
  },
  {
   "cell_type": "markdown",
   "id": "98f1fe9c",
   "metadata": {},
   "source": [
    "## HyperParameter Tuning with DecisionTreeClassifier"
   ]
  },
  {
   "cell_type": "code",
   "execution_count": 116,
   "id": "96bbac37",
   "metadata": {},
   "outputs": [],
   "source": [
    "params_dt = {\n",
    "    'criterion': ['gini', 'entropy'],\n",
    "    'min_samples_split': [4,6,10,13,18],\n",
    "    'min_samples_leaf': [3,5,7,9,12],\n",
    "}"
   ]
  },
  {
   "cell_type": "code",
   "execution_count": 117,
   "id": "ac242758",
   "metadata": {},
   "outputs": [],
   "source": [
    "tuned_dt_model = RandomizedSearchCV(estimator=DecisionTreeClassifier(), param_distributions=params_dt, n_jobs=-1, verbose=1, cv=3)"
   ]
  },
  {
   "cell_type": "code",
   "execution_count": 118,
   "id": "ea9e5311",
   "metadata": {},
   "outputs": [
    {
     "name": "stdout",
     "output_type": "stream",
     "text": [
      "Fitting 3 folds for each of 10 candidates, totalling 30 fits\n"
     ]
    },
    {
     "data": {
      "text/plain": [
       "RandomizedSearchCV(cv=3, estimator=DecisionTreeClassifier(), n_jobs=-1,\n",
       "                   param_distributions={'criterion': ['gini', 'entropy'],\n",
       "                                        'min_samples_leaf': [3, 5, 7, 9, 12],\n",
       "                                        'min_samples_split': [4, 6, 10, 13,\n",
       "                                                              18]},\n",
       "                   verbose=1)"
      ]
     },
     "execution_count": 118,
     "metadata": {},
     "output_type": "execute_result"
    }
   ],
   "source": [
    "tuned_dt_model.fit(X_train,y_train)"
   ]
  },
  {
   "cell_type": "code",
   "execution_count": 123,
   "id": "2942df44",
   "metadata": {},
   "outputs": [
    {
     "data": {
      "text/plain": [
       "{'min_samples_split': 13, 'min_samples_leaf': 9, 'criterion': 'gini'}"
      ]
     },
     "execution_count": 123,
     "metadata": {},
     "output_type": "execute_result"
    }
   ],
   "source": [
    "tuned_dt_model.best_params_"
   ]
  },
  {
   "cell_type": "code",
   "execution_count": 145,
   "id": "10a2eea8",
   "metadata": {},
   "outputs": [],
   "source": [
    "dt_tuned = DecisionTreeClassifier(min_samples_split=13, min_samples_leaf=9, criterion='gini')"
   ]
  },
  {
   "cell_type": "code",
   "execution_count": 146,
   "id": "891941a5",
   "metadata": {},
   "outputs": [
    {
     "data": {
      "text/plain": [
       "DecisionTreeClassifier(min_samples_leaf=9, min_samples_split=13)"
      ]
     },
     "execution_count": 146,
     "metadata": {},
     "output_type": "execute_result"
    }
   ],
   "source": [
    "dt_tuned.fit(X_train,y_train)"
   ]
  },
  {
   "cell_type": "code",
   "execution_count": 147,
   "id": "c7e5979a",
   "metadata": {},
   "outputs": [],
   "source": [
    "y_pred_dt_tuned=dt_tuned.predict(X_test)"
   ]
  },
  {
   "cell_type": "code",
   "execution_count": 152,
   "id": "02be058a",
   "metadata": {},
   "outputs": [
    {
     "data": {
      "image/png": "[encoded data removed]",
      "text/plain": [
       "<Figure size 1800x1440 with 1 Axes>"
      ]
     },
     "metadata": {
      "needs_background": "light"
     },
     "output_type": "display_data"
    }
   ],
   "source": [
    "from sklearn import tree\n",
    "moderate_fig = plt.figure(figsize=(25,20))\n",
    "plt.suptitle('Decision Tree Tuned Model', fontsize=25, fontweight='bold', alpha=0.6)\n",
    "tree.plot_tree(dt_tuned, filled=True)\n",
    "plt.show()"
   ]
  },
  {
   "cell_type": "code",
   "execution_count": 148,
   "id": "f3648362",
   "metadata": {},
   "outputs": [],
   "source": [
    "model_test_accuracy = accuracy_score(y_test, y_pred_dt_tuned)        # Calculate Accuracy\n",
    "model_test_f1 = f1_score(y_test, y_pred_dt_tuned, average='weighted')  # Calculate F1 Score\n",
    "model_test_precision = precision_score(y_test, y_pred_dt_tuned)      # Calculate Precision Score\n",
    "model_test_recall = recall_score(y_test, y_pred_dt_tuned)            # Calculate Recall Score\n",
    "model_test_rocauc_score = roc_auc_score(y_test, y_pred_dt_tuned)     # Calculate ROC AUC Score"
   ]
  },
  {
   "cell_type": "code",
   "execution_count": 149,
   "id": "e13dc61c",
   "metadata": {},
   "outputs": [
    {
     "name": "stdout",
     "output_type": "stream",
     "text": [
      "Model Performance for Test Set\n",
      "- Accuracy: 0.9909\n",
      "- F1: 0.9907\n",
      "- Precision: 0.7522\n",
      "- Recall: 0.6800\n",
      "- ROC AUC Score: 0.8381\n"
     ]
    }
   ],
   "source": [
    "print('Model Performance for Test Set')\n",
    "print(\"- Accuracy: {:.4f}\".format(model_test_accuracy))\n",
    "print(\"- F1: {:.4f}\".format(model_test_f1))\n",
    "print(\"- Precision: {:.4f}\".format(model_test_precision))\n",
    "print(\"- Recall: {:.4f}\".format(model_test_recall))\n",
    "print(\"- ROC AUC Score: {:.4f}\".format(model_test_rocauc_score))"
   ]
  },
  {
   "cell_type": "markdown",
   "id": "4cc09528",
   "metadata": {},
   "source": [
    "#### Observation:\n",
    "- ROC AUC Score reduced from 84.76% to 83.81%\n",
    "- May be we not get the best tuned model 😞"
   ]
  },
  {
   "cell_type": "code",
   "execution_count": 164,
   "id": "81731279",
   "metadata": {},
   "outputs": [
    {
     "data": {
      "image/png": "[encoded data removed]",
      "text/plain": [
       "<Figure size 864x576 with 1 Axes>"
      ]
     },
     "metadata": {
      "needs_background": "light"
     },
     "output_type": "display_data"
    }
   ],
   "source": [
    "fpr, tpr, thresholds = roc_curve(y_test, y_pred_dt_tuned)\n",
    "auc = model_test_rocauc_score # Getting 'roc_auc_score' of 'rbf_trained_model'\n",
    "\n",
    "plt.figure(figsize=(12,8))\n",
    "\n",
    "plt.suptitle('\\nReceiver Operating Characteristic (ROC) Curve', fontsize=20, fontweight='bold', alpha=0.6, y=1.)\n",
    "\n",
    "plt.plot(fpr, tpr, color='orange', label='ROC')\n",
    "plt.plot([0, 1], [0, 1], color='darkblue', linestyle='--',label='ROC curve (area = %0.2f)' % auc)\n",
    "\n",
    "plt.xlabel('False Positive Rate',fontdict={'fontsize': 20})\n",
    "plt.ylabel('True Positive Rate',fontdict={'fontsize': 20})\n",
    "\n",
    "plt.legend()\n",
    "plt.show()"
   ]
  },
  {
   "cell_type": "markdown",
   "id": "61e35321",
   "metadata": {},
   "source": [
    "## HyperParameter Tuning with RandomForestClassifier"
   ]
  },
  {
   "cell_type": "code",
   "execution_count": 154,
   "id": "48741944",
   "metadata": {},
   "outputs": [],
   "source": [
    "params_rand = {\n",
    "    'n_estimators': [90,100,115],\n",
    "    'criterion': ['gini', 'entropy'],\n",
    "    'max_depth': [2,6,10,18,25],\n",
    "    'min_samples_split': [2,5,9,14,19],\n",
    "    'min_samples_leaf': [4,8,13],\n",
    "}"
   ]
  },
  {
   "cell_type": "code",
   "execution_count": 157,
   "id": "e0530f54",
   "metadata": {},
   "outputs": [],
   "source": [
    "tuned_rf_model = RandomizedSearchCV(estimator=RandomForestClassifier(), param_distributions=params_rand, n_jobs=-1, verbose=1, cv=4)"
   ]
  },
  {
   "cell_type": "code",
   "execution_count": 158,
   "id": "867c02a7",
   "metadata": {},
   "outputs": [
    {
     "name": "stdout",
     "output_type": "stream",
     "text": [
      "Fitting 4 folds for each of 10 candidates, totalling 40 fits\n"
     ]
    },
    {
     "data": {
      "text/plain": [
       "RandomizedSearchCV(cv=4, estimator=RandomForestClassifier(), n_jobs=-1,\n",
       "                   param_distributions={'criterion': ['gini', 'entropy'],\n",
       "                                        'max_depth': [2, 6, 10, 18, 25],\n",
       "                                        'min_samples_leaf': [4, 8, 13],\n",
       "                                        'min_samples_split': [2, 5, 9, 14, 19],\n",
       "                                        'n_estimators': [90, 100, 115]},\n",
       "                   verbose=1)"
      ]
     },
     "execution_count": 158,
     "metadata": {},
     "output_type": "execute_result"
    }
   ],
   "source": [
    "tuned_rf_model.fit(X_train,y_train)"
   ]
  },
  {
   "cell_type": "code",
   "execution_count": 159,
   "id": "23aeb533",
   "metadata": {},
   "outputs": [
    {
     "data": {
      "text/plain": [
       "{'n_estimators': 100,\n",
       " 'min_samples_split': 14,\n",
       " 'min_samples_leaf': 4,\n",
       " 'max_depth': 25,\n",
       " 'criterion': 'entropy'}"
      ]
     },
     "execution_count": 159,
     "metadata": {},
     "output_type": "execute_result"
    }
   ],
   "source": [
    "tuned_rf_model.best_params_"
   ]
  },
  {
   "cell_type": "code",
   "execution_count": 160,
   "id": "49b59b76",
   "metadata": {},
   "outputs": [
    {
     "data": {
      "text/plain": [
       "0.9924666666666667"
      ]
     },
     "execution_count": 160,
     "metadata": {},
     "output_type": "execute_result"
    }
   ],
   "source": [
    "tuned_rf_model.best_score_"
   ]
  },
  {
   "cell_type": "code",
   "execution_count": 161,
   "id": "f37903c1",
   "metadata": {},
   "outputs": [],
   "source": [
    "model_rf_tuned = RandomForestClassifier(n_estimators=100, min_samples_leaf=4, min_samples_split=14, max_depth=25, criterion='entropy')"
   ]
  },
  {
   "cell_type": "code",
   "execution_count": 162,
   "id": "3b48dddc",
   "metadata": {},
   "outputs": [
    {
     "data": {
      "text/plain": [
       "RandomForestClassifier(criterion='entropy', max_depth=25, min_samples_leaf=4,\n",
       "                       min_samples_split=14)"
      ]
     },
     "execution_count": 162,
     "metadata": {},
     "output_type": "execute_result"
    }
   ],
   "source": [
    "model_rf_tuned.fit(X_train,y_train)"
   ]
  },
  {
   "cell_type": "code",
   "execution_count": 166,
   "id": "2780009a",
   "metadata": {},
   "outputs": [],
   "source": [
    "y_pred_rf_tuned=model_rf_tuned.predict(X_test)"
   ]
  },
  {
   "cell_type": "code",
   "execution_count": 167,
   "id": "69abe707",
   "metadata": {},
   "outputs": [],
   "source": [
    "model_test_accuracy = accuracy_score(y_test, y_pred_rf_tuned)        # Calculate Accuracy\n",
    "model_test_f1 = f1_score(y_test, y_pred_rf_tuned, average='weighted')  # Calculate F1 Score\n",
    "model_test_precision = precision_score(y_test, y_pred_rf_tuned)      # Calculate Precision Score\n",
    "model_test_recall = recall_score(y_test, y_pred_rf_tuned)            # Calculate Recall Score\n",
    "model_test_rocauc_score = roc_auc_score(y_test, y_pred_rf_tuned)     # Calculate ROC AUC Score"
   ]
  },
  {
   "cell_type": "code",
   "execution_count": 168,
   "id": "76bd2447",
   "metadata": {},
   "outputs": [
    {
     "name": "stdout",
     "output_type": "stream",
     "text": [
      "Model Performance for Test Set\n",
      "- Accuracy: 0.9923\n",
      "- F1: 0.9915\n",
      "- Precision: 0.8941\n",
      "- Recall: 0.6080\n",
      "- ROC AUC Score: 0.8034\n"
     ]
    }
   ],
   "source": [
    "print('Model Performance for Test Set')\n",
    "print(\"- Accuracy: {:.4f}\".format(model_test_accuracy))\n",
    "print(\"- F1: {:.4f}\".format(model_test_f1))\n",
    "print(\"- Precision: {:.4f}\".format(model_test_precision))\n",
    "print(\"- Recall: {:.4f}\".format(model_test_recall))\n",
    "print(\"- ROC AUC Score: {:.4f}\".format(model_test_rocauc_score))"
   ]
  },
  {
   "cell_type": "markdown",
   "id": "12fcd170",
   "metadata": {},
   "source": [
    "#### Observation:\n",
    "- ROC AUC Score reduced from 82.54% to 80.34%\n",
    "- May be we not get the best tuned model 😞"
   ]
  },
  {
   "cell_type": "code",
   "execution_count": 169,
   "id": "079ae9b9",
   "metadata": {},
   "outputs": [
    {
     "data": {
      "image/png": "[encoded data removed]",
      "text/plain": [
       "<Figure size 864x576 with 1 Axes>"
      ]
     },
     "metadata": {
      "needs_background": "light"
     },
     "output_type": "display_data"
    }
   ],
   "source": [
    "fpr, tpr, thresholds = roc_curve(y_test, y_pred_rf_tuned)\n",
    "auc = model_test_rocauc_score # Getting 'roc_auc_score' of 'rbf_trained_model'\n",
    "\n",
    "plt.figure(figsize=(12,8))\n",
    "\n",
    "plt.suptitle('\\nReceiver Operating Characteristic (ROC) Curve', fontsize=20, fontweight='bold', alpha=0.6, y=1.)\n",
    "\n",
    "plt.plot(fpr, tpr, color='orange', label='ROC')\n",
    "plt.plot([0, 1], [0, 1], color='darkblue', linestyle='--',label='ROC curve (area = %0.2f)' % auc)\n",
    "\n",
    "plt.xlabel('False Positive Rate',fontdict={'fontsize': 20})\n",
    "plt.ylabel('True Positive Rate',fontdict={'fontsize': 20})\n",
    "\n",
    "plt.legend()\n",
    "plt.show()"
   ]
  },
  {
   "cell_type": "code",
   "execution_count": null,
   "id": "2cd3e4e9",
   "metadata": {},
   "outputs": [],
   "source": []
  },
  {
   "cell_type": "markdown",
   "id": "1e8d937b",
   "metadata": {},
   "source": [
    "## HyperParameter Tuning with AdaBoostClassifier"
   ]
  },
  {
   "cell_type": "code",
   "execution_count": 173,
   "id": "8c438f9b",
   "metadata": {},
   "outputs": [],
   "source": [
    "params_adaboost = {\n",
    "    'n_estimators': [75,90,100],\n",
    "    'learning_rate': [0.01,0.0001,0.001],\n",
    "}"
   ]
  },
  {
   "cell_type": "code",
   "execution_count": 174,
   "id": "f8554d12",
   "metadata": {},
   "outputs": [],
   "source": [
    "tuned_adaboost_model=RandomizedSearchCV(estimator=AdaBoostClassifier(), param_distributions=params_adaboost, verbose=1, cv=5, n_jobs=-1)"
   ]
  },
  {
   "cell_type": "code",
   "execution_count": 175,
   "id": "4edca7d5",
   "metadata": {},
   "outputs": [
    {
     "name": "stdout",
     "output_type": "stream",
     "text": [
      "Fitting 5 folds for each of 9 candidates, totalling 45 fits\n"
     ]
    },
    {
     "data": {
      "text/plain": [
       "RandomizedSearchCV(cv=5, estimator=AdaBoostClassifier(), n_jobs=-1,\n",
       "                   param_distributions={'learning_rate': [0.01, 0.0001, 0.001],\n",
       "                                        'n_estimators': [75, 90, 100]},\n",
       "                   verbose=1)"
      ]
     },
     "execution_count": 175,
     "metadata": {},
     "output_type": "execute_result"
    }
   ],
   "source": [
    "tuned_adaboost_model.fit(X_train, y_train)"
   ]
  },
  {
   "cell_type": "code",
   "execution_count": 176,
   "id": "ac3d4639",
   "metadata": {},
   "outputs": [
    {
     "data": {
      "text/plain": [
       "{'n_estimators': 75, 'learning_rate': 0.01}"
      ]
     },
     "execution_count": 176,
     "metadata": {},
     "output_type": "execute_result"
    }
   ],
   "source": [
    "tuned_adaboost_model.best_params_"
   ]
  },
  {
   "cell_type": "code",
   "execution_count": 178,
   "id": "7f4e63cf",
   "metadata": {},
   "outputs": [
    {
     "data": {
      "text/plain": [
       "0.9833333333333332"
      ]
     },
     "execution_count": 178,
     "metadata": {},
     "output_type": "execute_result"
    }
   ],
   "source": [
    "tuned_adaboost_model.best_score_"
   ]
  },
  {
   "cell_type": "code",
   "execution_count": 179,
   "id": "301234e2",
   "metadata": {},
   "outputs": [],
   "source": [
    "ada_tuned_model=AdaBoostClassifier(n_estimators=75, learning_rate=0.01)"
   ]
  },
  {
   "cell_type": "code",
   "execution_count": 180,
   "id": "ad2729e6",
   "metadata": {},
   "outputs": [
    {
     "data": {
      "text/plain": [
       "AdaBoostClassifier(learning_rate=0.01, n_estimators=75)"
      ]
     },
     "execution_count": 180,
     "metadata": {},
     "output_type": "execute_result"
    }
   ],
   "source": [
    "ada_tuned_model.fit(X_train, y_train)"
   ]
  },
  {
   "cell_type": "code",
   "execution_count": 182,
   "id": "c1a9b3cc",
   "metadata": {},
   "outputs": [],
   "source": [
    "y_pred_ada_tuned=ada_tuned_model.predict(X_test)"
   ]
  },
  {
   "cell_type": "code",
   "execution_count": 183,
   "id": "796daa9f",
   "metadata": {},
   "outputs": [],
   "source": [
    "model_test_accuracy = accuracy_score(y_test, y_pred_ada_tuned)        # Calculate Accuracy\n",
    "model_test_f1 = f1_score(y_test, y_pred_ada_tuned, average='weighted')  # Calculate F1 Score\n",
    "model_test_precision = precision_score(y_test, y_pred_ada_tuned)      # Calculate Precision Score\n",
    "model_test_recall = recall_score(y_test, y_pred_ada_tuned)            # Calculate Recall Score\n",
    "model_test_rocauc_score_ada = roc_auc_score(y_test, y_pred_ada_tuned)     # Calculate ROC AUC Score"
   ]
  },
  {
   "cell_type": "code",
   "execution_count": 184,
   "id": "aa204f57",
   "metadata": {},
   "outputs": [
    {
     "name": "stdout",
     "output_type": "stream",
     "text": [
      "Model Performance for Test Set\n",
      "- Accuracy: 0.9833\n",
      "- F1: 0.9751\n",
      "- Precision: 0.0000\n",
      "- Recall: 0.0000\n",
      "- ROC AUC Score: 0.8034\n"
     ]
    }
   ],
   "source": [
    "print('Model Performance for Test Set')\n",
    "print(\"- Accuracy: {:.4f}\".format(model_test_accuracy))\n",
    "print(\"- F1: {:.4f}\".format(model_test_f1))\n",
    "print(\"- Precision: {:.4f}\".format(model_test_precision))\n",
    "print(\"- Recall: {:.4f}\".format(model_test_recall))\n",
    "print(\"- ROC AUC Score: {:.4f}\".format(model_test_rocauc_score))"
   ]
  },
  {
   "cell_type": "markdown",
   "id": "60e47b9e",
   "metadata": {},
   "source": [
    "#### Observation:\n",
    "- ROC AUC Score found near about raw model prediction"
   ]
  },
  {
   "cell_type": "code",
   "execution_count": 185,
   "id": "bdde547b",
   "metadata": {},
   "outputs": [
    {
     "data": {
      "image/png": "[encoded data removed]",
      "text/plain": [
       "<Figure size 864x576 with 1 Axes>"
      ]
     },
     "metadata": {
      "needs_background": "light"
     },
     "output_type": "display_data"
    }
   ],
   "source": [
    "fpr, tpr, thresholds = roc_curve(y_test, y_pred_ada_tuned)\n",
    "auc = model_test_rocauc_score_ada # Getting 'roc_auc_score' of 'rbf_trained_model'\n",
    "\n",
    "plt.figure(figsize=(12,8))\n",
    "\n",
    "plt.suptitle('\\nReceiver Operating Characteristic (ROC) Curve', fontsize=20, fontweight='bold', alpha=0.6, y=1.)\n",
    "\n",
    "plt.plot(fpr, tpr, color='orange', label='ROC')\n",
    "plt.plot([0, 1], [0, 1], color='darkblue', linestyle='--',label='ROC curve (area = %0.2f)' % auc)\n",
    "\n",
    "plt.xlabel('False Positive Rate',fontdict={'fontsize': 20})\n",
    "plt.ylabel('True Positive Rate',fontdict={'fontsize': 20})\n",
    "\n",
    "plt.legend()\n",
    "plt.show()"
   ]
  },
  {
   "cell_type": "code",
   "execution_count": null,
   "id": "62bd8935",
   "metadata": {},
   "outputs": [],
   "source": []
  },
  {
   "cell_type": "markdown",
   "id": "93eeca97",
   "metadata": {},
   "source": [
    "## HyperParameter Tuning with GradientBoostingClassifier"
   ]
  },
  {
   "cell_type": "code",
   "execution_count": 191,
   "id": "8e1f9e72",
   "metadata": {},
   "outputs": [],
   "source": [
    "params_grad = {\n",
    "    'loss': ['log_loss', 'exponential'],\n",
    "    'learning_rate': [0.001,0.0001],\n",
    "    'n_estimators': [100,115],\n",
    "    'criterion': ['friedman_mse', 'squared_error'],\n",
    "    'min_samples_split': [4,7,10,13],\n",
    "    'min_samples_leaf': [5,9,12,15],\n",
    "    'max_depth': [2,6,15,25],\n",
    "}"
   ]
  },
  {
   "cell_type": "code",
   "execution_count": 192,
   "id": "e245d7de",
   "metadata": {},
   "outputs": [],
   "source": [
    "tuned_grad_model=RandomizedSearchCV(estimator=GradientBoostingClassifier(),param_distributions=params_grad, cv=3, verbose=1, n_jobs=-1)"
   ]
  },
  {
   "cell_type": "code",
   "execution_count": null,
   "id": "87ab3cfc",
   "metadata": {},
   "outputs": [],
   "source": [
    "tuned_grad_model.fit(X_train, y_train)"
   ]
  },
  {
   "cell_type": "code",
   "execution_count": null,
   "id": "438f82ba",
   "metadata": {},
   "outputs": [],
   "source": []
  },
  {
   "cell_type": "code",
   "execution_count": null,
   "id": "afd8de55",
   "metadata": {},
   "outputs": [],
   "source": []
  },
  {
   "cell_type": "code",
   "execution_count": null,
   "id": "d8c62316",
   "metadata": {},
   "outputs": [],
   "source": []
  },
  {
   "cell_type": "code",
   "execution_count": null,
   "id": "8b6c3f2b",
   "metadata": {},
   "outputs": [],
   "source": []
  },
  {
   "cell_type": "code",
   "execution_count": null,
   "id": "8f284993",
   "metadata": {},
   "outputs": [],
   "source": []
  },
  {
   "cell_type": "code",
   "execution_count": null,
   "id": "e899db29",
   "metadata": {},
   "outputs": [],
   "source": []
  },
  {
   "cell_type": "code",
   "execution_count": null,
   "id": "9c9ae132",
   "metadata": {},
   "outputs": [],
   "source": []
  },
  {
   "cell_type": "code",
   "execution_count": null,
   "id": "11753f4b",
   "metadata": {},
   "outputs": [],
   "source": []
  },
  {
   "cell_type": "code",
   "execution_count": null,
   "id": "7bbbea06",
   "metadata": {},
   "outputs": [],
   "source": []
  },
  {
   "cell_type": "code",
   "execution_count": null,
   "id": "357d8ca2",
   "metadata": {},
   "outputs": [],
   "source": []
  },
  {
   "cell_type": "code",
   "execution_count": null,
   "id": "dde534d9",
   "metadata": {},
   "outputs": [],
   "source": []
  },
  {
   "cell_type": "code",
   "execution_count": null,
   "id": "9c31eee9",
   "metadata": {},
   "outputs": [],
   "source": []
  },
  {
   "cell_type": "code",
   "execution_count": null,
   "id": "9beda1c1",
   "metadata": {},
   "outputs": [],
   "source": []
  },
  {
   "cell_type": "code",
   "execution_count": null,
   "id": "804b8d25",
   "metadata": {},
   "outputs": [],
   "source": []
  }
 ],
 "metadata": {
  "kernelspec": {
   "display_name": "Python 3 (ipykernel)",
   "language": "python",
   "name": "python3"
  },
  "language_info": {
   "codemirror_mode": {
    "name": "ipython",
    "version": 3
   },
   "file_extension": ".py",
   "mimetype": "text/x-python",
   "name": "python",
   "nbconvert_exporter": "python",
   "pygments_lexer": "ipython3",
   "version": "3.9.12"
  }
 },
 "nbformat": 4,
 "nbformat_minor": 5
}
